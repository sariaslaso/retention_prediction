{
 "cells": [
  {
   "cell_type": "code",
   "execution_count": null,
   "id": "4437e723",
   "metadata": {},
   "outputs": [],
   "source": [
    "# use TensorFlow decision forests to predict customer churn"
   ]
  },
  {
   "cell_type": "code",
   "execution_count": 2,
   "id": "c8d8998a",
   "metadata": {},
   "outputs": [],
   "source": [
    "import pandas as pd\n",
    "import numpy as np\n",
    "import tensorflow as tf\n",
    "\n",
    "from sklearn.model_selection import train_test_split\n",
    "import math\n",
    "\n",
    "from sklearn.metrics import roc_auc_score\n",
    "from sklearn.metrics import accuracy_score\n",
    "from sklearn.metrics import precision_score\n",
    "from sklearn.metrics import recall_score\n",
    "from sklearn.metrics import f1_score\n",
    "\n",
    "import tensorflow_decision_forests as tfdf\n",
    "\n",
    "import matplotlib.pyplot as plt"
   ]
  },
  {
   "cell_type": "markdown",
   "id": "2f97a9b9",
   "metadata": {},
   "source": [
    "##### helper functions"
   ]
  },
  {
   "cell_type": "code",
   "execution_count": 3,
   "id": "2eae4fac",
   "metadata": {},
   "outputs": [],
   "source": [
    "def trainRandomForest(tf_dataset, n_trees, max_depth):\n",
    "    \n",
    "    model = tfdf.keras.RandomForestModel(num_trees = n_trees, max_depth = max_depth, verbose = 0, \n",
    "                                        compute_oob_variable_importances = True)\n",
    "    \n",
    "    model.fit(tf_dataset)\n",
    "    \n",
    "    return model\n",
    "\n",
    "def trainGBTModel(tf_dataset, tf_validation_data, n_trees, max_depth):\n",
    "\n",
    "    model_gbt = tfdf.keras.GradientBoostedTreesModel(features = all_features, \n",
    "                                                     exclude_non_specified_features = True, \n",
    "                                                     num_trees = n_trees, \n",
    "                                                     max_depth = max_depth, \n",
    "                                                     compute_permutation_variable_importance = True, \n",
    "                                                     verbose = 0)\n",
    "    \n",
    "    model_gbt.fit(tf_dataset, validation_data = tf_validation_data)\n",
    "    \n",
    "    return model_gbt\n",
    "\n",
    "\n",
    "def computeMetrics(model, val_dataset, label):\n",
    " \n",
    "    # evaluate the model\n",
    "    evaluation = model.predict(val_dataset)\n",
    "\n",
    "    # predicted probabilities of subscription renewal\n",
    "    predicted_probs = evaluation.flatten()\n",
    "\n",
    "\n",
    "    predictions = (predicted_probs > 0.5).astype(int)\n",
    "    \n",
    "    metrics = {\n",
    "        \"accuracy\": accuracy_score(val_ds_pd[label], predictions),\n",
    "        \"precision\": precision_score(val_ds_pd[label], predictions),\n",
    "        \"recall\": recall_score(val_ds_pd[label], predictions),\n",
    "        \"f1\": f1_score(val_ds_pd[label], predictions),\n",
    "        \"roc_auc\": roc_auc_score(val_ds_pd[label], predictions),\n",
    "    }\n",
    "    \n",
    "    return metrics\n"
   ]
  },
  {
   "cell_type": "markdown",
   "id": "9b048175",
   "metadata": {},
   "source": [
    "##### load dataset"
   ]
  },
  {
   "cell_type": "code",
   "execution_count": 4,
   "id": "af0e2a81",
   "metadata": {},
   "outputs": [
    {
     "name": "stdout",
     "output_type": "stream",
     "text": [
      "413955 examples, and 37 features in the dataset\n"
     ]
    }
   ],
   "source": [
    "# load dataset\n",
    "dataset = pd.read_csv(\"dataset.csv\", low_memory = False)\n",
    "\n",
    "# dataset.shape\n",
    "\n",
    "print(\"{} examples, and {} features in the dataset\".format(\n",
    "    dataset.shape[0], dataset.shape[1]))"
   ]
  },
  {
   "cell_type": "code",
   "execution_count": 5,
   "id": "f859c591",
   "metadata": {},
   "outputs": [
    {
     "data": {
      "text/plain": [
       "Index(['subscription_id', 'observation_dt', 'is_retained', 'specialization_id',\n",
       "       'cnt_courses_in_specialization', 'specialization_domain',\n",
       "       'is_professional_certificate', 'is_gateway_certificate',\n",
       "       'learner_days_since_registration', 'learner_country_group',\n",
       "       'learner_gender', 'learner_cnt_other_courses_active',\n",
       "       'learner_cnt_other_courses_paid_active',\n",
       "       'learner_cnt_other_courses_items_completed',\n",
       "       'learner_cnt_other_courses_paid_items_completed',\n",
       "       'learner_cnt_other_transactions_past', 'learner_other_revenue',\n",
       "       'subscription_period_order', 'days_since_last_payment',\n",
       "       'days_til_next_payment_due',\n",
       "       'cnt_enrollments_started_before_payment_period',\n",
       "       'cnt_enrollments_completed_before_payment_period',\n",
       "       'cnt_enrollments_active_before_payment_period',\n",
       "       'cnt_items_completed_before_payment_period',\n",
       "       'cnt_graded_items_completed_before_payment_period',\n",
       "       'is_subscription_started_with_free_trial',\n",
       "       'cnt_enrollments_started_during_payment_period',\n",
       "       'cnt_enrollments_completed_during_payment_period',\n",
       "       'cnt_enrollments_active_during_payment_period',\n",
       "       'cnt_items_completed_during_payment_period',\n",
       "       'cnt_graded_items_completed_during_payment_period',\n",
       "       'is_active_capstone_during_pay_period',\n",
       "       'sum_hours_learning_before_payment_period',\n",
       "       'sum_hours_learning_during_payment_period',\n",
       "       'cnt_days_active_before_payment_period',\n",
       "       'cnt_days_active_during_payment_period',\n",
       "       'cnt_days_since_last_activity'],\n",
       "      dtype='object')"
      ]
     },
     "execution_count": 5,
     "metadata": {},
     "output_type": "execute_result"
    }
   ],
   "source": [
    "dataset.columns"
   ]
  },
  {
   "cell_type": "code",
   "execution_count": 6,
   "id": "b7fa67be",
   "metadata": {},
   "outputs": [
    {
     "data": {
      "text/plain": [
       "0"
      ]
     },
     "execution_count": 6,
     "metadata": {},
     "output_type": "execute_result"
    }
   ],
   "source": [
    "# remove NA values\n",
    "dataset = dataset.dropna()\n",
    "sum(dataset.isnull().sum())"
   ]
  },
  {
   "cell_type": "code",
   "execution_count": 7,
   "id": "421b8911",
   "metadata": {},
   "outputs": [],
   "source": [
    "# drop id and time features\n",
    "drop_features = [\"subscription_id\", \"observation_dt\", \"specialization_id\"]\n",
    "\n",
    "dataset = dataset.drop(columns = drop_features)"
   ]
  },
  {
   "cell_type": "code",
   "execution_count": 8,
   "id": "b5ca6e28",
   "metadata": {},
   "outputs": [
    {
     "data": {
      "text/plain": [
       "is_retained                                         float64\n",
       "cnt_courses_in_specialization                       float64\n",
       "specialization_domain                                object\n",
       "is_professional_certificate                          object\n",
       "is_gateway_certificate                               object\n",
       "learner_days_since_registration                     float64\n",
       "learner_country_group                                object\n",
       "learner_gender                                       object\n",
       "learner_cnt_other_courses_active                    float64\n",
       "learner_cnt_other_courses_paid_active               float64\n",
       "learner_cnt_other_courses_items_completed           float64\n",
       "learner_cnt_other_courses_paid_items_completed      float64\n",
       "learner_cnt_other_transactions_past                 float64\n",
       "learner_other_revenue                               float64\n",
       "subscription_period_order                           float64\n",
       "days_since_last_payment                             float64\n",
       "days_til_next_payment_due                           float64\n",
       "cnt_enrollments_started_before_payment_period       float64\n",
       "cnt_enrollments_completed_before_payment_period     float64\n",
       "cnt_enrollments_active_before_payment_period        float64\n",
       "cnt_items_completed_before_payment_period           float64\n",
       "cnt_graded_items_completed_before_payment_period    float64\n",
       "is_subscription_started_with_free_trial              object\n",
       "cnt_enrollments_started_during_payment_period       float64\n",
       "cnt_enrollments_completed_during_payment_period     float64\n",
       "cnt_enrollments_active_during_payment_period        float64\n",
       "cnt_items_completed_during_payment_period           float64\n",
       "cnt_graded_items_completed_during_payment_period    float64\n",
       "is_active_capstone_during_pay_period                 object\n",
       "sum_hours_learning_before_payment_period            float64\n",
       "sum_hours_learning_during_payment_period            float64\n",
       "cnt_days_active_before_payment_period               float64\n",
       "cnt_days_active_during_payment_period               float64\n",
       "cnt_days_since_last_activity                        float64\n",
       "dtype: object"
      ]
     },
     "execution_count": 8,
     "metadata": {},
     "output_type": "execute_result"
    }
   ],
   "source": [
    "dataset.dtypes"
   ]
  },
  {
   "cell_type": "code",
   "execution_count": 9,
   "id": "384bc41b",
   "metadata": {},
   "outputs": [],
   "source": [
    "# transform boolean columns into string type\n",
    "\n",
    "bool_cols = [\"is_professional_certificate\", \"is_gateway_certificate\", \"is_active_capstone_during_pay_period\", \n",
    "             \"is_subscription_started_with_free_trial\", \"is_active_capstone_during_pay_period\"]\n",
    "\n",
    "for column in bool_cols:\n",
    "#     print(column)\n",
    "    dataset[column] = dataset[column].astype(str)"
   ]
  },
  {
   "cell_type": "code",
   "execution_count": 10,
   "id": "33d05ad8",
   "metadata": {},
   "outputs": [],
   "source": [
    "dataset[\"is_retained\"] = dataset[\"is_retained\"].astype(int)"
   ]
  },
  {
   "cell_type": "code",
   "execution_count": 11,
   "id": "c51294ac",
   "metadata": {},
   "outputs": [
    {
     "data": {
      "text/plain": [
       "54.36631694902562"
      ]
     },
     "execution_count": 11,
     "metadata": {},
     "output_type": "execute_result"
    }
   ],
   "source": [
    "# balanced dataset?\n",
    "# what percent of the data represents the positive class\n",
    "\n",
    "sum(dataset[\"is_retained\"]) / dataset.shape[0] * 100"
   ]
  },
  {
   "cell_type": "markdown",
   "id": "32e67d29",
   "metadata": {},
   "source": [
    "### Random Forest model"
   ]
  },
  {
   "cell_type": "code",
   "execution_count": 12,
   "id": "2c3c2b23",
   "metadata": {},
   "outputs": [],
   "source": [
    "# split dataset into training, validation and test sets\n",
    "\n",
    "random_state = 1234\n",
    "\n",
    "label = \"is_retained\"\n",
    "\n",
    "train_ds_pd, val_ds_pd = train_test_split(dataset, test_size = 0.4, random_state = random_state)\n",
    "val_ds_pd, test_ds_pd = train_test_split(val_ds_pd, test_size = 0.5, random_state = random_state)"
   ]
  },
  {
   "cell_type": "code",
   "execution_count": 13,
   "id": "b93e8a4c",
   "metadata": {},
   "outputs": [
    {
     "name": "stdout",
     "output_type": "stream",
     "text": [
      "248371 examples in training, 82791 examples for validation, 82791 examples for testing.\n"
     ]
    }
   ],
   "source": [
    "print(\"{} examples in training, {} examples for validation, {} examples for testing.\".format(\n",
    "    train_ds_pd.shape[0], val_ds_pd.shape[0], test_ds_pd.shape[0]))"
   ]
  },
  {
   "cell_type": "code",
   "execution_count": 14,
   "id": "fe444a36",
   "metadata": {},
   "outputs": [],
   "source": [
    "# convert the pandas dataframe into tensorflow datasets\n",
    "\n",
    "train_ds = tfdf.keras.pd_dataframe_to_tf_dataset(train_ds_pd, label=label)\n",
    "val_ds = tfdf.keras.pd_dataframe_to_tf_dataset(val_ds_pd, label=label)\n",
    "test_ds = tfdf.keras.pd_dataframe_to_tf_dataset(test_ds_pd, label=label)"
   ]
  },
  {
   "cell_type": "markdown",
   "id": "1f7d9c1a",
   "metadata": {},
   "source": [
    "#### train and evaluate the model"
   ]
  },
  {
   "cell_type": "code",
   "execution_count": null,
   "id": "5a7a09e3",
   "metadata": {},
   "outputs": [],
   "source": [
    "trees = range(50, 1050, 50)\n",
    "\n",
    "accuracy = []\n",
    "precision = []\n",
    "recall = []\n",
    "f1 = []\n",
    "roc_auc = []"
   ]
  },
  {
   "cell_type": "code",
   "execution_count": 22,
   "id": "9d7fc090",
   "metadata": {},
   "outputs": [
    {
     "name": "stderr",
     "output_type": "stream",
     "text": [
      "[INFO 24-04-30 15:07:20.1359 EDT kernel.cc:1233] Loading model from path /var/folders/sc/c663j6bx65391kdjgk7jy_d00000gn/T/tmphxz4uvb0/model/ with prefix ab026115bd7f4d64\n",
      "[INFO 24-04-30 15:07:21.4079 EDT decision_forest.cc:734] Model loaded with 50 root(s), 517174 node(s), and 33 input feature(s).\n",
      "[INFO 24-04-30 15:07:21.4080 EDT abstract_model.cc:1344] Engine \"RandomForestOptPred\" built\n",
      "[INFO 24-04-30 15:07:21.4080 EDT kernel.cc:1061] Use fast generic engine\n"
     ]
    },
    {
     "name": "stdout",
     "output_type": "stream",
     "text": [
      "trained forest with 50 trees\n",
      "83/83 [==============================] - 2s 27ms/step\n"
     ]
    },
    {
     "name": "stderr",
     "output_type": "stream",
     "text": [
      "[INFO 24-04-30 15:10:57.3742 EDT kernel.cc:1233] Loading model from path /var/folders/sc/c663j6bx65391kdjgk7jy_d00000gn/T/tmpq3qa1s4a/model/ with prefix 46fb34ca8a5f427c\n",
      "[INFO 24-04-30 15:11:00.0984 EDT decision_forest.cc:734] Model loaded with 100 root(s), 1042346 node(s), and 33 input feature(s).\n",
      "[INFO 24-04-30 15:11:00.0984 EDT abstract_model.cc:1344] Engine \"RandomForestOptPred\" built\n",
      "[INFO 24-04-30 15:11:00.0984 EDT kernel.cc:1061] Use fast generic engine\n"
     ]
    },
    {
     "name": "stdout",
     "output_type": "stream",
     "text": [
      "trained forest with 100 trees\n",
      "83/83 [==============================] - 2s 27ms/step\n",
      "WARNING:tensorflow:5 out of the last 5 calls to <function CoreModel._consumes_training_examples_until_eof at 0x13db3e700> triggered tf.function retracing. Tracing is expensive and the excessive number of tracings could be due to (1) creating @tf.function repeatedly in a loop, (2) passing tensors with different shapes, (3) passing Python objects instead of tensors. For (1), please define your @tf.function outside of the loop. For (2), @tf.function has reduce_retracing=True option that can avoid unnecessary retracing. For (3), please refer to https://www.tensorflow.org/guide/function#controlling_retracing and https://www.tensorflow.org/api_docs/python/tf/function for  more details.\n"
     ]
    },
    {
     "name": "stderr",
     "output_type": "stream",
     "text": [
      "[INFO 24-04-30 15:16:26.9185 EDT kernel.cc:1233] Loading model from path /var/folders/sc/c663j6bx65391kdjgk7jy_d00000gn/T/tmpa4eh7itr/model/ with prefix 50f70013aa0f4a2c\n",
      "[INFO 24-04-30 15:16:30.6605 EDT decision_forest.cc:734] Model loaded with 150 root(s), 1558600 node(s), and 33 input feature(s).\n",
      "[INFO 24-04-30 15:16:30.6605 EDT abstract_model.cc:1344] Engine \"RandomForestOptPred\" built\n",
      "[INFO 24-04-30 15:16:30.6606 EDT kernel.cc:1061] Use fast generic engine\n"
     ]
    },
    {
     "name": "stdout",
     "output_type": "stream",
     "text": [
      "WARNING:tensorflow:5 out of the last 5 calls to <function InferenceCoreModel.yggdrasil_model_path_tensor at 0x13f3e2c10> triggered tf.function retracing. Tracing is expensive and the excessive number of tracings could be due to (1) creating @tf.function repeatedly in a loop, (2) passing tensors with different shapes, (3) passing Python objects instead of tensors. For (1), please define your @tf.function outside of the loop. For (2), @tf.function has reduce_retracing=True option that can avoid unnecessary retracing. For (3), please refer to https://www.tensorflow.org/guide/function#controlling_retracing and https://www.tensorflow.org/api_docs/python/tf/function for  more details.\n",
      "trained forest with 150 trees\n",
      "83/83 [==============================] - 3s 34ms/step\n",
      "WARNING:tensorflow:6 out of the last 6 calls to <function CoreModel._consumes_training_examples_until_eof at 0x13db3e700> triggered tf.function retracing. Tracing is expensive and the excessive number of tracings could be due to (1) creating @tf.function repeatedly in a loop, (2) passing tensors with different shapes, (3) passing Python objects instead of tensors. For (1), please define your @tf.function outside of the loop. For (2), @tf.function has reduce_retracing=True option that can avoid unnecessary retracing. For (3), please refer to https://www.tensorflow.org/guide/function#controlling_retracing and https://www.tensorflow.org/api_docs/python/tf/function for  more details.\n"
     ]
    },
    {
     "name": "stderr",
     "output_type": "stream",
     "text": [
      "[INFO 24-04-30 15:23:29.2653 EDT kernel.cc:1233] Loading model from path /var/folders/sc/c663j6bx65391kdjgk7jy_d00000gn/T/tmpc31qfeqk/model/ with prefix 4fb8d70708a4428f\n",
      "[INFO 24-04-30 15:23:34.2165 EDT decision_forest.cc:734] Model loaded with 200 root(s), 2066842 node(s), and 33 input feature(s).\n",
      "[INFO 24-04-30 15:23:34.2165 EDT abstract_model.cc:1344] Engine \"RandomForestOptPred\" built\n",
      "[INFO 24-04-30 15:23:34.2166 EDT kernel.cc:1061] Use fast generic engine\n"
     ]
    },
    {
     "name": "stdout",
     "output_type": "stream",
     "text": [
      "WARNING:tensorflow:6 out of the last 6 calls to <function InferenceCoreModel.yggdrasil_model_path_tensor at 0x13de01820> triggered tf.function retracing. Tracing is expensive and the excessive number of tracings could be due to (1) creating @tf.function repeatedly in a loop, (2) passing tensors with different shapes, (3) passing Python objects instead of tensors. For (1), please define your @tf.function outside of the loop. For (2), @tf.function has reduce_retracing=True option that can avoid unnecessary retracing. For (3), please refer to https://www.tensorflow.org/guide/function#controlling_retracing and https://www.tensorflow.org/api_docs/python/tf/function for  more details.\n",
      "trained forest with 200 trees\n",
      "83/83 [==============================] - 4s 50ms/step\n"
     ]
    },
    {
     "name": "stderr",
     "output_type": "stream",
     "text": [
      "[INFO 24-04-30 15:31:57.9592 EDT kernel.cc:1233] Loading model from path /var/folders/sc/c663j6bx65391kdjgk7jy_d00000gn/T/tmplmvvcb7p/model/ with prefix c27f26216e7e47e2\n",
      "[INFO 24-04-30 15:32:04.1361 EDT decision_forest.cc:734] Model loaded with 250 root(s), 2585618 node(s), and 33 input feature(s).\n",
      "[INFO 24-04-30 15:32:04.1361 EDT abstract_model.cc:1344] Engine \"RandomForestOptPred\" built\n",
      "[INFO 24-04-30 15:32:04.1361 EDT kernel.cc:1061] Use fast generic engine\n"
     ]
    },
    {
     "name": "stdout",
     "output_type": "stream",
     "text": [
      "trained forest with 250 trees\n",
      "83/83 [==============================] - 5s 63ms/step\n"
     ]
    },
    {
     "name": "stderr",
     "output_type": "stream",
     "text": [
      "[INFO 24-04-30 15:42:02.9768 EDT kernel.cc:1233] Loading model from path /var/folders/sc/c663j6bx65391kdjgk7jy_d00000gn/T/tmpeqaadnyc/model/ with prefix b9ca8d2931334de6\n",
      "[INFO 24-04-30 15:42:10.2846 EDT decision_forest.cc:734] Model loaded with 300 root(s), 3115072 node(s), and 33 input feature(s).\n",
      "[INFO 24-04-30 15:42:10.2847 EDT abstract_model.cc:1344] Engine \"RandomForestOptPred\" built\n",
      "[INFO 24-04-30 15:42:10.2847 EDT kernel.cc:1061] Use fast generic engine\n"
     ]
    },
    {
     "name": "stdout",
     "output_type": "stream",
     "text": [
      "trained forest with 300 trees\n",
      "83/83 [==============================] - 7s 85ms/step\n"
     ]
    },
    {
     "name": "stderr",
     "output_type": "stream",
     "text": [
      "[INFO 24-04-30 15:53:43.1877 EDT kernel.cc:1233] Loading model from path /var/folders/sc/c663j6bx65391kdjgk7jy_d00000gn/T/tmpo0ee3p97/model/ with prefix 66666ae2e253422b\n",
      "[INFO 24-04-30 15:53:51.7516 EDT decision_forest.cc:734] Model loaded with 350 root(s), 3628918 node(s), and 33 input feature(s).\n",
      "[INFO 24-04-30 15:53:51.7516 EDT abstract_model.cc:1344] Engine \"RandomForestOptPred\" built\n",
      "[INFO 24-04-30 15:53:51.7516 EDT kernel.cc:1061] Use fast generic engine\n"
     ]
    },
    {
     "name": "stdout",
     "output_type": "stream",
     "text": [
      "trained forest with 350 trees\n",
      "83/83 [==============================] - 9s 102ms/step\n"
     ]
    },
    {
     "name": "stderr",
     "output_type": "stream",
     "text": [
      "[INFO 24-04-30 16:06:51.6703 EDT kernel.cc:1233] Loading model from path /var/folders/sc/c663j6bx65391kdjgk7jy_d00000gn/T/tmpm6dyp8dr/model/ with prefix abbec12c7b764df1\n",
      "[INFO 24-04-30 16:07:01.5865 EDT decision_forest.cc:734] Model loaded with 400 root(s), 4148506 node(s), and 33 input feature(s).\n",
      "[INFO 24-04-30 16:07:01.5866 EDT abstract_model.cc:1344] Engine \"RandomForestOptPred\" built\n",
      "[INFO 24-04-30 16:07:01.5866 EDT kernel.cc:1061] Use fast generic engine\n"
     ]
    },
    {
     "name": "stdout",
     "output_type": "stream",
     "text": [
      "trained forest with 400 trees\n",
      "83/83 [==============================] - 8s 101ms/step\n"
     ]
    },
    {
     "name": "stderr",
     "output_type": "stream",
     "text": [
      "[INFO 24-04-30 16:21:27.0989 EDT kernel.cc:1233] Loading model from path /var/folders/sc/c663j6bx65391kdjgk7jy_d00000gn/T/tmp9etog2aq/model/ with prefix a5866d76733f4838\n",
      "[INFO 24-04-30 16:21:38.2219 EDT decision_forest.cc:734] Model loaded with 450 root(s), 4673788 node(s), and 33 input feature(s).\n",
      "[INFO 24-04-30 16:21:38.2220 EDT abstract_model.cc:1344] Engine \"RandomForestOptPred\" built\n",
      "[INFO 24-04-30 16:21:38.2220 EDT kernel.cc:1061] Use fast generic engine\n"
     ]
    },
    {
     "name": "stdout",
     "output_type": "stream",
     "text": [
      "trained forest with 450 trees\n",
      "83/83 [==============================] - 9s 111ms/step\n"
     ]
    },
    {
     "name": "stderr",
     "output_type": "stream",
     "text": [
      "[INFO 24-04-30 16:37:42.7087 EDT kernel.cc:1233] Loading model from path /var/folders/sc/c663j6bx65391kdjgk7jy_d00000gn/T/tmp3uu2o7hr/model/ with prefix 5b8fc906c4dc4876\n",
      "[INFO 24-04-30 16:37:55.0515 EDT decision_forest.cc:734] Model loaded with 500 root(s), 5193590 node(s), and 33 input feature(s).\n",
      "[INFO 24-04-30 16:37:55.0515 EDT abstract_model.cc:1344] Engine \"RandomForestOptPred\" built\n",
      "[INFO 24-04-30 16:37:55.0516 EDT kernel.cc:1061] Use fast generic engine\n"
     ]
    },
    {
     "name": "stdout",
     "output_type": "stream",
     "text": [
      "trained forest with 500 trees\n",
      "83/83 [==============================] - 10s 123ms/step\n"
     ]
    },
    {
     "name": "stderr",
     "output_type": "stream",
     "text": [
      "[INFO 24-04-30 16:55:53.6634 EDT kernel.cc:1233] Loading model from path /var/folders/sc/c663j6bx65391kdjgk7jy_d00000gn/T/tmpdhs83sbp/model/ with prefix 11c36a4b728a414b\n",
      "[INFO 24-04-30 16:56:07.3733 EDT decision_forest.cc:734] Model loaded with 550 root(s), 5707908 node(s), and 33 input feature(s).\n",
      "[INFO 24-04-30 16:56:07.3733 EDT abstract_model.cc:1344] Engine \"RandomForestOptPred\" built\n",
      "[INFO 24-04-30 16:56:07.3734 EDT kernel.cc:1061] Use fast generic engine\n"
     ]
    },
    {
     "name": "stdout",
     "output_type": "stream",
     "text": [
      "trained forest with 550 trees\n",
      "83/83 [==============================] - 13s 156ms/step\n"
     ]
    },
    {
     "name": "stderr",
     "output_type": "stream",
     "text": [
      "[INFO 24-04-30 17:15:52.2992 EDT kernel.cc:1233] Loading model from path /var/folders/sc/c663j6bx65391kdjgk7jy_d00000gn/T/tmpxrb7dsao/model/ with prefix 06259be5f2404c88\n",
      "[INFO 24-04-30 17:16:07.3958 EDT decision_forest.cc:734] Model loaded with 600 root(s), 6231280 node(s), and 33 input feature(s).\n",
      "[INFO 24-04-30 17:16:07.3958 EDT abstract_model.cc:1344] Engine \"RandomForestOptPred\" built\n",
      "[INFO 24-04-30 17:16:07.3959 EDT kernel.cc:1061] Use fast generic engine\n"
     ]
    },
    {
     "name": "stdout",
     "output_type": "stream",
     "text": [
      "trained forest with 600 trees\n",
      "83/83 [==============================] - 14s 164ms/step\n"
     ]
    },
    {
     "name": "stderr",
     "output_type": "stream",
     "text": [
      "[INFO 24-04-30 17:37:31.3680 EDT kernel.cc:1233] Loading model from path /var/folders/sc/c663j6bx65391kdjgk7jy_d00000gn/T/tmp4vg8rvvd/model/ with prefix 4053541e0bbd45f7\n",
      "[INFO 24-04-30 17:37:47.9073 EDT decision_forest.cc:734] Model loaded with 650 root(s), 6753718 node(s), and 33 input feature(s).\n",
      "[INFO 24-04-30 17:37:47.9073 EDT abstract_model.cc:1344] Engine \"RandomForestOptPred\" built\n",
      "[INFO 24-04-30 17:37:47.9074 EDT kernel.cc:1061] Use fast generic engine\n"
     ]
    },
    {
     "name": "stdout",
     "output_type": "stream",
     "text": [
      "trained forest with 650 trees\n",
      "83/83 [==============================] - 15s 185ms/step\n"
     ]
    },
    {
     "name": "stderr",
     "output_type": "stream",
     "text": [
      "[INFO 24-04-30 18:00:35.3021 EDT kernel.cc:1233] Loading model from path /var/folders/sc/c663j6bx65391kdjgk7jy_d00000gn/T/tmp0jx9zaph/model/ with prefix 37354aaca34c4083\n",
      "[INFO 24-04-30 18:00:53.2853 EDT decision_forest.cc:734] Model loaded with 700 root(s), 7276770 node(s), and 33 input feature(s).\n",
      "[INFO 24-04-30 18:00:53.2853 EDT abstract_model.cc:1344] Engine \"RandomForestOptPred\" built\n",
      "[INFO 24-04-30 18:00:53.2854 EDT kernel.cc:1061] Use fast generic engine\n"
     ]
    },
    {
     "name": "stdout",
     "output_type": "stream",
     "text": [
      "trained forest with 700 trees\n",
      "83/83 [==============================] - 16s 189ms/step\n"
     ]
    },
    {
     "name": "stderr",
     "output_type": "stream",
     "text": [
      "[INFO 24-04-30 18:25:14.1814 EDT kernel.cc:1233] Loading model from path /var/folders/sc/c663j6bx65391kdjgk7jy_d00000gn/T/tmp3nbiuj7i/model/ with prefix 25d9b80d7cf4498e\n",
      "[INFO 24-04-30 18:25:33.0408 EDT decision_forest.cc:734] Model loaded with 750 root(s), 7799354 node(s), and 33 input feature(s).\n",
      "[INFO 24-04-30 18:25:33.0409 EDT abstract_model.cc:1344] Engine \"RandomForestOptPred\" built\n",
      "[INFO 24-04-30 18:25:33.0409 EDT kernel.cc:1061] Use fast generic engine\n"
     ]
    },
    {
     "name": "stdout",
     "output_type": "stream",
     "text": [
      "trained forest with 750 trees\n",
      "83/83 [==============================] - 17s 208ms/step\n"
     ]
    },
    {
     "name": "stderr",
     "output_type": "stream",
     "text": [
      "[INFO 24-04-30 18:51:46.4273 EDT kernel.cc:1233] Loading model from path /var/folders/sc/c663j6bx65391kdjgk7jy_d00000gn/T/tmp4bkxm1d0/model/ with prefix d36e172d410348aa\n",
      "[INFO 24-04-30 18:52:06.6836 EDT decision_forest.cc:734] Model loaded with 800 root(s), 8319112 node(s), and 33 input feature(s).\n",
      "[INFO 24-04-30 18:52:06.6837 EDT abstract_model.cc:1344] Engine \"RandomForestOptPred\" built\n",
      "[INFO 24-04-30 18:52:06.6837 EDT kernel.cc:1061] Use fast generic engine\n"
     ]
    },
    {
     "name": "stdout",
     "output_type": "stream",
     "text": [
      "trained forest with 800 trees\n",
      "83/83 [==============================] - 19s 231ms/step\n"
     ]
    },
    {
     "name": "stderr",
     "output_type": "stream",
     "text": [
      "[INFO 24-04-30 19:19:45.9985 EDT kernel.cc:1233] Loading model from path /var/folders/sc/c663j6bx65391kdjgk7jy_d00000gn/T/tmp7rb3u7z3/model/ with prefix 1f90ca3bb38a40eb\n",
      "[INFO 24-04-30 19:20:07.6590 EDT decision_forest.cc:734] Model loaded with 850 root(s), 8845822 node(s), and 33 input feature(s).\n",
      "[INFO 24-04-30 19:20:07.6590 EDT abstract_model.cc:1344] Engine \"RandomForestOptPred\" built\n",
      "[INFO 24-04-30 19:20:07.6590 EDT kernel.cc:1061] Use fast generic engine\n"
     ]
    },
    {
     "name": "stdout",
     "output_type": "stream",
     "text": [
      "trained forest with 850 trees\n",
      "83/83 [==============================] - 19s 233ms/step\n"
     ]
    },
    {
     "name": "stderr",
     "output_type": "stream",
     "text": [
      "[INFO 24-04-30 19:49:04.5678 EDT kernel.cc:1233] Loading model from path /var/folders/sc/c663j6bx65391kdjgk7jy_d00000gn/T/tmp77r9g15f/model/ with prefix 1e0eebc76e4b4ca7\n",
      "[INFO 24-04-30 19:49:27.0945 EDT decision_forest.cc:734] Model loaded with 900 root(s), 9366382 node(s), and 33 input feature(s).\n",
      "[INFO 24-04-30 19:49:27.0946 EDT abstract_model.cc:1344] Engine \"RandomForestOptPred\" built\n",
      "[INFO 24-04-30 19:49:27.0946 EDT kernel.cc:1061] Use fast generic engine\n"
     ]
    },
    {
     "name": "stdout",
     "output_type": "stream",
     "text": [
      "trained forest with 900 trees\n",
      "83/83 [==============================] - 21s 252ms/step\n"
     ]
    },
    {
     "name": "stderr",
     "output_type": "stream",
     "text": [
      "[INFO 24-04-30 20:20:28.8070 EDT kernel.cc:1233] Loading model from path /var/folders/sc/c663j6bx65391kdjgk7jy_d00000gn/T/tmpwws0n7xb/model/ with prefix 24fc01dea48748d5\n",
      "[INFO 24-04-30 20:20:52.8674 EDT decision_forest.cc:734] Model loaded with 950 root(s), 9882462 node(s), and 33 input feature(s).\n",
      "[INFO 24-04-30 20:20:52.8675 EDT abstract_model.cc:1344] Engine \"RandomForestOptPred\" built\n",
      "[INFO 24-04-30 20:20:52.8675 EDT kernel.cc:1061] Use fast generic engine\n"
     ]
    },
    {
     "name": "stdout",
     "output_type": "stream",
     "text": [
      "trained forest with 950 trees\n",
      "83/83 [==============================] - 23s 271ms/step\n"
     ]
    },
    {
     "name": "stderr",
     "output_type": "stream",
     "text": [
      "[INFO 24-04-30 20:53:39.0444 EDT kernel.cc:1233] Loading model from path /var/folders/sc/c663j6bx65391kdjgk7jy_d00000gn/T/tmplcs_4peg/model/ with prefix 6c74189be58a4cb1\n",
      "[INFO 24-04-30 20:54:04.3262 EDT decision_forest.cc:734] Model loaded with 1000 root(s), 10398788 node(s), and 33 input feature(s).\n",
      "[INFO 24-04-30 20:54:04.3262 EDT abstract_model.cc:1344] Engine \"RandomForestOptPred\" built\n",
      "[INFO 24-04-30 20:54:04.3263 EDT kernel.cc:1061] Use fast generic engine\n"
     ]
    },
    {
     "name": "stdout",
     "output_type": "stream",
     "text": [
      "trained forest with 1000 trees\n",
      "83/83 [==============================] - 25s 299ms/step\n"
     ]
    }
   ],
   "source": [
    "\n",
    "for tree in trees:\n",
    "    \n",
    "    model = trainRandomForest(train_ds, tree, max_depth = 16)\n",
    "    \n",
    "    print(\"trained forest with {} trees\".format(tree))\n",
    "    \n",
    "    metrics = computeMetrics(model, val_ds, label)\n",
    "    \n",
    "    accuracy.append((tree, metrics[\"accuracy\"]))\n",
    "    precision.append((tree, metrics[\"precision\"]))\n",
    "    recall.append((tree, metrics[\"recall\"]))\n",
    "    f1.append((tree, metrics[\"f1\"]))\n",
    "    roc_auc.append((tree, metrics[\"roc_auc\"]))\n",
    "    \n",
    "    "
   ]
  },
  {
   "cell_type": "code",
   "execution_count": 44,
   "id": "4b887af8",
   "metadata": {},
   "outputs": [],
   "source": [
    "accuracy_plot = [a for _, a in accuracy]\n",
    "precision_plot = [a for _, a in precision]\n",
    "recall_plot = [a for _, a in recall]\n",
    "f1_plot = [a for _, a in f1]\n",
    "roc_auc_plot = [a for _, a in roc_auc]"
   ]
  },
  {
   "cell_type": "code",
   "execution_count": 45,
   "id": "6236aa61",
   "metadata": {},
   "outputs": [
    {
     "data": {
      "image/png": "[encoded data removed]",
      "text/plain": [
       "<Figure size 640x480 with 1 Axes>"
      ]
     },
     "metadata": {},
     "output_type": "display_data"
    }
   ],
   "source": [
    "plt.plot(trees, accuracy_plot)\n",
    "plt.plot(trees, precision_plot)\n",
    "plt.plot(trees, recall_plot)\n",
    "plt.plot(trees, f1_plot)\n",
    "plt.plot(trees, roc_auc_plot)\n",
    "\n",
    "plt.show()"
   ]
  },
  {
   "cell_type": "code",
   "execution_count": 24,
   "id": "bc3e881c",
   "metadata": {},
   "outputs": [
    {
     "name": "stdout",
     "output_type": "stream",
     "text": [
      "Model: \"random_forest_model_21\"\n",
      "_________________________________________________________________\n",
      " Layer (type)                Output Shape              Param #   \n",
      "=================================================================\n",
      "=================================================================\n",
      "Total params: 1 (1.00 Byte)\n",
      "Trainable params: 0 (0.00 Byte)\n",
      "Non-trainable params: 1 (1.00 Byte)\n",
      "_________________________________________________________________\n",
      "Type: \"RANDOM_FOREST\"\n",
      "Task: CLASSIFICATION\n",
      "Label: \"__LABEL\"\n",
      "\n",
      "Input Features (33):\n",
      "\tcnt_courses_in_specialization\n",
      "\tcnt_days_active_before_payment_period\n",
      "\tcnt_days_active_during_payment_period\n",
      "\tcnt_days_since_last_activity\n",
      "\tcnt_enrollments_active_before_payment_period\n",
      "\tcnt_enrollments_active_during_payment_period\n",
      "\tcnt_enrollments_completed_before_payment_period\n",
      "\tcnt_enrollments_completed_during_payment_period\n",
      "\tcnt_enrollments_started_before_payment_period\n",
      "\tcnt_enrollments_started_during_payment_period\n",
      "\tcnt_graded_items_completed_before_payment_period\n",
      "\tcnt_graded_items_completed_during_payment_period\n",
      "\tcnt_items_completed_before_payment_period\n",
      "\tcnt_items_completed_during_payment_period\n",
      "\tdays_since_last_payment\n",
      "\tdays_til_next_payment_due\n",
      "\tis_active_capstone_during_pay_period\n",
      "\tis_gateway_certificate\n",
      "\tis_professional_certificate\n",
      "\tis_subscription_started_with_free_trial\n",
      "\tlearner_cnt_other_courses_active\n",
      "\tlearner_cnt_other_courses_items_completed\n",
      "\tlearner_cnt_other_courses_paid_active\n",
      "\tlearner_cnt_other_courses_paid_items_completed\n",
      "\tlearner_cnt_other_transactions_past\n",
      "\tlearner_country_group\n",
      "\tlearner_days_since_registration\n",
      "\tlearner_gender\n",
      "\tlearner_other_revenue\n",
      "\tspecialization_domain\n",
      "\tsubscription_period_order\n",
      "\tsum_hours_learning_before_payment_period\n",
      "\tsum_hours_learning_during_payment_period\n",
      "\n",
      "No weights\n",
      "\n",
      "Variable Importance: INV_MEAN_MIN_DEPTH:\n",
      "    1.                        \"subscription_period_order\"  0.186273 ################\n",
      "    2.                        \"days_til_next_payment_due\"  0.154162 ###########\n",
      "    3.                          \"days_since_last_payment\"  0.146272 ##########\n",
      "    4.                            \"learner_country_group\"  0.123414 #######\n",
      "    5.          \"is_subscription_started_with_free_trial\"  0.122790 #######\n",
      "    6.                     \"cnt_days_since_last_activity\"  0.114778 ######\n",
      "    7.                           \"is_gateway_certificate\"  0.085460 ##\n",
      "    8.                  \"learner_days_since_registration\"  0.080505 #\n",
      "    9.        \"learner_cnt_other_courses_items_completed\"  0.080162 #\n",
      "   10. \"cnt_graded_items_completed_before_payment_period\"  0.079936 #\n",
      "   11.    \"cnt_enrollments_started_before_payment_period\"  0.078834 #\n",
      "   12.        \"cnt_items_completed_before_payment_period\"  0.078701 #\n",
      "   13.  \"cnt_enrollments_completed_during_payment_period\"  0.078502 #\n",
      "   14.         \"sum_hours_learning_during_payment_period\"  0.078409 #\n",
      "   15. \"cnt_graded_items_completed_during_payment_period\"  0.077547 #\n",
      "   16.            \"cnt_days_active_during_payment_period\"  0.077386 #\n",
      "   17.            \"cnt_days_active_before_payment_period\"  0.077104 #\n",
      "   18.     \"cnt_enrollments_active_before_payment_period\"  0.077085 #\n",
      "   19.         \"sum_hours_learning_before_payment_period\"  0.076988 #\n",
      "   20.                 \"learner_cnt_other_courses_active\"  0.076767 #\n",
      "   21.        \"cnt_items_completed_during_payment_period\"  0.076687 #\n",
      "   22.                      \"is_professional_certificate\"  0.075455 \n",
      "   23.  \"cnt_enrollments_completed_before_payment_period\"  0.075243 \n",
      "   24.                            \"specialization_domain\"  0.074755 \n",
      "   25.                    \"cnt_courses_in_specialization\"  0.074733 \n",
      "   26.     \"cnt_enrollments_active_during_payment_period\"  0.074117 \n",
      "   27.                            \"learner_other_revenue\"  0.072853 \n",
      "   28.    \"cnt_enrollments_started_during_payment_period\"  0.072011 \n",
      "   29.              \"learner_cnt_other_transactions_past\"  0.071101 \n",
      "   30.   \"learner_cnt_other_courses_paid_items_completed\"  0.070873 \n",
      "   31.                                   \"learner_gender\"  0.069701 \n",
      "   32.            \"learner_cnt_other_courses_paid_active\"  0.069362 \n",
      "   33.             \"is_active_capstone_during_pay_period\"  0.069263 \n",
      "\n",
      "Variable Importance: MEAN_DECREASE_IN_ACCURACY:\n",
      "    1.                        \"subscription_period_order\"  0.014217 ################\n",
      "    2.          \"is_subscription_started_with_free_trial\"  0.011314 ############\n",
      "    3.                          \"days_since_last_payment\"  0.006466 #######\n",
      "    4.                        \"days_til_next_payment_due\"  0.004183 ####\n",
      "    5.                            \"learner_country_group\"  0.003825 ####\n",
      "    6. \"cnt_graded_items_completed_before_payment_period\"  0.002315 ##\n",
      "    7.  \"cnt_enrollments_completed_during_payment_period\"  0.001840 ##\n",
      "    8.                           \"is_gateway_certificate\"  0.001425 #\n",
      "    9.                    \"cnt_courses_in_specialization\"  0.001212 #\n",
      "   10.     \"cnt_enrollments_active_before_payment_period\"  0.001176 #\n",
      "   11.        \"cnt_items_completed_before_payment_period\"  0.001119 #\n",
      "   12. \"cnt_graded_items_completed_during_payment_period\"  0.001107 #\n",
      "   13.                     \"cnt_days_since_last_activity\"  0.001043 #\n",
      "   14.    \"cnt_enrollments_started_before_payment_period\"  0.001035 #\n",
      "   15.  \"cnt_enrollments_completed_before_payment_period\"  0.000990 #\n",
      "   16.                            \"specialization_domain\"  0.000709 \n",
      "   17.        \"cnt_items_completed_during_payment_period\"  0.000656 \n",
      "   18.                      \"is_professional_certificate\"  0.000636 \n",
      "   19.         \"sum_hours_learning_during_payment_period\"  0.000628 \n",
      "   20.         \"sum_hours_learning_before_payment_period\"  0.000580 \n",
      "   21.                            \"learner_other_revenue\"  0.000552 \n",
      "   22.                  \"learner_days_since_registration\"  0.000443 \n",
      "   23.     \"cnt_enrollments_active_during_payment_period\"  0.000439 \n",
      "   24.        \"learner_cnt_other_courses_items_completed\"  0.000387 \n",
      "   25.            \"cnt_days_active_during_payment_period\"  0.000378 \n",
      "   26.            \"cnt_days_active_before_payment_period\"  0.000298 \n",
      "   27.             \"is_active_capstone_during_pay_period\"  0.000234 \n",
      "   28.                 \"learner_cnt_other_courses_active\"  0.000193 \n",
      "   29.                                   \"learner_gender\"  0.000177 \n",
      "   30.              \"learner_cnt_other_transactions_past\"  0.000149 \n",
      "   31.   \"learner_cnt_other_courses_paid_items_completed\"  0.000141 \n",
      "   32.    \"cnt_enrollments_started_during_payment_period\"  0.000068 \n",
      "   33.            \"learner_cnt_other_courses_paid_active\" -0.000052 \n",
      "\n",
      "Variable Importance: MEAN_DECREASE_IN_AP_2_VS_OTHERS:\n",
      "    1.                        \"subscription_period_order\"  0.027784 ################\n",
      "    2.                  \"learner_days_since_registration\"  0.010100 #######\n",
      "    3.                           \"is_gateway_certificate\"  0.004941 ####\n",
      "    4.                    \"cnt_courses_in_specialization\"  0.003420 ###\n",
      "    5.                      \"is_professional_certificate\"  0.002976 ###\n",
      "    6. \"cnt_graded_items_completed_during_payment_period\"  0.002961 ###\n",
      "    7.  \"cnt_enrollments_completed_during_payment_period\"  0.002184 ###\n",
      "    8.         \"sum_hours_learning_during_payment_period\"  0.001911 ###\n",
      "    9.                            \"specialization_domain\"  0.001494 ##\n",
      "   10.        \"cnt_items_completed_during_payment_period\"  0.001101 ##\n",
      "   11.            \"cnt_days_active_during_payment_period\"  0.000968 ##\n",
      "   12.                            \"learner_other_revenue\"  0.000602 ##\n",
      "   13.                            \"learner_country_group\"  0.000595 ##\n",
      "   14.              \"learner_cnt_other_transactions_past\"  0.000563 ##\n",
      "   15.                                   \"learner_gender\"  0.000422 ##\n",
      "   16.             \"is_active_capstone_during_pay_period\"  0.000388 ##\n",
      "   17.                          \"days_since_last_payment\"  0.000273 ##\n",
      "   18.     \"cnt_enrollments_active_during_payment_period\"  0.000184 ##\n",
      "   19.            \"learner_cnt_other_courses_paid_active\" -0.000063 ##\n",
      "   20.  \"cnt_enrollments_completed_before_payment_period\" -0.000189 ##\n",
      "   21.                     \"cnt_days_since_last_activity\" -0.000514 #\n",
      "   22.   \"learner_cnt_other_courses_paid_items_completed\" -0.001320 #\n",
      "   23.    \"cnt_enrollments_started_during_payment_period\" -0.001574 #\n",
      "   24.            \"cnt_days_active_before_payment_period\" -0.001617 #\n",
      "   25. \"cnt_graded_items_completed_before_payment_period\" -0.001866 #\n",
      "   26.        \"cnt_items_completed_before_payment_period\" -0.001877 #\n",
      "   27.     \"cnt_enrollments_active_before_payment_period\" -0.002182 #\n",
      "   28.    \"cnt_enrollments_started_before_payment_period\" -0.002681 \n",
      "   29.          \"is_subscription_started_with_free_trial\" -0.002802 \n",
      "   30.                 \"learner_cnt_other_courses_active\" -0.003020 \n",
      "   31.         \"sum_hours_learning_before_payment_period\" -0.003359 \n",
      "   32.        \"learner_cnt_other_courses_items_completed\" -0.003684 \n",
      "   33.                        \"days_til_next_payment_due\" -0.004222 \n",
      "\n",
      "Variable Importance: MEAN_DECREASE_IN_AUC_2_VS_OTHERS:\n",
      "    1.                        \"subscription_period_order\"  0.018423 ################\n",
      "    2.          \"is_subscription_started_with_free_trial\"  0.004714 ####\n",
      "    3.                          \"days_since_last_payment\"  0.004630 ####\n",
      "    4.                            \"learner_country_group\"  0.002652 ###\n",
      "    5.                  \"learner_days_since_registration\"  0.002602 ###\n",
      "    6.                           \"is_gateway_certificate\"  0.002586 ###\n",
      "    7.                        \"days_til_next_payment_due\"  0.002482 ###\n",
      "    8.                    \"cnt_courses_in_specialization\"  0.001755 ##\n",
      "    9.  \"cnt_enrollments_completed_during_payment_period\"  0.001677 ##\n",
      "   10. \"cnt_graded_items_completed_during_payment_period\"  0.001287 ##\n",
      "   11.                      \"is_professional_certificate\"  0.000722 #\n",
      "   12.  \"cnt_enrollments_completed_before_payment_period\"  0.000634 #\n",
      "   13. \"cnt_graded_items_completed_before_payment_period\"  0.000579 #\n",
      "   14.                            \"specialization_domain\"  0.000492 #\n",
      "   15.         \"sum_hours_learning_during_payment_period\"  0.000429 #\n",
      "   16.        \"cnt_items_completed_during_payment_period\"  0.000202 #\n",
      "   17.    \"cnt_enrollments_started_before_payment_period\"  0.000201 #\n",
      "   18.             \"is_active_capstone_during_pay_period\"  0.000169 #\n",
      "   19.                                   \"learner_gender\"  0.000112 #\n",
      "   20.     \"cnt_enrollments_active_before_payment_period\"  0.000071 #\n",
      "   21.     \"cnt_enrollments_active_during_payment_period\" -0.000004 #\n",
      "   22.              \"learner_cnt_other_transactions_past\" -0.000068 \n",
      "   23.                            \"learner_other_revenue\" -0.000077 \n",
      "   24.        \"cnt_items_completed_before_payment_period\" -0.000153 \n",
      "   25.                     \"cnt_days_since_last_activity\" -0.000166 \n",
      "   26.            \"cnt_days_active_during_payment_period\" -0.000206 \n",
      "   27.            \"learner_cnt_other_courses_paid_active\" -0.000235 \n",
      "   28.    \"cnt_enrollments_started_during_payment_period\" -0.000359 \n",
      "   29.   \"learner_cnt_other_courses_paid_items_completed\" -0.000698 \n",
      "   30.                 \"learner_cnt_other_courses_active\" -0.000962 \n",
      "   31.            \"cnt_days_active_before_payment_period\" -0.001003 \n",
      "   32.        \"learner_cnt_other_courses_items_completed\" -0.001024 \n",
      "   33.         \"sum_hours_learning_before_payment_period\" -0.001253 \n",
      "\n",
      "Variable Importance: MEAN_DECREASE_IN_PRAUC_2_VS_OTHERS:\n",
      "    1.                        \"subscription_period_order\"  0.026624 ################\n",
      "    2.                  \"learner_days_since_registration\"  0.009025 #######\n",
      "    3.                           \"is_gateway_certificate\"  0.004417 ####\n",
      "    4.                    \"cnt_courses_in_specialization\"  0.002723 ####\n",
      "    5.                      \"is_professional_certificate\"  0.002512 ###\n",
      "    6. \"cnt_graded_items_completed_during_payment_period\"  0.001902 ###\n",
      "    7.  \"cnt_enrollments_completed_during_payment_period\"  0.001263 ###\n",
      "    8.                            \"specialization_domain\"  0.000915 ###\n",
      "    9.         \"sum_hours_learning_during_payment_period\"  0.000840 ###\n",
      "   10.                                   \"learner_gender\"  0.000383 ##\n",
      "   11.             \"is_active_capstone_during_pay_period\"  0.000278 ##\n",
      "   12.              \"learner_cnt_other_transactions_past\"  0.000078 ##\n",
      "   13.        \"cnt_items_completed_during_payment_period\"  0.000020 ##\n",
      "   14.                            \"learner_other_revenue\" -0.000081 ##\n",
      "   15.            \"cnt_days_active_during_payment_period\" -0.000103 ##\n",
      "   16.            \"learner_cnt_other_courses_paid_active\" -0.000625 ##\n",
      "   17.     \"cnt_enrollments_active_during_payment_period\" -0.000626 ##\n",
      "   18.                            \"learner_country_group\" -0.000632 ##\n",
      "   19.                          \"days_since_last_payment\" -0.000956 ##\n",
      "   20.  \"cnt_enrollments_completed_before_payment_period\" -0.001162 ##\n",
      "   21.                     \"cnt_days_since_last_activity\" -0.001701 #\n",
      "   22.   \"learner_cnt_other_courses_paid_items_completed\" -0.002254 #\n",
      "   23.    \"cnt_enrollments_started_during_payment_period\" -0.002387 #\n",
      "   24.            \"cnt_days_active_before_payment_period\" -0.002764 #\n",
      "   25. \"cnt_graded_items_completed_before_payment_period\" -0.002987 #\n",
      "   26.        \"cnt_items_completed_before_payment_period\" -0.003020 #\n",
      "   27.     \"cnt_enrollments_active_before_payment_period\" -0.003127 #\n",
      "   28.    \"cnt_enrollments_started_before_payment_period\" -0.003789 \n",
      "   29.          \"is_subscription_started_with_free_trial\" -0.003982 \n",
      "   30.                 \"learner_cnt_other_courses_active\" -0.004041 \n",
      "   31.         \"sum_hours_learning_before_payment_period\" -0.004552 \n",
      "   32.        \"learner_cnt_other_courses_items_completed\" -0.004792 \n",
      "   33.                        \"days_til_next_payment_due\" -0.005448 \n",
      "\n",
      "Variable Importance: NUM_AS_ROOT:\n",
      "    1.                       \"subscription_period_order\" 228.000000 ################\n",
      "    2.                       \"days_til_next_payment_due\" 193.000000 #############\n",
      "    3.                         \"days_since_last_payment\" 119.000000 ########\n",
      "    4.         \"is_subscription_started_with_free_trial\" 99.000000 ######\n",
      "    5.                    \"cnt_days_since_last_activity\" 97.000000 ######\n",
      "    6.                           \"learner_country_group\" 68.000000 ####\n",
      "    7.                          \"is_gateway_certificate\" 46.000000 ###\n",
      "    8.           \"cnt_days_active_during_payment_period\" 39.000000 ##\n",
      "    9.       \"learner_cnt_other_courses_items_completed\" 24.000000 #\n",
      "   10.        \"sum_hours_learning_during_payment_period\" 22.000000 #\n",
      "   11.       \"cnt_items_completed_during_payment_period\" 15.000000 \n",
      "   12.                     \"is_professional_certificate\" 13.000000 \n",
      "   13.                \"learner_cnt_other_courses_active\" 13.000000 \n",
      "   14.    \"cnt_enrollments_active_during_payment_period\"  9.000000 \n",
      "   15.   \"cnt_enrollments_started_before_payment_period\"  7.000000 \n",
      "   16. \"cnt_enrollments_completed_during_payment_period\"  5.000000 \n",
      "   17.   \"cnt_enrollments_started_during_payment_period\"  2.000000 \n",
      "   18.                   \"cnt_courses_in_specialization\"  1.000000 \n",
      "\n",
      "Variable Importance: NUM_NODES:\n",
      "    1.                            \"learner_country_group\" 431532.000000 ################\n",
      "    2.                  \"learner_days_since_registration\" 378596.000000 ##############\n",
      "    3.         \"sum_hours_learning_before_payment_period\" 337194.000000 ############\n",
      "    4.        \"cnt_items_completed_before_payment_period\" 316271.000000 ###########\n",
      "    5.                            \"specialization_domain\" 276622.000000 ##########\n",
      "    6.                     \"cnt_days_since_last_activity\" 269595.000000 #########\n",
      "    7.            \"cnt_days_active_before_payment_period\" 247531.000000 #########\n",
      "    8.        \"learner_cnt_other_courses_items_completed\" 242269.000000 ########\n",
      "    9.                        \"days_til_next_payment_due\" 203343.000000 #######\n",
      "   10. \"cnt_graded_items_completed_before_payment_period\" 201661.000000 #######\n",
      "   11.                          \"days_since_last_payment\" 201605.000000 #######\n",
      "   12.         \"sum_hours_learning_during_payment_period\" 197181.000000 #######\n",
      "   13.                 \"learner_cnt_other_courses_active\" 178763.000000 ######\n",
      "   14.        \"cnt_items_completed_during_payment_period\" 170513.000000 ######\n",
      "   15.                            \"learner_other_revenue\" 160569.000000 #####\n",
      "   16.                    \"cnt_courses_in_specialization\" 147935.000000 #####\n",
      "   17.   \"learner_cnt_other_courses_paid_items_completed\" 139712.000000 #####\n",
      "   18.                                   \"learner_gender\" 120426.000000 ####\n",
      "   19.                        \"subscription_period_order\" 118114.000000 ####\n",
      "   20.              \"learner_cnt_other_transactions_past\" 106232.000000 ###\n",
      "   21.            \"cnt_days_active_during_payment_period\" 104147.000000 ###\n",
      "   22. \"cnt_graded_items_completed_during_payment_period\" 103474.000000 ###\n",
      "   23.    \"cnt_enrollments_started_before_payment_period\" 86710.000000 ###\n",
      "   24.            \"learner_cnt_other_courses_paid_active\" 82713.000000 ##\n",
      "   25.     \"cnt_enrollments_active_before_payment_period\" 82311.000000 ##\n",
      "   26.  \"cnt_enrollments_completed_before_payment_period\" 71421.000000 ##\n",
      "   27.  \"cnt_enrollments_completed_during_payment_period\" 46021.000000 #\n",
      "   28.     \"cnt_enrollments_active_during_payment_period\" 39140.000000 #\n",
      "   29.          \"is_subscription_started_with_free_trial\" 36773.000000 #\n",
      "   30.    \"cnt_enrollments_started_during_payment_period\" 36239.000000 #\n",
      "   31.                           \"is_gateway_certificate\" 31785.000000 #\n",
      "   32.                      \"is_professional_certificate\" 28022.000000 \n",
      "   33.             \"is_active_capstone_during_pay_period\" 4474.000000 \n",
      "\n",
      "Variable Importance: SUM_SCORE:\n",
      "    1.                        \"subscription_period_order\" 5533186.460502 ################\n",
      "    2.                        \"days_til_next_payment_due\" 4537724.545755 #############\n",
      "    3.                          \"days_since_last_payment\" 4356355.067003 ############\n",
      "    4.                            \"learner_country_group\" 4062779.563942 ###########\n",
      "    5.                     \"cnt_days_since_last_activity\" 3051239.797954 ########\n",
      "    6.          \"is_subscription_started_with_free_trial\" 2759250.917534 #######\n",
      "    7.                  \"learner_days_since_registration\" 2066438.321226 #####\n",
      "    8.        \"cnt_items_completed_before_payment_period\" 1809012.355652 #####\n",
      "    9.         \"sum_hours_learning_before_payment_period\" 1798759.775169 #####\n",
      "   10.                            \"specialization_domain\" 1563725.900706 ####\n",
      "   11.        \"learner_cnt_other_courses_items_completed\" 1358966.820153 ###\n",
      "   12.            \"cnt_days_active_before_payment_period\" 1352169.932756 ###\n",
      "   13. \"cnt_graded_items_completed_before_payment_period\" 1289527.767616 ###\n",
      "   14.         \"sum_hours_learning_during_payment_period\" 1261728.030775 ###\n",
      "   15.        \"cnt_items_completed_during_payment_period\" 1105423.449797 ###\n",
      "   16.                 \"learner_cnt_other_courses_active\" 985268.967830 ##\n",
      "   17.                            \"learner_other_revenue\" 884764.109011 ##\n",
      "   18.                    \"cnt_courses_in_specialization\" 880229.250240 ##\n",
      "   19. \"cnt_graded_items_completed_during_payment_period\" 819222.916709 ##\n",
      "   20.    \"cnt_enrollments_started_before_payment_period\" 739449.038597 #\n",
      "   21.   \"learner_cnt_other_courses_paid_items_completed\" 719716.968579 #\n",
      "   22.            \"cnt_days_active_during_payment_period\" 713647.282928 #\n",
      "   23.     \"cnt_enrollments_active_before_payment_period\" 665334.024789 #\n",
      "   24.  \"cnt_enrollments_completed_during_payment_period\" 634076.110018 #\n",
      "   25.                           \"is_gateway_certificate\" 587060.117476 #\n",
      "   26.  \"cnt_enrollments_completed_before_payment_period\" 580783.594844 #\n",
      "   27.              \"learner_cnt_other_transactions_past\" 555711.942058 #\n",
      "   28.                                   \"learner_gender\" 520994.506317 #\n",
      "   29.            \"learner_cnt_other_courses_paid_active\" 402786.965923 \n",
      "   30.     \"cnt_enrollments_active_during_payment_period\" 373951.228796 \n",
      "   31.                      \"is_professional_certificate\" 329967.386828 \n",
      "   32.    \"cnt_enrollments_started_during_payment_period\" 295225.013747 \n",
      "   33.             \"is_active_capstone_during_pay_period\" 80633.148968 \n",
      "\n",
      "\n",
      "\n",
      "Winner takes all: true\n",
      "Out-of-bag evaluation: accuracy:0.687451 logloss:0.786312\n",
      "Number of trees: 1000\n",
      "Total number of nodes: 10398788\n",
      "\n",
      "Number of nodes by tree:\n",
      "Count: 1000 Average: 10398.8 StdDev: 725.85\n",
      "Min: 8329 Max: 12821 Ignored: 0\n",
      "----------------------------------------------\n",
      "[  8329,  8553)   2   0.20%   0.20%\n",
      "[  8553,  8778)   8   0.80%   1.00% #\n",
      "[  8778,  9002)  11   1.10%   2.10% #\n",
      "[  9002,  9227)  23   2.30%   4.40% ##\n",
      "[  9227,  9452)  34   3.40%   7.80% ###\n",
      "[  9452,  9676)  63   6.30%  14.10% #####\n",
      "[  9676,  9901) 110  11.00%  25.10% ########\n",
      "[  9901, 10126) 126  12.60%  37.70% ##########\n",
      "[ 10126, 10350) 130  13.00%  50.70% ##########\n",
      "[ 10350, 10575) 129  12.90%  63.60% ##########\n",
      "[ 10575, 10800) 107  10.70%  74.30% ########\n",
      "[ 10800, 11024)  69   6.90%  81.20% #####\n",
      "[ 11024, 11249)  50   5.00%  86.20% ####\n",
      "[ 11249, 11474)  44   4.40%  90.60% ###\n",
      "[ 11474, 11698)  38   3.80%  94.40% ###\n",
      "[ 11698, 11923)  29   2.90%  97.30% ##\n",
      "[ 11923, 12148)  14   1.40%  98.70% #\n",
      "[ 12148, 12372)   8   0.80%  99.50% #\n",
      "[ 12372, 12597)   4   0.40%  99.90%\n",
      "[ 12597, 12821]   1   0.10% 100.00%\n",
      "\n",
      "Depth by leafs:\n",
      "Count: 5.19989e+06 Average: 13.8051 StdDev: 1.60685\n",
      "Min: 3 Max: 15 Ignored: 0\n",
      "----------------------------------------------\n",
      "[  3,  4)           7   0.00%   0.00%\n",
      "[  4,  5)          54   0.00%   0.00%\n",
      "[  5,  6)         454   0.01%   0.01%\n",
      "[  6,  7)        2360   0.05%   0.06%\n",
      "[  7,  8)        9491   0.18%   0.24%\n",
      "[  8,  9)       29270   0.56%   0.80%\n",
      "[  9, 10)       73332   1.41%   2.21%\n",
      "[ 10, 11)      153838   2.96%   5.17% #\n",
      "[ 11, 12)      278553   5.36%  10.53% #\n",
      "[ 12, 13)      451470   8.68%  19.21% ##\n",
      "[ 13, 14)      665175  12.79%  32.00% ###\n",
      "[ 14, 15)      898002  17.27%  49.27% ###\n",
      "[ 15, 15] 2.63789e+06  50.73% 100.00% ##########\n",
      "\n",
      "Number of training obs by leaf:\n",
      "Count: 5.19989e+06 Average: 47.7646 StdDev: 164.397\n",
      "Min: 5 Max: 9580 Ignored: 0\n",
      "----------------------------------------------\n",
      "[    5,  483) 5.10668e+06  98.21%  98.21% ##########\n",
      "[  483,  962)       59759   1.15%  99.36%\n",
      "[  962, 1441)       18488   0.36%  99.71%\n",
      "[ 1441, 1920)        7530   0.14%  99.86%\n",
      "[ 1920, 2399)        3645   0.07%  99.93%\n",
      "[ 2399, 2877)        1811   0.03%  99.96%\n",
      "[ 2877, 3356)         904   0.02%  99.98%\n",
      "[ 3356, 3835)         498   0.01%  99.99%\n",
      "[ 3835, 4314)         247   0.00%  99.99%\n",
      "[ 4314, 4793)         147   0.00% 100.00%\n",
      "[ 4793, 5271)          90   0.00% 100.00%\n",
      "[ 5271, 5750)          40   0.00% 100.00%\n",
      "[ 5750, 6229)          19   0.00% 100.00%\n",
      "[ 6229, 6708)          13   0.00% 100.00%\n",
      "[ 6708, 7187)          11   0.00% 100.00%\n",
      "[ 7187, 7665)           3   0.00% 100.00%\n",
      "[ 7665, 8144)           5   0.00% 100.00%\n",
      "[ 8144, 8623)           1   0.00% 100.00%\n",
      "[ 8623, 9102)           1   0.00% 100.00%\n",
      "[ 9102, 9580]           1   0.00% 100.00%\n",
      "\n",
      "Attribute in nodes:\n",
      "\t431532 : learner_country_group [CATEGORICAL]\n",
      "\t378596 : learner_days_since_registration [NUMERICAL]\n",
      "\t337194 : sum_hours_learning_before_payment_period [NUMERICAL]\n",
      "\t316271 : cnt_items_completed_before_payment_period [NUMERICAL]\n",
      "\t276622 : specialization_domain [CATEGORICAL]\n",
      "\t269595 : cnt_days_since_last_activity [NUMERICAL]\n",
      "\t247531 : cnt_days_active_before_payment_period [NUMERICAL]\n",
      "\t242269 : learner_cnt_other_courses_items_completed [NUMERICAL]\n",
      "\t203343 : days_til_next_payment_due [NUMERICAL]\n",
      "\t201661 : cnt_graded_items_completed_before_payment_period [NUMERICAL]\n",
      "\t201605 : days_since_last_payment [NUMERICAL]\n",
      "\t197181 : sum_hours_learning_during_payment_period [NUMERICAL]\n",
      "\t178763 : learner_cnt_other_courses_active [NUMERICAL]\n",
      "\t170513 : cnt_items_completed_during_payment_period [NUMERICAL]\n",
      "\t160569 : learner_other_revenue [NUMERICAL]\n",
      "\t147935 : cnt_courses_in_specialization [NUMERICAL]\n",
      "\t139712 : learner_cnt_other_courses_paid_items_completed [NUMERICAL]\n",
      "\t120426 : learner_gender [CATEGORICAL]\n",
      "\t118114 : subscription_period_order [NUMERICAL]\n",
      "\t106232 : learner_cnt_other_transactions_past [NUMERICAL]\n",
      "\t104147 : cnt_days_active_during_payment_period [NUMERICAL]\n",
      "\t103474 : cnt_graded_items_completed_during_payment_period [NUMERICAL]\n",
      "\t86710 : cnt_enrollments_started_before_payment_period [NUMERICAL]\n",
      "\t82713 : learner_cnt_other_courses_paid_active [NUMERICAL]\n",
      "\t82311 : cnt_enrollments_active_before_payment_period [NUMERICAL]\n",
      "\t71421 : cnt_enrollments_completed_before_payment_period [NUMERICAL]\n",
      "\t46021 : cnt_enrollments_completed_during_payment_period [NUMERICAL]\n",
      "\t39140 : cnt_enrollments_active_during_payment_period [NUMERICAL]\n",
      "\t36773 : is_subscription_started_with_free_trial [CATEGORICAL]\n",
      "\t36239 : cnt_enrollments_started_during_payment_period [NUMERICAL]\n",
      "\t31785 : is_gateway_certificate [CATEGORICAL]\n",
      "\t28022 : is_professional_certificate [CATEGORICAL]\n",
      "\t4474 : is_active_capstone_during_pay_period [CATEGORICAL]\n",
      "\n",
      "Attribute in nodes with depth <= 0:\n",
      "\t228 : subscription_period_order [NUMERICAL]\n",
      "\t193 : days_til_next_payment_due [NUMERICAL]\n",
      "\t119 : days_since_last_payment [NUMERICAL]\n",
      "\t99 : is_subscription_started_with_free_trial [CATEGORICAL]\n",
      "\t97 : cnt_days_since_last_activity [NUMERICAL]\n",
      "\t68 : learner_country_group [CATEGORICAL]\n",
      "\t46 : is_gateway_certificate [CATEGORICAL]\n",
      "\t39 : cnt_days_active_during_payment_period [NUMERICAL]\n",
      "\t24 : learner_cnt_other_courses_items_completed [NUMERICAL]\n",
      "\t22 : sum_hours_learning_during_payment_period [NUMERICAL]\n",
      "\t15 : cnt_items_completed_during_payment_period [NUMERICAL]\n",
      "\t13 : learner_cnt_other_courses_active [NUMERICAL]\n",
      "\t13 : is_professional_certificate [CATEGORICAL]\n",
      "\t9 : cnt_enrollments_active_during_payment_period [NUMERICAL]\n",
      "\t7 : cnt_enrollments_started_before_payment_period [NUMERICAL]\n",
      "\t5 : cnt_enrollments_completed_during_payment_period [NUMERICAL]\n",
      "\t2 : cnt_enrollments_started_during_payment_period [NUMERICAL]\n",
      "\t1 : cnt_courses_in_specialization [NUMERICAL]\n",
      "\n",
      "Attribute in nodes with depth <= 1:\n",
      "\t542 : subscription_period_order [NUMERICAL]\n",
      "\t461 : days_til_next_payment_due [NUMERICAL]\n",
      "\t390 : days_since_last_payment [NUMERICAL]\n",
      "\t338 : cnt_days_since_last_activity [NUMERICAL]\n",
      "\t305 : is_subscription_started_with_free_trial [CATEGORICAL]\n",
      "\t190 : learner_country_group [CATEGORICAL]\n",
      "\t117 : is_gateway_certificate [CATEGORICAL]\n",
      "\t87 : cnt_days_active_during_payment_period [NUMERICAL]\n",
      "\t69 : sum_hours_learning_during_payment_period [NUMERICAL]\n",
      "\t63 : learner_cnt_other_courses_items_completed [NUMERICAL]\n",
      "\t53 : is_professional_certificate [CATEGORICAL]\n",
      "\t45 : cnt_enrollments_active_during_payment_period [NUMERICAL]\n",
      "\t44 : cnt_items_completed_during_payment_period [NUMERICAL]\n",
      "\t43 : learner_cnt_other_courses_active [NUMERICAL]\n",
      "\t42 : learner_days_since_registration [NUMERICAL]\n",
      "\t32 : cnt_graded_items_completed_before_payment_period [NUMERICAL]\n",
      "\t31 : cnt_enrollments_started_before_payment_period [NUMERICAL]\n",
      "\t28 : cnt_enrollments_completed_during_payment_period [NUMERICAL]\n",
      "\t20 : cnt_graded_items_completed_during_payment_period [NUMERICAL]\n",
      "\t20 : cnt_enrollments_active_before_payment_period [NUMERICAL]\n",
      "\t18 : cnt_enrollments_completed_before_payment_period [NUMERICAL]\n",
      "\t17 : cnt_enrollments_started_during_payment_period [NUMERICAL]\n",
      "\t14 : cnt_courses_in_specialization [NUMERICAL]\n",
      "\t11 : cnt_days_active_before_payment_period [NUMERICAL]\n",
      "\t7 : is_active_capstone_during_pay_period [CATEGORICAL]\n",
      "\t4 : sum_hours_learning_before_payment_period [NUMERICAL]\n",
      "\t4 : cnt_items_completed_before_payment_period [NUMERICAL]\n",
      "\t3 : learner_other_revenue [NUMERICAL]\n",
      "\t2 : learner_cnt_other_transactions_past [NUMERICAL]\n",
      "\n",
      "Attribute in nodes with depth <= 2:\n",
      "\t1187 : subscription_period_order [NUMERICAL]\n",
      "\t1020 : days_til_next_payment_due [NUMERICAL]\n",
      "\t972 : days_since_last_payment [NUMERICAL]\n",
      "\t734 : cnt_days_since_last_activity [NUMERICAL]\n",
      "\t626 : is_subscription_started_with_free_trial [CATEGORICAL]\n",
      "\t450 : learner_country_group [CATEGORICAL]\n",
      "\t251 : is_gateway_certificate [CATEGORICAL]\n",
      "\t156 : cnt_days_active_during_payment_period [NUMERICAL]\n",
      "\t133 : learner_days_since_registration [NUMERICAL]\n",
      "\t121 : is_professional_certificate [CATEGORICAL]\n",
      "\t116 : sum_hours_learning_during_payment_period [NUMERICAL]\n",
      "\t114 : cnt_graded_items_completed_before_payment_period [NUMERICAL]\n",
      "\t111 : learner_cnt_other_courses_items_completed [NUMERICAL]\n",
      "\t108 : cnt_enrollments_started_before_payment_period [NUMERICAL]\n",
      "\t106 : cnt_enrollments_active_during_payment_period [NUMERICAL]\n",
      "\t100 : cnt_enrollments_completed_during_payment_period [NUMERICAL]\n",
      "\t98 : cnt_graded_items_completed_during_payment_period [NUMERICAL]\n",
      "\t88 : cnt_items_completed_during_payment_period [NUMERICAL]\n",
      "\t82 : cnt_enrollments_active_before_payment_period [NUMERICAL]\n",
      "\t73 : learner_cnt_other_courses_active [NUMERICAL]\n",
      "\t66 : cnt_enrollments_started_during_payment_period [NUMERICAL]\n",
      "\t60 : cnt_enrollments_completed_before_payment_period [NUMERICAL]\n",
      "\t49 : cnt_days_active_before_payment_period [NUMERICAL]\n",
      "\t47 : cnt_items_completed_before_payment_period [NUMERICAL]\n",
      "\t39 : cnt_courses_in_specialization [NUMERICAL]\n",
      "\t30 : sum_hours_learning_before_payment_period [NUMERICAL]\n",
      "\t22 : is_active_capstone_during_pay_period [CATEGORICAL]\n",
      "\t21 : learner_other_revenue [NUMERICAL]\n",
      "\t7 : learner_cnt_other_transactions_past [NUMERICAL]\n",
      "\t6 : learner_cnt_other_courses_paid_items_completed [NUMERICAL]\n",
      "\t4 : learner_gender [CATEGORICAL]\n",
      "\t3 : learner_cnt_other_courses_paid_active [NUMERICAL]\n",
      "\n",
      "Attribute in nodes with depth <= 3:\n",
      "\t2375 : subscription_period_order [NUMERICAL]\n",
      "\t2018 : days_since_last_payment [NUMERICAL]\n",
      "\t1904 : days_til_next_payment_due [NUMERICAL]\n",
      "\t1453 : cnt_days_since_last_activity [NUMERICAL]\n",
      "\t1101 : is_subscription_started_with_free_trial [CATEGORICAL]\n",
      "\t903 : learner_country_group [CATEGORICAL]\n",
      "\t493 : is_gateway_certificate [CATEGORICAL]\n",
      "\t388 : cnt_enrollments_completed_during_payment_period [NUMERICAL]\n",
      "\t357 : cnt_enrollments_started_before_payment_period [NUMERICAL]\n",
      "\t322 : learner_days_since_registration [NUMERICAL]\n",
      "\t317 : cnt_graded_items_completed_before_payment_period [NUMERICAL]\n",
      "\t309 : cnt_graded_items_completed_during_payment_period [NUMERICAL]\n",
      "\t301 : cnt_enrollments_active_before_payment_period [NUMERICAL]\n",
      "\t266 : cnt_days_active_during_payment_period [NUMERICAL]\n",
      "\t243 : is_professional_certificate [CATEGORICAL]\n",
      "\t228 : cnt_enrollments_active_during_payment_period [NUMERICAL]\n",
      "\t226 : cnt_enrollments_completed_before_payment_period [NUMERICAL]\n",
      "\t224 : sum_hours_learning_during_payment_period [NUMERICAL]\n",
      "\t218 : learner_cnt_other_courses_items_completed [NUMERICAL]\n",
      "\t182 : cnt_items_completed_before_payment_period [NUMERICAL]\n",
      "\t178 : cnt_items_completed_during_payment_period [NUMERICAL]\n",
      "\t178 : cnt_days_active_before_payment_period [NUMERICAL]\n",
      "\t157 : learner_cnt_other_courses_active [NUMERICAL]\n",
      "\t157 : cnt_enrollments_started_during_payment_period [NUMERICAL]\n",
      "\t122 : cnt_courses_in_specialization [NUMERICAL]\n",
      "\t114 : sum_hours_learning_before_payment_period [NUMERICAL]\n",
      "\t72 : is_active_capstone_during_pay_period [CATEGORICAL]\n",
      "\t67 : learner_other_revenue [NUMERICAL]\n",
      "\t51 : learner_cnt_other_transactions_past [NUMERICAL]\n",
      "\t29 : learner_cnt_other_courses_paid_items_completed [NUMERICAL]\n",
      "\t21 : specialization_domain [CATEGORICAL]\n",
      "\t11 : learner_gender [CATEGORICAL]\n",
      "\t8 : learner_cnt_other_courses_paid_active [NUMERICAL]\n",
      "\n",
      "Attribute in nodes with depth <= 5:\n",
      "\t7435 : subscription_period_order [NUMERICAL]\n",
      "\t6721 : days_since_last_payment [NUMERICAL]\n",
      "\t5996 : days_til_next_payment_due [NUMERICAL]\n",
      "\t4588 : learner_country_group [CATEGORICAL]\n",
      "\t4556 : cnt_days_since_last_activity [NUMERICAL]\n",
      "\t2919 : is_subscription_started_with_free_trial [CATEGORICAL]\n",
      "\t2047 : cnt_graded_items_completed_before_payment_period [NUMERICAL]\n",
      "\t2028 : cnt_enrollments_completed_during_payment_period [NUMERICAL]\n",
      "\t1912 : cnt_items_completed_before_payment_period [NUMERICAL]\n",
      "\t1739 : cnt_enrollments_started_before_payment_period [NUMERICAL]\n",
      "\t1707 : cnt_graded_items_completed_during_payment_period [NUMERICAL]\n",
      "\t1663 : learner_days_since_registration [NUMERICAL]\n",
      "\t1636 : is_gateway_certificate [CATEGORICAL]\n",
      "\t1628 : cnt_enrollments_active_before_payment_period [NUMERICAL]\n",
      "\t1461 : cnt_enrollments_completed_before_payment_period [NUMERICAL]\n",
      "\t1312 : cnt_days_active_before_payment_period [NUMERICAL]\n",
      "\t1239 : sum_hours_learning_before_payment_period [NUMERICAL]\n",
      "\t1215 : learner_cnt_other_courses_items_completed [NUMERICAL]\n",
      "\t1072 : cnt_items_completed_during_payment_period [NUMERICAL]\n",
      "\t1069 : cnt_courses_in_specialization [NUMERICAL]\n",
      "\t1015 : sum_hours_learning_during_payment_period [NUMERICAL]\n",
      "\t899 : learner_cnt_other_courses_active [NUMERICAL]\n",
      "\t874 : is_professional_certificate [CATEGORICAL]\n",
      "\t837 : cnt_enrollments_active_during_payment_period [NUMERICAL]\n",
      "\t813 : specialization_domain [CATEGORICAL]\n",
      "\t785 : cnt_days_active_during_payment_period [NUMERICAL]\n",
      "\t779 : learner_other_revenue [NUMERICAL]\n",
      "\t630 : cnt_enrollments_started_during_payment_period [NUMERICAL]\n",
      "\t560 : learner_cnt_other_transactions_past [NUMERICAL]\n",
      "\t405 : learner_cnt_other_courses_paid_items_completed [NUMERICAL]\n",
      "\t403 : is_active_capstone_during_pay_period [CATEGORICAL]\n",
      "\t196 : learner_gender [CATEGORICAL]\n",
      "\t196 : learner_cnt_other_courses_paid_active [NUMERICAL]\n",
      "\n",
      "Condition type in nodes:\n",
      "\t4269260 : HigherCondition\n",
      "\t929634 : ContainsBitmapCondition\n",
      "Condition type in nodes with depth <= 0:\n",
      "\t774 : HigherCondition\n",
      "\t226 : ContainsBitmapCondition\n",
      "Condition type in nodes with depth <= 1:\n",
      "\t2328 : HigherCondition\n",
      "\t672 : ContainsBitmapCondition\n",
      "Condition type in nodes with depth <= 2:\n",
      "\t5526 : HigherCondition\n",
      "\t1474 : ContainsBitmapCondition\n",
      "Condition type in nodes with depth <= 3:\n",
      "\t12149 : HigherCondition\n",
      "\t2844 : ContainsBitmapCondition\n",
      "Condition type in nodes with depth <= 5:\n",
      "\t50906 : HigherCondition\n",
      "\t11429 : ContainsBitmapCondition\n",
      "Node format: NOT_SET\n",
      "\n",
      "Training OOB:\n",
      "\ttrees: 1, Out-of-bag evaluation: accuracy:0.653771 logloss:12.4793\n",
      "\ttrees: 7, Out-of-bag evaluation: accuracy:0.662015 logloss:7.85867\n",
      "\ttrees: 13, Out-of-bag evaluation: accuracy:0.671868 logloss:5.408\n",
      "\ttrees: 19, Out-of-bag evaluation: accuracy:0.678348 logloss:4.23613\n",
      "\ttrees: 25, Out-of-bag evaluation: accuracy:0.681729 logloss:3.58652\n",
      "\ttrees: 31, Out-of-bag evaluation: accuracy:0.682632 logloss:3.14357\n",
      "\ttrees: 37, Out-of-bag evaluation: accuracy:0.68386 logloss:2.84233\n",
      "\ttrees: 43, Out-of-bag evaluation: accuracy:0.684504 logloss:2.61143\n",
      "\ttrees: 49, Out-of-bag evaluation: accuracy:0.684661 logloss:2.43235\n",
      "\ttrees: 55, Out-of-bag evaluation: accuracy:0.685068 logloss:2.26788\n",
      "\ttrees: 61, Out-of-bag evaluation: accuracy:0.685587 logloss:2.13125\n",
      "\ttrees: 67, Out-of-bag evaluation: accuracy:0.685752 logloss:1.99504\n",
      "\ttrees: 73, Out-of-bag evaluation: accuracy:0.685692 logloss:1.8949\n",
      "\ttrees: 79, Out-of-bag evaluation: accuracy:0.685934 logloss:1.80868\n",
      "\ttrees: 85, Out-of-bag evaluation: accuracy:0.686215 logloss:1.73493\n",
      "\ttrees: 91, Out-of-bag evaluation: accuracy:0.686163 logloss:1.66697\n",
      "\ttrees: 97, Out-of-bag evaluation: accuracy:0.686614 logloss:1.61792\n",
      "\ttrees: 103, Out-of-bag evaluation: accuracy:0.687109 logloss:1.5655\n",
      "\ttrees: 109, Out-of-bag evaluation: accuracy:0.687154 logloss:1.52114\n",
      "\ttrees: 115, Out-of-bag evaluation: accuracy:0.687033 logloss:1.48302\n",
      "\ttrees: 121, Out-of-bag evaluation: accuracy:0.687182 logloss:1.44967\n",
      "\ttrees: 127, Out-of-bag evaluation: accuracy:0.686916 logloss:1.41657\n",
      "\ttrees: 133, Out-of-bag evaluation: accuracy:0.687121 logloss:1.37605\n",
      "\ttrees: 139, Out-of-bag evaluation: accuracy:0.68696 logloss:1.34566\n",
      "\ttrees: 145, Out-of-bag evaluation: accuracy:0.686864 logloss:1.3243\n",
      "\ttrees: 151, Out-of-bag evaluation: accuracy:0.686864 logloss:1.29499\n",
      "\ttrees: 157, Out-of-bag evaluation: accuracy:0.686952 logloss:1.26942\n",
      "\ttrees: 163, Out-of-bag evaluation: accuracy:0.687001 logloss:1.24913\n",
      "\ttrees: 169, Out-of-bag evaluation: accuracy:0.687009 logloss:1.23457\n",
      "\ttrees: 175, Out-of-bag evaluation: accuracy:0.686827 logloss:1.21508\n",
      "\ttrees: 181, Out-of-bag evaluation: accuracy:0.686864 logloss:1.19847\n",
      "\ttrees: 187, Out-of-bag evaluation: accuracy:0.686835 logloss:1.1831\n",
      "\ttrees: 193, Out-of-bag evaluation: accuracy:0.686872 logloss:1.16982\n",
      "\ttrees: 199, Out-of-bag evaluation: accuracy:0.686968 logloss:1.16018\n",
      "\ttrees: 205, Out-of-bag evaluation: accuracy:0.686884 logloss:1.14687\n",
      "\ttrees: 211, Out-of-bag evaluation: accuracy:0.686719 logloss:1.12939\n",
      "\ttrees: 217, Out-of-bag evaluation: accuracy:0.686868 logloss:1.11887\n",
      "\ttrees: 223, Out-of-bag evaluation: accuracy:0.686944 logloss:1.10582\n",
      "\ttrees: 229, Out-of-bag evaluation: accuracy:0.68692 logloss:1.09768\n",
      "\ttrees: 235, Out-of-bag evaluation: accuracy:0.686944 logloss:1.08837\n",
      "\ttrees: 241, Out-of-bag evaluation: accuracy:0.687069 logloss:1.07876\n",
      "\ttrees: 247, Out-of-bag evaluation: accuracy:0.687085 logloss:1.07065\n",
      "\ttrees: 253, Out-of-bag evaluation: accuracy:0.686924 logloss:1.06318\n",
      "\ttrees: 259, Out-of-bag evaluation: accuracy:0.68696 logloss:1.05517\n",
      "\ttrees: 265, Out-of-bag evaluation: accuracy:0.687029 logloss:1.04548\n",
      "\ttrees: 271, Out-of-bag evaluation: accuracy:0.686932 logloss:1.03647\n",
      "\ttrees: 277, Out-of-bag evaluation: accuracy:0.687105 logloss:1.03002\n",
      "\ttrees: 283, Out-of-bag evaluation: accuracy:0.687105 logloss:1.01959\n",
      "\ttrees: 289, Out-of-bag evaluation: accuracy:0.687065 logloss:1.01189\n",
      "\ttrees: 295, Out-of-bag evaluation: accuracy:0.687085 logloss:1.00471\n",
      "\ttrees: 301, Out-of-bag evaluation: accuracy:0.687141 logloss:0.999181\n",
      "\ttrees: 307, Out-of-bag evaluation: accuracy:0.687081 logloss:0.992321\n",
      "\ttrees: 313, Out-of-bag evaluation: accuracy:0.68725 logloss:0.988041\n",
      "\ttrees: 319, Out-of-bag evaluation: accuracy:0.687379 logloss:0.981375\n",
      "\ttrees: 325, Out-of-bag evaluation: accuracy:0.687182 logloss:0.975328\n",
      "\ttrees: 331, Out-of-bag evaluation: accuracy:0.687339 logloss:0.969866\n",
      "\ttrees: 337, Out-of-bag evaluation: accuracy:0.687343 logloss:0.964883\n",
      "\ttrees: 343, Out-of-bag evaluation: accuracy:0.687411 logloss:0.960953\n",
      "\ttrees: 349, Out-of-bag evaluation: accuracy:0.687391 logloss:0.957845\n",
      "\ttrees: 355, Out-of-bag evaluation: accuracy:0.687415 logloss:0.953662\n",
      "\ttrees: 361, Out-of-bag evaluation: accuracy:0.687339 logloss:0.94889\n",
      "\ttrees: 367, Out-of-bag evaluation: accuracy:0.687363 logloss:0.94626\n",
      "\ttrees: 373, Out-of-bag evaluation: accuracy:0.687383 logloss:0.940918\n",
      "\ttrees: 379, Out-of-bag evaluation: accuracy:0.687226 logloss:0.937136\n",
      "\ttrees: 385, Out-of-bag evaluation: accuracy:0.687129 logloss:0.93191\n",
      "\ttrees: 391, Out-of-bag evaluation: accuracy:0.687286 logloss:0.928552\n",
      "\ttrees: 397, Out-of-bag evaluation: accuracy:0.687323 logloss:0.926129\n",
      "\ttrees: 403, Out-of-bag evaluation: accuracy:0.687395 logloss:0.921682\n",
      "\ttrees: 409, Out-of-bag evaluation: accuracy:0.687367 logloss:0.918059\n",
      "\ttrees: 415, Out-of-bag evaluation: accuracy:0.687286 logloss:0.915506\n",
      "\ttrees: 421, Out-of-bag evaluation: accuracy:0.687355 logloss:0.912155\n",
      "\ttrees: 427, Out-of-bag evaluation: accuracy:0.687246 logloss:0.907721\n",
      "\ttrees: 433, Out-of-bag evaluation: accuracy:0.687351 logloss:0.905286\n",
      "\ttrees: 439, Out-of-bag evaluation: accuracy:0.687294 logloss:0.901479\n",
      "\ttrees: 445, Out-of-bag evaluation: accuracy:0.687234 logloss:0.898351\n",
      "\ttrees: 451, Out-of-bag evaluation: accuracy:0.687343 logloss:0.896238\n",
      "\ttrees: 457, Out-of-bag evaluation: accuracy:0.687254 logloss:0.894709\n",
      "\ttrees: 463, Out-of-bag evaluation: accuracy:0.687202 logloss:0.892498\n",
      "\ttrees: 469, Out-of-bag evaluation: accuracy:0.68725 logloss:0.89042\n",
      "\ttrees: 475, Out-of-bag evaluation: accuracy:0.687166 logloss:0.88828\n",
      "\ttrees: 481, Out-of-bag evaluation: accuracy:0.68729 logloss:0.885913\n",
      "\ttrees: 487, Out-of-bag evaluation: accuracy:0.687242 logloss:0.884154\n",
      "\ttrees: 493, Out-of-bag evaluation: accuracy:0.687202 logloss:0.88302\n",
      "\ttrees: 499, Out-of-bag evaluation: accuracy:0.687133 logloss:0.880968\n",
      "\ttrees: 505, Out-of-bag evaluation: accuracy:0.687226 logloss:0.878661\n",
      "\ttrees: 511, Out-of-bag evaluation: accuracy:0.687202 logloss:0.877565\n",
      "\ttrees: 517, Out-of-bag evaluation: accuracy:0.687178 logloss:0.875823\n",
      "\ttrees: 523, Out-of-bag evaluation: accuracy:0.687037 logloss:0.873448\n",
      "\ttrees: 529, Out-of-bag evaluation: accuracy:0.687174 logloss:0.87035\n",
      "\ttrees: 535, Out-of-bag evaluation: accuracy:0.68719 logloss:0.867162\n",
      "\ttrees: 541, Out-of-bag evaluation: accuracy:0.687206 logloss:0.865568\n",
      "\ttrees: 547, Out-of-bag evaluation: accuracy:0.687162 logloss:0.863055\n",
      "\ttrees: 553, Out-of-bag evaluation: accuracy:0.687198 logloss:0.859044\n",
      "\ttrees: 559, Out-of-bag evaluation: accuracy:0.687298 logloss:0.857706\n",
      "\ttrees: 565, Out-of-bag evaluation: accuracy:0.687282 logloss:0.855786\n",
      "\ttrees: 571, Out-of-bag evaluation: accuracy:0.687162 logloss:0.853499\n",
      "\ttrees: 577, Out-of-bag evaluation: accuracy:0.687186 logloss:0.851129\n",
      "\ttrees: 583, Out-of-bag evaluation: accuracy:0.687186 logloss:0.849391\n",
      "\ttrees: 589, Out-of-bag evaluation: accuracy:0.687154 logloss:0.848202\n",
      "\ttrees: 595, Out-of-bag evaluation: accuracy:0.687186 logloss:0.846189\n",
      "\ttrees: 601, Out-of-bag evaluation: accuracy:0.687202 logloss:0.84485\n",
      "\ttrees: 607, Out-of-bag evaluation: accuracy:0.687105 logloss:0.844155\n",
      "\ttrees: 613, Out-of-bag evaluation: accuracy:0.687073 logloss:0.843085\n",
      "\ttrees: 619, Out-of-bag evaluation: accuracy:0.687194 logloss:0.840991\n",
      "\ttrees: 625, Out-of-bag evaluation: accuracy:0.687162 logloss:0.838781\n",
      "\ttrees: 631, Out-of-bag evaluation: accuracy:0.687238 logloss:0.837506\n",
      "\ttrees: 637, Out-of-bag evaluation: accuracy:0.687278 logloss:0.835284\n",
      "\ttrees: 643, Out-of-bag evaluation: accuracy:0.687351 logloss:0.834072\n",
      "\ttrees: 649, Out-of-bag evaluation: accuracy:0.687319 logloss:0.833237\n",
      "\ttrees: 655, Out-of-bag evaluation: accuracy:0.687282 logloss:0.831337\n",
      "\ttrees: 661, Out-of-bag evaluation: accuracy:0.687242 logloss:0.830671\n",
      "\ttrees: 667, Out-of-bag evaluation: accuracy:0.687198 logloss:0.829353\n",
      "\ttrees: 673, Out-of-bag evaluation: accuracy:0.687234 logloss:0.827824\n",
      "\ttrees: 679, Out-of-bag evaluation: accuracy:0.687254 logloss:0.826821\n",
      "\ttrees: 685, Out-of-bag evaluation: accuracy:0.687278 logloss:0.825638\n",
      "\ttrees: 691, Out-of-bag evaluation: accuracy:0.687298 logloss:0.825073\n",
      "\ttrees: 697, Out-of-bag evaluation: accuracy:0.68729 logloss:0.823471\n",
      "\ttrees: 703, Out-of-bag evaluation: accuracy:0.687383 logloss:0.82253\n",
      "\ttrees: 709, Out-of-bag evaluation: accuracy:0.687383 logloss:0.820973\n",
      "\ttrees: 715, Out-of-bag evaluation: accuracy:0.687351 logloss:0.818932\n",
      "\ttrees: 721, Out-of-bag evaluation: accuracy:0.687319 logloss:0.81854\n",
      "\ttrees: 727, Out-of-bag evaluation: accuracy:0.687242 logloss:0.817864\n",
      "\ttrees: 733, Out-of-bag evaluation: accuracy:0.687258 logloss:0.817302\n",
      "\ttrees: 739, Out-of-bag evaluation: accuracy:0.687214 logloss:0.816515\n",
      "\ttrees: 745, Out-of-bag evaluation: accuracy:0.687311 logloss:0.815836\n",
      "\ttrees: 751, Out-of-bag evaluation: accuracy:0.687234 logloss:0.815395\n",
      "\ttrees: 757, Out-of-bag evaluation: accuracy:0.687343 logloss:0.81436\n",
      "\ttrees: 763, Out-of-bag evaluation: accuracy:0.687242 logloss:0.813098\n",
      "\ttrees: 769, Out-of-bag evaluation: accuracy:0.687166 logloss:0.812962\n",
      "\ttrees: 775, Out-of-bag evaluation: accuracy:0.68721 logloss:0.812851\n",
      "\ttrees: 781, Out-of-bag evaluation: accuracy:0.687202 logloss:0.811907\n",
      "\ttrees: 787, Out-of-bag evaluation: accuracy:0.687145 logloss:0.811231\n",
      "\ttrees: 793, Out-of-bag evaluation: accuracy:0.68729 logloss:0.810483\n",
      "\ttrees: 799, Out-of-bag evaluation: accuracy:0.687234 logloss:0.809644\n",
      "\ttrees: 805, Out-of-bag evaluation: accuracy:0.687206 logloss:0.808947\n",
      "\ttrees: 811, Out-of-bag evaluation: accuracy:0.68727 logloss:0.808152\n",
      "\ttrees: 817, Out-of-bag evaluation: accuracy:0.687206 logloss:0.807157\n",
      "\ttrees: 823, Out-of-bag evaluation: accuracy:0.687335 logloss:0.806487\n",
      "\ttrees: 829, Out-of-bag evaluation: accuracy:0.687451 logloss:0.806092\n",
      "\ttrees: 835, Out-of-bag evaluation: accuracy:0.6875 logloss:0.805207\n",
      "\ttrees: 841, Out-of-bag evaluation: accuracy:0.687464 logloss:0.803832\n",
      "\ttrees: 847, Out-of-bag evaluation: accuracy:0.6876 logloss:0.802369\n",
      "\ttrees: 853, Out-of-bag evaluation: accuracy:0.6875 logloss:0.80184\n",
      "\ttrees: 859, Out-of-bag evaluation: accuracy:0.687572 logloss:0.800747\n",
      "\ttrees: 865, Out-of-bag evaluation: accuracy:0.687524 logloss:0.800122\n",
      "\ttrees: 871, Out-of-bag evaluation: accuracy:0.687556 logloss:0.799482\n",
      "\ttrees: 877, Out-of-bag evaluation: accuracy:0.687588 logloss:0.798869\n",
      "\ttrees: 883, Out-of-bag evaluation: accuracy:0.687612 logloss:0.797503\n",
      "\ttrees: 889, Out-of-bag evaluation: accuracy:0.687564 logloss:0.796849\n",
      "\ttrees: 895, Out-of-bag evaluation: accuracy:0.687488 logloss:0.796297\n",
      "\ttrees: 901, Out-of-bag evaluation: accuracy:0.687492 logloss:0.796358\n",
      "\ttrees: 907, Out-of-bag evaluation: accuracy:0.687548 logloss:0.795844\n",
      "\ttrees: 913, Out-of-bag evaluation: accuracy:0.687484 logloss:0.794923\n",
      "\ttrees: 919, Out-of-bag evaluation: accuracy:0.687512 logloss:0.793924\n",
      "\ttrees: 925, Out-of-bag evaluation: accuracy:0.687556 logloss:0.79334\n",
      "\ttrees: 931, Out-of-bag evaluation: accuracy:0.687641 logloss:0.792782\n",
      "\ttrees: 937, Out-of-bag evaluation: accuracy:0.68756 logloss:0.792357\n",
      "\ttrees: 943, Out-of-bag evaluation: accuracy:0.687532 logloss:0.791853\n",
      "\ttrees: 949, Out-of-bag evaluation: accuracy:0.687395 logloss:0.791283\n",
      "\ttrees: 955, Out-of-bag evaluation: accuracy:0.687415 logloss:0.790218\n",
      "\ttrees: 961, Out-of-bag evaluation: accuracy:0.687492 logloss:0.789775\n",
      "\ttrees: 967, Out-of-bag evaluation: accuracy:0.687447 logloss:0.789295\n",
      "\ttrees: 973, Out-of-bag evaluation: accuracy:0.687512 logloss:0.788469\n",
      "\ttrees: 979, Out-of-bag evaluation: accuracy:0.687528 logloss:0.787901\n",
      "\ttrees: 985, Out-of-bag evaluation: accuracy:0.687552 logloss:0.787829\n",
      "\ttrees: 991, Out-of-bag evaluation: accuracy:0.687492 logloss:0.787428\n",
      "\ttrees: 997, Out-of-bag evaluation: accuracy:0.687435 logloss:0.786703\n",
      "\ttrees: 1000, Out-of-bag evaluation: accuracy:0.687451 logloss:0.786312\n",
      "\n"
     ]
    }
   ],
   "source": [
    "model.summary()"
   ]
  },
  {
   "cell_type": "code",
   "execution_count": 47,
   "id": "538f8bae",
   "metadata": {},
   "outputs": [],
   "source": [
    "metrics = {\n",
    "    \"trees\": [a for a, _ in accuracy],\n",
    "    \"accuracy\": [a for _, a in accuracy],\n",
    "    \"precision\": [a for _, a in precision],\n",
    "    \"recall\": [a for _, a in recall],\n",
    "    \"f1\": [a for _, a in f1],\n",
    "    \"roc_auc\": [a for _, a in roc_auc],\n",
    "}"
   ]
  },
  {
   "cell_type": "code",
   "execution_count": 52,
   "id": "032bea8e",
   "metadata": {},
   "outputs": [
    {
     "data": {
      "text/html": [
       "<div>\n",
       "<style scoped>\n",
       "    .dataframe tbody tr th:only-of-type {\n",
       "        vertical-align: middle;\n",
       "    }\n",
       "\n",
       "    .dataframe tbody tr th {\n",
       "        vertical-align: top;\n",
       "    }\n",
       "\n",
       "    .dataframe thead th {\n",
       "        text-align: right;\n",
       "    }\n",
       "</style>\n",
       "<table border=\"1\" class=\"dataframe\">\n",
       "  <thead>\n",
       "    <tr style=\"text-align: right;\">\n",
       "      <th></th>\n",
       "      <th>trees</th>\n",
       "      <th>accuracy</th>\n",
       "      <th>precision</th>\n",
       "      <th>recall</th>\n",
       "      <th>f1</th>\n",
       "      <th>roc_auc</th>\n",
       "    </tr>\n",
       "  </thead>\n",
       "  <tbody>\n",
       "    <tr>\n",
       "      <th>0</th>\n",
       "      <td>50</td>\n",
       "      <td>0.691766</td>\n",
       "      <td>0.699887</td>\n",
       "      <td>0.758825</td>\n",
       "      <td>0.728166</td>\n",
       "      <td>0.685288</td>\n",
       "    </tr>\n",
       "    <tr>\n",
       "      <th>1</th>\n",
       "      <td>100</td>\n",
       "      <td>0.692660</td>\n",
       "      <td>0.703191</td>\n",
       "      <td>0.752853</td>\n",
       "      <td>0.727175</td>\n",
       "      <td>0.686845</td>\n",
       "    </tr>\n",
       "    <tr>\n",
       "      <th>2</th>\n",
       "      <td>150</td>\n",
       "      <td>0.692889</td>\n",
       "      <td>0.702821</td>\n",
       "      <td>0.754562</td>\n",
       "      <td>0.727773</td>\n",
       "      <td>0.686932</td>\n",
       "    </tr>\n",
       "    <tr>\n",
       "      <th>3</th>\n",
       "      <td>200</td>\n",
       "      <td>0.692684</td>\n",
       "      <td>0.702406</td>\n",
       "      <td>0.755006</td>\n",
       "      <td>0.727757</td>\n",
       "      <td>0.686664</td>\n",
       "    </tr>\n",
       "    <tr>\n",
       "      <th>4</th>\n",
       "      <td>250</td>\n",
       "      <td>0.693058</td>\n",
       "      <td>0.702038</td>\n",
       "      <td>0.757182</td>\n",
       "      <td>0.728568</td>\n",
       "      <td>0.686864</td>\n",
       "    </tr>\n",
       "    <tr>\n",
       "      <th>5</th>\n",
       "      <td>300</td>\n",
       "      <td>0.693022</td>\n",
       "      <td>0.702445</td>\n",
       "      <td>0.755983</td>\n",
       "      <td>0.728231</td>\n",
       "      <td>0.686940</td>\n",
       "    </tr>\n",
       "    <tr>\n",
       "      <th>6</th>\n",
       "      <td>350</td>\n",
       "      <td>0.693167</td>\n",
       "      <td>0.702118</td>\n",
       "      <td>0.757315</td>\n",
       "      <td>0.728673</td>\n",
       "      <td>0.686971</td>\n",
       "    </tr>\n",
       "    <tr>\n",
       "      <th>7</th>\n",
       "      <td>400</td>\n",
       "      <td>0.693107</td>\n",
       "      <td>0.702538</td>\n",
       "      <td>0.756006</td>\n",
       "      <td>0.728292</td>\n",
       "      <td>0.687031</td>\n",
       "    </tr>\n",
       "    <tr>\n",
       "      <th>8</th>\n",
       "      <td>450</td>\n",
       "      <td>0.693010</td>\n",
       "      <td>0.702522</td>\n",
       "      <td>0.755739</td>\n",
       "      <td>0.728159</td>\n",
       "      <td>0.686951</td>\n",
       "    </tr>\n",
       "    <tr>\n",
       "      <th>9</th>\n",
       "      <td>500</td>\n",
       "      <td>0.692599</td>\n",
       "      <td>0.701630</td>\n",
       "      <td>0.756805</td>\n",
       "      <td>0.728174</td>\n",
       "      <td>0.686397</td>\n",
       "    </tr>\n",
       "    <tr>\n",
       "      <th>10</th>\n",
       "      <td>550</td>\n",
       "      <td>0.692769</td>\n",
       "      <td>0.702082</td>\n",
       "      <td>0.756139</td>\n",
       "      <td>0.728108</td>\n",
       "      <td>0.686647</td>\n",
       "    </tr>\n",
       "    <tr>\n",
       "      <th>11</th>\n",
       "      <td>600</td>\n",
       "      <td>0.692624</td>\n",
       "      <td>0.701950</td>\n",
       "      <td>0.756028</td>\n",
       "      <td>0.727986</td>\n",
       "      <td>0.686499</td>\n",
       "    </tr>\n",
       "    <tr>\n",
       "      <th>12</th>\n",
       "      <td>650</td>\n",
       "      <td>0.692962</td>\n",
       "      <td>0.702364</td>\n",
       "      <td>0.756006</td>\n",
       "      <td>0.728198</td>\n",
       "      <td>0.686872</td>\n",
       "    </tr>\n",
       "    <tr>\n",
       "      <th>13</th>\n",
       "      <td>700</td>\n",
       "      <td>0.692962</td>\n",
       "      <td>0.702097</td>\n",
       "      <td>0.756716</td>\n",
       "      <td>0.728384</td>\n",
       "      <td>0.686803</td>\n",
       "    </tr>\n",
       "    <tr>\n",
       "      <th>14</th>\n",
       "      <td>750</td>\n",
       "      <td>0.693215</td>\n",
       "      <td>0.702752</td>\n",
       "      <td>0.755783</td>\n",
       "      <td>0.728304</td>\n",
       "      <td>0.687171</td>\n",
       "    </tr>\n",
       "    <tr>\n",
       "      <th>15</th>\n",
       "      <td>800</td>\n",
       "      <td>0.693022</td>\n",
       "      <td>0.702578</td>\n",
       "      <td>0.755628</td>\n",
       "      <td>0.728138</td>\n",
       "      <td>0.686975</td>\n",
       "    </tr>\n",
       "    <tr>\n",
       "      <th>16</th>\n",
       "      <td>850</td>\n",
       "      <td>0.692913</td>\n",
       "      <td>0.702281</td>\n",
       "      <td>0.756072</td>\n",
       "      <td>0.728184</td>\n",
       "      <td>0.686812</td>\n",
       "    </tr>\n",
       "    <tr>\n",
       "      <th>17</th>\n",
       "      <td>900</td>\n",
       "      <td>0.692998</td>\n",
       "      <td>0.702332</td>\n",
       "      <td>0.756205</td>\n",
       "      <td>0.728274</td>\n",
       "      <td>0.686892</td>\n",
       "    </tr>\n",
       "    <tr>\n",
       "      <th>18</th>\n",
       "      <td>950</td>\n",
       "      <td>0.692950</td>\n",
       "      <td>0.702575</td>\n",
       "      <td>0.755406</td>\n",
       "      <td>0.728033</td>\n",
       "      <td>0.686917</td>\n",
       "    </tr>\n",
       "    <tr>\n",
       "      <th>19</th>\n",
       "      <td>1000</td>\n",
       "      <td>0.693131</td>\n",
       "      <td>0.702793</td>\n",
       "      <td>0.755406</td>\n",
       "      <td>0.728150</td>\n",
       "      <td>0.687115</td>\n",
       "    </tr>\n",
       "  </tbody>\n",
       "</table>\n",
       "</div>"
      ],
      "text/plain": [
       "    trees  accuracy  precision    recall        f1   roc_auc\n",
       "0      50  0.691766   0.699887  0.758825  0.728166  0.685288\n",
       "1     100  0.692660   0.703191  0.752853  0.727175  0.686845\n",
       "2     150  0.692889   0.702821  0.754562  0.727773  0.686932\n",
       "3     200  0.692684   0.702406  0.755006  0.727757  0.686664\n",
       "4     250  0.693058   0.702038  0.757182  0.728568  0.686864\n",
       "5     300  0.693022   0.702445  0.755983  0.728231  0.686940\n",
       "6     350  0.693167   0.702118  0.757315  0.728673  0.686971\n",
       "7     400  0.693107   0.702538  0.756006  0.728292  0.687031\n",
       "8     450  0.693010   0.702522  0.755739  0.728159  0.686951\n",
       "9     500  0.692599   0.701630  0.756805  0.728174  0.686397\n",
       "10    550  0.692769   0.702082  0.756139  0.728108  0.686647\n",
       "11    600  0.692624   0.701950  0.756028  0.727986  0.686499\n",
       "12    650  0.692962   0.702364  0.756006  0.728198  0.686872\n",
       "13    700  0.692962   0.702097  0.756716  0.728384  0.686803\n",
       "14    750  0.693215   0.702752  0.755783  0.728304  0.687171\n",
       "15    800  0.693022   0.702578  0.755628  0.728138  0.686975\n",
       "16    850  0.692913   0.702281  0.756072  0.728184  0.686812\n",
       "17    900  0.692998   0.702332  0.756205  0.728274  0.686892\n",
       "18    950  0.692950   0.702575  0.755406  0.728033  0.686917\n",
       "19   1000  0.693131   0.702793  0.755406  0.728150  0.687115"
      ]
     },
     "execution_count": 52,
     "metadata": {},
     "output_type": "execute_result"
    }
   ],
   "source": [
    "metrics_df = pd.DataFrame(metrics)\n",
    "metrics_df"
   ]
  },
  {
   "cell_type": "code",
   "execution_count": 53,
   "id": "4e48ad26",
   "metadata": {},
   "outputs": [],
   "source": [
    "metrics_df.to_csv(\"prediction_data/rf_ntrees_test.csv\", index = False)"
   ]
  },
  {
   "cell_type": "markdown",
   "id": "e930a844",
   "metadata": {},
   "source": [
    "### Gradient Boosted Trees model"
   ]
  },
  {
   "cell_type": "code",
   "execution_count": 62,
   "id": "4ee30f39",
   "metadata": {},
   "outputs": [],
   "source": [
    "max_depth = range(1, 31, 1)\n",
    "\n",
    "accuracy = []\n",
    "precision = []\n",
    "recall = []\n",
    "f1 = []\n",
    "roc_auc = []"
   ]
  },
  {
   "cell_type": "code",
   "execution_count": 65,
   "id": "f4c9b609",
   "metadata": {},
   "outputs": [
    {
     "name": "stderr",
     "output_type": "stream",
     "text": [
      "[WARNING 24-05-01 12:15:50.5609 EDT gradient_boosted_trees.cc:1840] \"goss_alpha\" set but \"sampling_method\" not equal to \"GOSS\".\n",
      "[WARNING 24-05-01 12:15:50.5610 EDT gradient_boosted_trees.cc:1851] \"goss_beta\" set but \"sampling_method\" not equal to \"GOSS\".\n",
      "[WARNING 24-05-01 12:15:50.5610 EDT gradient_boosted_trees.cc:1865] \"selective_gradient_boosting_ratio\" set but \"sampling_method\" not equal to \"SELGB\".\n"
     ]
    },
    {
     "name": "stdout",
     "output_type": "stream",
     "text": [
      "Num validation examples: tf.Tensor(82791, shape=(), dtype=int32)\n"
     ]
    },
    {
     "name": "stderr",
     "output_type": "stream",
     "text": [
      "[INFO 24-05-01 12:15:59.7089 EDT kernel.cc:1233] Loading model from path /var/folders/sc/c663j6bx65391kdjgk7jy_d00000gn/T/tmpke7xibzc/model/ with prefix f05470475d034df9\n",
      "[INFO 24-05-01 12:15:59.7102 EDT quick_scorer_extended.cc:911] The binary was compiled without AVX2 support, but your CPU supports it. Enable it for faster model inference.\n",
      "[WARNING 24-05-01 12:15:59.7102 EDT utils.cc:73] The model does not have any input features i.e. the model is constant and will always return the same prediction.\n",
      "[INFO 24-05-01 12:15:59.7103 EDT abstract_model.cc:1344] Engine \"GradientBoostedTreesQuickScorerExtended\" built\n",
      "[INFO 24-05-01 12:15:59.7103 EDT kernel.cc:1061] Use fast generic engine\n"
     ]
    },
    {
     "name": "stdout",
     "output_type": "stream",
     "text": [
      "trained forest with max_depth of 1\n",
      "83/83 [==============================] - 2s 26ms/step\n"
     ]
    },
    {
     "name": "stderr",
     "output_type": "stream",
     "text": [
      "[WARNING 24-05-01 12:16:05.2825 EDT gradient_boosted_trees.cc:1840] \"goss_alpha\" set but \"sampling_method\" not equal to \"GOSS\".\n",
      "[WARNING 24-05-01 12:16:05.2826 EDT gradient_boosted_trees.cc:1851] \"goss_beta\" set but \"sampling_method\" not equal to \"GOSS\".\n",
      "[WARNING 24-05-01 12:16:05.2826 EDT gradient_boosted_trees.cc:1865] \"selective_gradient_boosting_ratio\" set but \"sampling_method\" not equal to \"SELGB\".\n"
     ]
    },
    {
     "name": "stdout",
     "output_type": "stream",
     "text": [
      "Num validation examples: tf.Tensor(82791, shape=(), dtype=int32)\n"
     ]
    },
    {
     "name": "stderr",
     "output_type": "stream",
     "text": [
      "[INFO 24-05-01 12:16:33.2310 EDT kernel.cc:1233] Loading model from path /var/folders/sc/c663j6bx65391kdjgk7jy_d00000gn/T/tmpx1bblz90/model/ with prefix 7e03044becde4418\n",
      "[INFO 24-05-01 12:16:33.2337 EDT quick_scorer_extended.cc:911] The binary was compiled without AVX2 support, but your CPU supports it. Enable it for faster model inference.\n",
      "[INFO 24-05-01 12:16:33.2340 EDT abstract_model.cc:1344] Engine \"GradientBoostedTreesQuickScorerExtended\" built\n",
      "[INFO 24-05-01 12:16:33.2341 EDT kernel.cc:1061] Use fast generic engine\n"
     ]
    },
    {
     "name": "stdout",
     "output_type": "stream",
     "text": [
      "trained forest with max_depth of 2\n",
      "83/83 [==============================] - 4s 50ms/step\n"
     ]
    },
    {
     "name": "stderr",
     "output_type": "stream",
     "text": [
      "[WARNING 24-05-01 12:16:40.7560 EDT gradient_boosted_trees.cc:1840] \"goss_alpha\" set but \"sampling_method\" not equal to \"GOSS\".\n",
      "[WARNING 24-05-01 12:16:40.7561 EDT gradient_boosted_trees.cc:1851] \"goss_beta\" set but \"sampling_method\" not equal to \"GOSS\".\n",
      "[WARNING 24-05-01 12:16:40.7561 EDT gradient_boosted_trees.cc:1865] \"selective_gradient_boosting_ratio\" set but \"sampling_method\" not equal to \"SELGB\".\n"
     ]
    },
    {
     "name": "stdout",
     "output_type": "stream",
     "text": [
      "Num validation examples: tf.Tensor(82791, shape=(), dtype=int32)\n"
     ]
    },
    {
     "name": "stderr",
     "output_type": "stream",
     "text": [
      "[INFO 24-05-01 12:17:19.7566 EDT kernel.cc:1233] Loading model from path /var/folders/sc/c663j6bx65391kdjgk7jy_d00000gn/T/tmpgermyfbh/model/ with prefix f1a6e9d3df534650\n",
      "[INFO 24-05-01 12:17:19.7621 EDT quick_scorer_extended.cc:911] The binary was compiled without AVX2 support, but your CPU supports it. Enable it for faster model inference.\n",
      "[INFO 24-05-01 12:17:19.7625 EDT abstract_model.cc:1344] Engine \"GradientBoostedTreesQuickScorerExtended\" built\n",
      "[INFO 24-05-01 12:17:19.7625 EDT kernel.cc:1061] Use fast generic engine\n"
     ]
    },
    {
     "name": "stdout",
     "output_type": "stream",
     "text": [
      "trained forest with max_depth of 3\n",
      "83/83 [==============================] - 4s 42ms/step\n"
     ]
    },
    {
     "name": "stderr",
     "output_type": "stream",
     "text": [
      "[WARNING 24-05-01 12:17:26.1218 EDT gradient_boosted_trees.cc:1840] \"goss_alpha\" set but \"sampling_method\" not equal to \"GOSS\".\n",
      "[WARNING 24-05-01 12:17:26.1218 EDT gradient_boosted_trees.cc:1851] \"goss_beta\" set but \"sampling_method\" not equal to \"GOSS\".\n",
      "[WARNING 24-05-01 12:17:26.1218 EDT gradient_boosted_trees.cc:1865] \"selective_gradient_boosting_ratio\" set but \"sampling_method\" not equal to \"SELGB\".\n"
     ]
    },
    {
     "name": "stdout",
     "output_type": "stream",
     "text": [
      "WARNING:tensorflow:5 out of the last 5 calls to <function CoreModel._consumes_training_examples_until_eof at 0x139857790> triggered tf.function retracing. Tracing is expensive and the excessive number of tracings could be due to (1) creating @tf.function repeatedly in a loop, (2) passing tensors with different shapes, (3) passing Python objects instead of tensors. For (1), please define your @tf.function outside of the loop. For (2), @tf.function has reduce_retracing=True option that can avoid unnecessary retracing. For (3), please refer to https://www.tensorflow.org/guide/function#controlling_retracing and https://www.tensorflow.org/api_docs/python/tf/function for  more details.\n"
     ]
    },
    {
     "name": "stderr",
     "output_type": "stream",
     "text": [
      "WARNING:tensorflow:5 out of the last 5 calls to <function CoreModel._consumes_training_examples_until_eof at 0x139857790> triggered tf.function retracing. Tracing is expensive and the excessive number of tracings could be due to (1) creating @tf.function repeatedly in a loop, (2) passing tensors with different shapes, (3) passing Python objects instead of tensors. For (1), please define your @tf.function outside of the loop. For (2), @tf.function has reduce_retracing=True option that can avoid unnecessary retracing. For (3), please refer to https://www.tensorflow.org/guide/function#controlling_retracing and https://www.tensorflow.org/api_docs/python/tf/function for  more details.\n"
     ]
    },
    {
     "name": "stdout",
     "output_type": "stream",
     "text": [
      "WARNING:tensorflow:5 out of the last 5 calls to <function CoreModel._consumes_validation_examples_until_eof at 0x139857940> triggered tf.function retracing. Tracing is expensive and the excessive number of tracings could be due to (1) creating @tf.function repeatedly in a loop, (2) passing tensors with different shapes, (3) passing Python objects instead of tensors. For (1), please define your @tf.function outside of the loop. For (2), @tf.function has reduce_retracing=True option that can avoid unnecessary retracing. For (3), please refer to https://www.tensorflow.org/guide/function#controlling_retracing and https://www.tensorflow.org/api_docs/python/tf/function for  more details.\n"
     ]
    },
    {
     "name": "stderr",
     "output_type": "stream",
     "text": [
      "WARNING:tensorflow:5 out of the last 5 calls to <function CoreModel._consumes_validation_examples_until_eof at 0x139857940> triggered tf.function retracing. Tracing is expensive and the excessive number of tracings could be due to (1) creating @tf.function repeatedly in a loop, (2) passing tensors with different shapes, (3) passing Python objects instead of tensors. For (1), please define your @tf.function outside of the loop. For (2), @tf.function has reduce_retracing=True option that can avoid unnecessary retracing. For (3), please refer to https://www.tensorflow.org/guide/function#controlling_retracing and https://www.tensorflow.org/api_docs/python/tf/function for  more details.\n"
     ]
    },
    {
     "name": "stdout",
     "output_type": "stream",
     "text": [
      "Num validation examples: tf.Tensor(82791, shape=(), dtype=int32)\n"
     ]
    },
    {
     "name": "stderr",
     "output_type": "stream",
     "text": [
      "[INFO 24-05-01 12:18:14.3950 EDT kernel.cc:1233] Loading model from path /var/folders/sc/c663j6bx65391kdjgk7jy_d00000gn/T/tmpbs8iw1n7/model/ with prefix f7b5d61a727e4e8b\n",
      "[INFO 24-05-01 12:18:14.4049 EDT quick_scorer_extended.cc:911] The binary was compiled without AVX2 support, but your CPU supports it. Enable it for faster model inference.\n",
      "[INFO 24-05-01 12:18:14.4055 EDT abstract_model.cc:1344] Engine \"GradientBoostedTreesQuickScorerExtended\" built\n",
      "[INFO 24-05-01 12:18:14.4055 EDT kernel.cc:1061] Use fast generic engine\n"
     ]
    },
    {
     "name": "stdout",
     "output_type": "stream",
     "text": [
      "trained forest with max_depth of 4\n",
      "83/83 [==============================] - 3s 30ms/step\n"
     ]
    },
    {
     "name": "stderr",
     "output_type": "stream",
     "text": [
      "[WARNING 24-05-01 12:18:19.4660 EDT gradient_boosted_trees.cc:1840] \"goss_alpha\" set but \"sampling_method\" not equal to \"GOSS\".\n",
      "[WARNING 24-05-01 12:18:19.4661 EDT gradient_boosted_trees.cc:1851] \"goss_beta\" set but \"sampling_method\" not equal to \"GOSS\".\n",
      "[WARNING 24-05-01 12:18:19.4661 EDT gradient_boosted_trees.cc:1865] \"selective_gradient_boosting_ratio\" set but \"sampling_method\" not equal to \"SELGB\".\n"
     ]
    },
    {
     "name": "stdout",
     "output_type": "stream",
     "text": [
      "WARNING:tensorflow:6 out of the last 6 calls to <function CoreModel._consumes_training_examples_until_eof at 0x139857790> triggered tf.function retracing. Tracing is expensive and the excessive number of tracings could be due to (1) creating @tf.function repeatedly in a loop, (2) passing tensors with different shapes, (3) passing Python objects instead of tensors. For (1), please define your @tf.function outside of the loop. For (2), @tf.function has reduce_retracing=True option that can avoid unnecessary retracing. For (3), please refer to https://www.tensorflow.org/guide/function#controlling_retracing and https://www.tensorflow.org/api_docs/python/tf/function for  more details.\n"
     ]
    },
    {
     "name": "stderr",
     "output_type": "stream",
     "text": [
      "WARNING:tensorflow:6 out of the last 6 calls to <function CoreModel._consumes_training_examples_until_eof at 0x139857790> triggered tf.function retracing. Tracing is expensive and the excessive number of tracings could be due to (1) creating @tf.function repeatedly in a loop, (2) passing tensors with different shapes, (3) passing Python objects instead of tensors. For (1), please define your @tf.function outside of the loop. For (2), @tf.function has reduce_retracing=True option that can avoid unnecessary retracing. For (3), please refer to https://www.tensorflow.org/guide/function#controlling_retracing and https://www.tensorflow.org/api_docs/python/tf/function for  more details.\n"
     ]
    },
    {
     "name": "stdout",
     "output_type": "stream",
     "text": [
      "WARNING:tensorflow:6 out of the last 6 calls to <function CoreModel._consumes_validation_examples_until_eof at 0x139857940> triggered tf.function retracing. Tracing is expensive and the excessive number of tracings could be due to (1) creating @tf.function repeatedly in a loop, (2) passing tensors with different shapes, (3) passing Python objects instead of tensors. For (1), please define your @tf.function outside of the loop. For (2), @tf.function has reduce_retracing=True option that can avoid unnecessary retracing. For (3), please refer to https://www.tensorflow.org/guide/function#controlling_retracing and https://www.tensorflow.org/api_docs/python/tf/function for  more details.\n"
     ]
    },
    {
     "name": "stderr",
     "output_type": "stream",
     "text": [
      "WARNING:tensorflow:6 out of the last 6 calls to <function CoreModel._consumes_validation_examples_until_eof at 0x139857940> triggered tf.function retracing. Tracing is expensive and the excessive number of tracings could be due to (1) creating @tf.function repeatedly in a loop, (2) passing tensors with different shapes, (3) passing Python objects instead of tensors. For (1), please define your @tf.function outside of the loop. For (2), @tf.function has reduce_retracing=True option that can avoid unnecessary retracing. For (3), please refer to https://www.tensorflow.org/guide/function#controlling_retracing and https://www.tensorflow.org/api_docs/python/tf/function for  more details.\n"
     ]
    },
    {
     "name": "stdout",
     "output_type": "stream",
     "text": [
      "Num validation examples: tf.Tensor(82791, shape=(), dtype=int32)\n"
     ]
    },
    {
     "name": "stderr",
     "output_type": "stream",
     "text": [
      "[INFO 24-05-01 12:19:22.8159 EDT kernel.cc:1233] Loading model from path /var/folders/sc/c663j6bx65391kdjgk7jy_d00000gn/T/tmpbp4kwhua/model/ with prefix 7a059f6ddfa44bbe\n",
      "[INFO 24-05-01 12:19:22.8351 EDT quick_scorer_extended.cc:911] The binary was compiled without AVX2 support, but your CPU supports it. Enable it for faster model inference.\n",
      "[INFO 24-05-01 12:19:22.8360 EDT abstract_model.cc:1344] Engine \"GradientBoostedTreesQuickScorerExtended\" built\n",
      "[INFO 24-05-01 12:19:22.8361 EDT kernel.cc:1061] Use fast generic engine\n"
     ]
    },
    {
     "name": "stdout",
     "output_type": "stream",
     "text": [
      "trained forest with max_depth of 5\n",
      "83/83 [==============================] - 2s 25ms/step\n"
     ]
    },
    {
     "name": "stderr",
     "output_type": "stream",
     "text": [
      "[WARNING 24-05-01 12:19:27.9114 EDT gradient_boosted_trees.cc:1840] \"goss_alpha\" set but \"sampling_method\" not equal to \"GOSS\".\n",
      "[WARNING 24-05-01 12:19:27.9115 EDT gradient_boosted_trees.cc:1851] \"goss_beta\" set but \"sampling_method\" not equal to \"GOSS\".\n",
      "[WARNING 24-05-01 12:19:27.9115 EDT gradient_boosted_trees.cc:1865] \"selective_gradient_boosting_ratio\" set but \"sampling_method\" not equal to \"SELGB\".\n"
     ]
    },
    {
     "name": "stdout",
     "output_type": "stream",
     "text": [
      "Num validation examples: tf.Tensor(82791, shape=(), dtype=int32)\n"
     ]
    },
    {
     "name": "stderr",
     "output_type": "stream",
     "text": [
      "[INFO 24-05-01 12:20:41.5563 EDT kernel.cc:1233] Loading model from path /var/folders/sc/c663j6bx65391kdjgk7jy_d00000gn/T/tmpsv4a1dyf/model/ with prefix e958f9d60c58477b\n",
      "[INFO 24-05-01 12:20:41.5897 EDT quick_scorer_extended.cc:911] The binary was compiled without AVX2 support, but your CPU supports it. Enable it for faster model inference.\n",
      "[INFO 24-05-01 12:20:41.5916 EDT abstract_model.cc:1344] Engine \"GradientBoostedTreesQuickScorerExtended\" built\n",
      "[INFO 24-05-01 12:20:41.5916 EDT kernel.cc:1061] Use fast generic engine\n"
     ]
    },
    {
     "name": "stdout",
     "output_type": "stream",
     "text": [
      "trained forest with max_depth of 6\n",
      "83/83 [==============================] - 2s 22ms/step\n"
     ]
    },
    {
     "name": "stderr",
     "output_type": "stream",
     "text": [
      "[WARNING 24-05-01 12:20:46.1375 EDT gradient_boosted_trees.cc:1840] \"goss_alpha\" set but \"sampling_method\" not equal to \"GOSS\".\n",
      "[WARNING 24-05-01 12:20:46.1375 EDT gradient_boosted_trees.cc:1851] \"goss_beta\" set but \"sampling_method\" not equal to \"GOSS\".\n",
      "[WARNING 24-05-01 12:20:46.1375 EDT gradient_boosted_trees.cc:1865] \"selective_gradient_boosting_ratio\" set but \"sampling_method\" not equal to \"SELGB\".\n"
     ]
    },
    {
     "name": "stdout",
     "output_type": "stream",
     "text": [
      "Num validation examples: tf.Tensor(82791, shape=(), dtype=int32)\n"
     ]
    },
    {
     "name": "stderr",
     "output_type": "stream",
     "text": [
      "[INFO 24-05-01 12:22:00.0579 EDT kernel.cc:1233] Loading model from path /var/folders/sc/c663j6bx65391kdjgk7jy_d00000gn/T/tmpluge5dgv/model/ with prefix 4469d1d56a4847af\n",
      "[INFO 24-05-01 12:22:00.1068 EDT quick_scorer_extended.cc:911] The binary was compiled without AVX2 support, but your CPU supports it. Enable it for faster model inference.\n",
      "[INFO 24-05-01 12:22:00.1090 EDT abstract_model.cc:1344] Engine \"GradientBoostedTreesQuickScorerExtended\" built\n",
      "[INFO 24-05-01 12:22:00.1090 EDT kernel.cc:1061] Use fast generic engine\n"
     ]
    },
    {
     "name": "stdout",
     "output_type": "stream",
     "text": [
      "trained forest with max_depth of 7\n",
      "83/83 [==============================] - 2s 24ms/step\n"
     ]
    },
    {
     "name": "stderr",
     "output_type": "stream",
     "text": [
      "[WARNING 24-05-01 12:22:04.8744 EDT gradient_boosted_trees.cc:1840] \"goss_alpha\" set but \"sampling_method\" not equal to \"GOSS\".\n",
      "[WARNING 24-05-01 12:22:04.8745 EDT gradient_boosted_trees.cc:1851] \"goss_beta\" set but \"sampling_method\" not equal to \"GOSS\".\n",
      "[WARNING 24-05-01 12:22:04.8745 EDT gradient_boosted_trees.cc:1865] \"selective_gradient_boosting_ratio\" set but \"sampling_method\" not equal to \"SELGB\".\n"
     ]
    },
    {
     "name": "stdout",
     "output_type": "stream",
     "text": [
      "Num validation examples: tf.Tensor(82791, shape=(), dtype=int32)\n"
     ]
    },
    {
     "name": "stderr",
     "output_type": "stream",
     "text": [
      "[INFO 24-05-01 12:23:17.6049 EDT kernel.cc:1233] Loading model from path /var/folders/sc/c663j6bx65391kdjgk7jy_d00000gn/T/tmpxqsf3r6b/model/ with prefix 9ba0c61308b84b48\n",
      "[INFO 24-05-01 12:23:17.6759 EDT decision_forest.cc:734] Model loaded with 175 root(s), 32671 node(s), and 33 input feature(s).\n",
      "[INFO 24-05-01 12:23:17.6759 EDT abstract_model.cc:1344] Engine \"GradientBoostedTreesOptPred\" built\n",
      "[INFO 24-05-01 12:23:17.6760 EDT kernel.cc:1061] Use fast generic engine\n"
     ]
    },
    {
     "name": "stdout",
     "output_type": "stream",
     "text": [
      "trained forest with max_depth of 8\n",
      "83/83 [==============================] - 2s 27ms/step\n"
     ]
    },
    {
     "name": "stderr",
     "output_type": "stream",
     "text": [
      "[WARNING 24-05-01 12:23:23.1099 EDT gradient_boosted_trees.cc:1840] \"goss_alpha\" set but \"sampling_method\" not equal to \"GOSS\".\n",
      "[WARNING 24-05-01 12:23:23.1100 EDT gradient_boosted_trees.cc:1851] \"goss_beta\" set but \"sampling_method\" not equal to \"GOSS\".\n",
      "[WARNING 24-05-01 12:23:23.1100 EDT gradient_boosted_trees.cc:1865] \"selective_gradient_boosting_ratio\" set but \"sampling_method\" not equal to \"SELGB\".\n"
     ]
    },
    {
     "name": "stdout",
     "output_type": "stream",
     "text": [
      "Num validation examples: tf.Tensor(82791, shape=(), dtype=int32)\n"
     ]
    },
    {
     "name": "stderr",
     "output_type": "stream",
     "text": [
      "[INFO 24-05-01 12:24:34.2798 EDT kernel.cc:1233] Loading model from path /var/folders/sc/c663j6bx65391kdjgk7jy_d00000gn/T/tmpgg86v0es/model/ with prefix 5548fba84b6747ca\n",
      "[INFO 24-05-01 12:24:34.3824 EDT decision_forest.cc:734] Model loaded with 140 root(s), 46782 node(s), and 33 input feature(s).\n",
      "[INFO 24-05-01 12:24:34.3825 EDT abstract_model.cc:1344] Engine \"GradientBoostedTreesOptPred\" built\n",
      "[INFO 24-05-01 12:24:34.3825 EDT kernel.cc:1061] Use fast generic engine\n"
     ]
    },
    {
     "name": "stdout",
     "output_type": "stream",
     "text": [
      "trained forest with max_depth of 9\n",
      "83/83 [==============================] - 2s 25ms/step\n"
     ]
    },
    {
     "name": "stderr",
     "output_type": "stream",
     "text": [
      "[WARNING 24-05-01 12:24:39.0892 EDT gradient_boosted_trees.cc:1840] \"goss_alpha\" set but \"sampling_method\" not equal to \"GOSS\".\n",
      "[WARNING 24-05-01 12:24:39.0892 EDT gradient_boosted_trees.cc:1851] \"goss_beta\" set but \"sampling_method\" not equal to \"GOSS\".\n",
      "[WARNING 24-05-01 12:24:39.0893 EDT gradient_boosted_trees.cc:1865] \"selective_gradient_boosting_ratio\" set but \"sampling_method\" not equal to \"SELGB\".\n"
     ]
    },
    {
     "name": "stdout",
     "output_type": "stream",
     "text": [
      "Num validation examples: tf.Tensor(82791, shape=(), dtype=int32)\n"
     ]
    },
    {
     "name": "stderr",
     "output_type": "stream",
     "text": [
      "[INFO 24-05-01 12:25:41.7121 EDT kernel.cc:1233] Loading model from path /var/folders/sc/c663j6bx65391kdjgk7jy_d00000gn/T/tmp_z4fhg7j/model/ with prefix 620c56ec4282484c\n",
      "[INFO 24-05-01 12:25:41.8427 EDT decision_forest.cc:734] Model loaded with 89 root(s), 58005 node(s), and 33 input feature(s).\n",
      "[INFO 24-05-01 12:25:41.8428 EDT abstract_model.cc:1344] Engine \"GradientBoostedTreesOptPred\" built\n",
      "[INFO 24-05-01 12:25:41.8428 EDT kernel.cc:1061] Use fast generic engine\n"
     ]
    },
    {
     "name": "stdout",
     "output_type": "stream",
     "text": [
      "trained forest with max_depth of 10\n",
      "83/83 [==============================] - 2s 25ms/step\n"
     ]
    },
    {
     "name": "stderr",
     "output_type": "stream",
     "text": [
      "[WARNING 24-05-01 12:25:46.4831 EDT gradient_boosted_trees.cc:1840] \"goss_alpha\" set but \"sampling_method\" not equal to \"GOSS\".\n",
      "[WARNING 24-05-01 12:25:46.4832 EDT gradient_boosted_trees.cc:1851] \"goss_beta\" set but \"sampling_method\" not equal to \"GOSS\".\n",
      "[WARNING 24-05-01 12:25:46.4832 EDT gradient_boosted_trees.cc:1865] \"selective_gradient_boosting_ratio\" set but \"sampling_method\" not equal to \"SELGB\".\n"
     ]
    },
    {
     "name": "stdout",
     "output_type": "stream",
     "text": [
      "Num validation examples: tf.Tensor(82791, shape=(), dtype=int32)\n"
     ]
    },
    {
     "name": "stderr",
     "output_type": "stream",
     "text": [
      "[INFO 24-05-01 12:26:59.6756 EDT kernel.cc:1233] Loading model from path /var/folders/sc/c663j6bx65391kdjgk7jy_d00000gn/T/tmp_sdp_cco/model/ with prefix 9b297ce223bb47ab\n",
      "[INFO 24-05-01 12:26:59.8892 EDT decision_forest.cc:734] Model loaded with 87 root(s), 94951 node(s), and 33 input feature(s).\n",
      "[INFO 24-05-01 12:26:59.8892 EDT abstract_model.cc:1344] Engine \"GradientBoostedTreesOptPred\" built\n",
      "[INFO 24-05-01 12:26:59.8893 EDT kernel.cc:1061] Use fast generic engine\n"
     ]
    },
    {
     "name": "stdout",
     "output_type": "stream",
     "text": [
      "trained forest with max_depth of 11\n",
      "83/83 [==============================] - 2s 25ms/step\n"
     ]
    },
    {
     "name": "stderr",
     "output_type": "stream",
     "text": [
      "[WARNING 24-05-01 12:27:04.6177 EDT gradient_boosted_trees.cc:1840] \"goss_alpha\" set but \"sampling_method\" not equal to \"GOSS\".\n",
      "[WARNING 24-05-01 12:27:04.6178 EDT gradient_boosted_trees.cc:1851] \"goss_beta\" set but \"sampling_method\" not equal to \"GOSS\".\n",
      "[WARNING 24-05-01 12:27:04.6178 EDT gradient_boosted_trees.cc:1865] \"selective_gradient_boosting_ratio\" set but \"sampling_method\" not equal to \"SELGB\".\n"
     ]
    },
    {
     "name": "stdout",
     "output_type": "stream",
     "text": [
      "Num validation examples: tf.Tensor(82791, shape=(), dtype=int32)\n"
     ]
    },
    {
     "name": "stderr",
     "output_type": "stream",
     "text": [
      "[INFO 24-05-01 12:28:21.0167 EDT kernel.cc:1233] Loading model from path /var/folders/sc/c663j6bx65391kdjgk7jy_d00000gn/T/tmpjklr671n/model/ with prefix c973d7eb6ab44ab6\n",
      "[INFO 24-05-01 12:28:21.3213 EDT decision_forest.cc:734] Model loaded with 67 root(s), 134519 node(s), and 33 input feature(s).\n",
      "[INFO 24-05-01 12:28:21.3213 EDT abstract_model.cc:1344] Engine \"GradientBoostedTreesOptPred\" built\n",
      "[INFO 24-05-01 12:28:21.3213 EDT kernel.cc:1061] Use fast generic engine\n"
     ]
    },
    {
     "name": "stdout",
     "output_type": "stream",
     "text": [
      "trained forest with max_depth of 12\n",
      "83/83 [==============================] - 2s 25ms/step\n"
     ]
    },
    {
     "name": "stderr",
     "output_type": "stream",
     "text": [
      "[WARNING 24-05-01 12:28:25.9895 EDT gradient_boosted_trees.cc:1840] \"goss_alpha\" set but \"sampling_method\" not equal to \"GOSS\".\n",
      "[WARNING 24-05-01 12:28:25.9896 EDT gradient_boosted_trees.cc:1851] \"goss_beta\" set but \"sampling_method\" not equal to \"GOSS\".\n",
      "[WARNING 24-05-01 12:28:25.9896 EDT gradient_boosted_trees.cc:1865] \"selective_gradient_boosting_ratio\" set but \"sampling_method\" not equal to \"SELGB\".\n"
     ]
    },
    {
     "name": "stdout",
     "output_type": "stream",
     "text": [
      "Num validation examples: tf.Tensor(82791, shape=(), dtype=int32)\n"
     ]
    },
    {
     "name": "stderr",
     "output_type": "stream",
     "text": [
      "[INFO 24-05-01 12:29:49.7685 EDT kernel.cc:1233] Loading model from path /var/folders/sc/c663j6bx65391kdjgk7jy_d00000gn/T/tmpxo70r7ao/model/ with prefix 97de82b6701b4502\n",
      "[INFO 24-05-01 12:29:50.1905 EDT decision_forest.cc:734] Model loaded with 53 root(s), 184083 node(s), and 33 input feature(s).\n",
      "[INFO 24-05-01 12:29:50.1906 EDT abstract_model.cc:1344] Engine \"GradientBoostedTreesOptPred\" built\n",
      "[INFO 24-05-01 12:29:50.1906 EDT kernel.cc:1061] Use fast generic engine\n"
     ]
    },
    {
     "name": "stdout",
     "output_type": "stream",
     "text": [
      "trained forest with max_depth of 13\n",
      "83/83 [==============================] - 2s 24ms/step\n"
     ]
    },
    {
     "name": "stderr",
     "output_type": "stream",
     "text": [
      "[WARNING 24-05-01 12:29:54.8967 EDT gradient_boosted_trees.cc:1840] \"goss_alpha\" set but \"sampling_method\" not equal to \"GOSS\".\n",
      "[WARNING 24-05-01 12:29:54.8968 EDT gradient_boosted_trees.cc:1851] \"goss_beta\" set but \"sampling_method\" not equal to \"GOSS\".\n",
      "[WARNING 24-05-01 12:29:54.8968 EDT gradient_boosted_trees.cc:1865] \"selective_gradient_boosting_ratio\" set but \"sampling_method\" not equal to \"SELGB\".\n"
     ]
    },
    {
     "name": "stdout",
     "output_type": "stream",
     "text": [
      "Num validation examples: tf.Tensor(82791, shape=(), dtype=int32)\n"
     ]
    },
    {
     "name": "stderr",
     "output_type": "stream",
     "text": [
      "[INFO 24-05-01 12:31:24.5290 EDT kernel.cc:1233] Loading model from path /var/folders/sc/c663j6bx65391kdjgk7jy_d00000gn/T/tmpnjq30q1o/model/ with prefix a9c2c88c922a498f\n",
      "[INFO 24-05-01 12:31:25.0396 EDT decision_forest.cc:734] Model loaded with 39 root(s), 225759 node(s), and 33 input feature(s).\n",
      "[INFO 24-05-01 12:31:25.0396 EDT abstract_model.cc:1344] Engine \"GradientBoostedTreesOptPred\" built\n",
      "[INFO 24-05-01 12:31:25.0396 EDT kernel.cc:1061] Use fast generic engine\n"
     ]
    },
    {
     "name": "stdout",
     "output_type": "stream",
     "text": [
      "trained forest with max_depth of 14\n",
      "83/83 [==============================] - 2s 25ms/step\n"
     ]
    },
    {
     "name": "stderr",
     "output_type": "stream",
     "text": [
      "[WARNING 24-05-01 12:31:29.7454 EDT gradient_boosted_trees.cc:1840] \"goss_alpha\" set but \"sampling_method\" not equal to \"GOSS\".\n",
      "[WARNING 24-05-01 12:31:29.7454 EDT gradient_boosted_trees.cc:1851] \"goss_beta\" set but \"sampling_method\" not equal to \"GOSS\".\n",
      "[WARNING 24-05-01 12:31:29.7454 EDT gradient_boosted_trees.cc:1865] \"selective_gradient_boosting_ratio\" set but \"sampling_method\" not equal to \"SELGB\".\n"
     ]
    },
    {
     "name": "stdout",
     "output_type": "stream",
     "text": [
      "Num validation examples: tf.Tensor(82791, shape=(), dtype=int32)\n"
     ]
    },
    {
     "name": "stderr",
     "output_type": "stream",
     "text": [
      "[INFO 24-05-01 12:33:19.6706 EDT kernel.cc:1233] Loading model from path /var/folders/sc/c663j6bx65391kdjgk7jy_d00000gn/T/tmphvlah_8x/model/ with prefix 8a66679f83164d5e\n",
      "[INFO 24-05-01 12:33:20.3363 EDT decision_forest.cc:734] Model loaded with 34 root(s), 298848 node(s), and 33 input feature(s).\n",
      "[INFO 24-05-01 12:33:20.3363 EDT abstract_model.cc:1344] Engine \"GradientBoostedTreesOptPred\" built\n",
      "[INFO 24-05-01 12:33:20.3363 EDT kernel.cc:1061] Use fast generic engine\n"
     ]
    },
    {
     "name": "stdout",
     "output_type": "stream",
     "text": [
      "trained forest with max_depth of 15\n",
      "83/83 [==============================] - 2s 22ms/step\n"
     ]
    },
    {
     "name": "stderr",
     "output_type": "stream",
     "text": [
      "[WARNING 24-05-01 12:33:24.8803 EDT gradient_boosted_trees.cc:1840] \"goss_alpha\" set but \"sampling_method\" not equal to \"GOSS\".\n",
      "[WARNING 24-05-01 12:33:24.8804 EDT gradient_boosted_trees.cc:1851] \"goss_beta\" set but \"sampling_method\" not equal to \"GOSS\".\n",
      "[WARNING 24-05-01 12:33:24.8804 EDT gradient_boosted_trees.cc:1865] \"selective_gradient_boosting_ratio\" set but \"sampling_method\" not equal to \"SELGB\".\n"
     ]
    },
    {
     "name": "stdout",
     "output_type": "stream",
     "text": [
      "Num validation examples: tf.Tensor(82791, shape=(), dtype=int32)\n"
     ]
    },
    {
     "name": "stderr",
     "output_type": "stream",
     "text": [
      "[INFO 24-05-01 12:35:35.6557 EDT kernel.cc:1233] Loading model from path /var/folders/sc/c663j6bx65391kdjgk7jy_d00000gn/T/tmpvww2o1xp/model/ with prefix 12b44c5043fa4b37\n",
      "[INFO 24-05-01 12:35:36.4807 EDT decision_forest.cc:734] Model loaded with 29 root(s), 369813 node(s), and 33 input feature(s).\n",
      "[INFO 24-05-01 12:35:36.4808 EDT abstract_model.cc:1344] Engine \"GradientBoostedTreesOptPred\" built\n",
      "[INFO 24-05-01 12:35:36.4808 EDT kernel.cc:1061] Use fast generic engine\n"
     ]
    },
    {
     "name": "stdout",
     "output_type": "stream",
     "text": [
      "trained forest with max_depth of 16\n",
      "83/83 [==============================] - 2s 22ms/step\n"
     ]
    },
    {
     "name": "stderr",
     "output_type": "stream",
     "text": [
      "[WARNING 24-05-01 12:35:40.9901 EDT gradient_boosted_trees.cc:1840] \"goss_alpha\" set but \"sampling_method\" not equal to \"GOSS\".\n",
      "[WARNING 24-05-01 12:35:40.9901 EDT gradient_boosted_trees.cc:1851] \"goss_beta\" set but \"sampling_method\" not equal to \"GOSS\".\n",
      "[WARNING 24-05-01 12:35:40.9902 EDT gradient_boosted_trees.cc:1865] \"selective_gradient_boosting_ratio\" set but \"sampling_method\" not equal to \"SELGB\".\n"
     ]
    },
    {
     "name": "stdout",
     "output_type": "stream",
     "text": [
      "Num validation examples: tf.Tensor(82791, shape=(), dtype=int32)\n"
     ]
    },
    {
     "name": "stderr",
     "output_type": "stream",
     "text": [
      "[INFO 24-05-01 12:38:15.7197 EDT kernel.cc:1233] Loading model from path /var/folders/sc/c663j6bx65391kdjgk7jy_d00000gn/T/tmpj5aoiyf7/model/ with prefix 7717c76d13254e48\n",
      "[INFO 24-05-01 12:38:16.6754 EDT decision_forest.cc:734] Model loaded with 24 root(s), 422264 node(s), and 33 input feature(s).\n",
      "[INFO 24-05-01 12:38:16.6754 EDT abstract_model.cc:1344] Engine \"GradientBoostedTreesOptPred\" built\n",
      "[INFO 24-05-01 12:38:16.6755 EDT kernel.cc:1061] Use fast generic engine\n"
     ]
    },
    {
     "name": "stdout",
     "output_type": "stream",
     "text": [
      "trained forest with max_depth of 17\n",
      "83/83 [==============================] - 2s 23ms/step\n"
     ]
    },
    {
     "name": "stderr",
     "output_type": "stream",
     "text": [
      "[WARNING 24-05-01 12:38:21.2795 EDT gradient_boosted_trees.cc:1840] \"goss_alpha\" set but \"sampling_method\" not equal to \"GOSS\".\n",
      "[WARNING 24-05-01 12:38:21.2796 EDT gradient_boosted_trees.cc:1851] \"goss_beta\" set but \"sampling_method\" not equal to \"GOSS\".\n",
      "[WARNING 24-05-01 12:38:21.2796 EDT gradient_boosted_trees.cc:1865] \"selective_gradient_boosting_ratio\" set but \"sampling_method\" not equal to \"SELGB\".\n"
     ]
    },
    {
     "name": "stdout",
     "output_type": "stream",
     "text": [
      "Num validation examples: tf.Tensor(82791, shape=(), dtype=int32)\n"
     ]
    },
    {
     "name": "stderr",
     "output_type": "stream",
     "text": [
      "[INFO 24-05-01 12:41:23.4616 EDT kernel.cc:1233] Loading model from path /var/folders/sc/c663j6bx65391kdjgk7jy_d00000gn/T/tmpv8qhywi1/model/ with prefix d1832db093bf4c66\n",
      "[INFO 24-05-01 12:41:24.5065 EDT decision_forest.cc:734] Model loaded with 21 root(s), 466713 node(s), and 33 input feature(s).\n",
      "[INFO 24-05-01 12:41:24.5066 EDT abstract_model.cc:1344] Engine \"GradientBoostedTreesOptPred\" built\n",
      "[INFO 24-05-01 12:41:24.5066 EDT kernel.cc:1061] Use fast generic engine\n"
     ]
    },
    {
     "name": "stdout",
     "output_type": "stream",
     "text": [
      "trained forest with max_depth of 18\n",
      "83/83 [==============================] - 2s 22ms/step\n"
     ]
    },
    {
     "name": "stderr",
     "output_type": "stream",
     "text": [
      "[WARNING 24-05-01 12:41:29.0877 EDT gradient_boosted_trees.cc:1840] \"goss_alpha\" set but \"sampling_method\" not equal to \"GOSS\".\n",
      "[WARNING 24-05-01 12:41:29.0877 EDT gradient_boosted_trees.cc:1851] \"goss_beta\" set but \"sampling_method\" not equal to \"GOSS\".\n",
      "[WARNING 24-05-01 12:41:29.0878 EDT gradient_boosted_trees.cc:1865] \"selective_gradient_boosting_ratio\" set but \"sampling_method\" not equal to \"SELGB\".\n"
     ]
    },
    {
     "name": "stdout",
     "output_type": "stream",
     "text": [
      "Num validation examples: tf.Tensor(82791, shape=(), dtype=int32)\n"
     ]
    },
    {
     "name": "stderr",
     "output_type": "stream",
     "text": [
      "[INFO 24-05-01 12:45:17.6394 EDT kernel.cc:1233] Loading model from path /var/folders/sc/c663j6bx65391kdjgk7jy_d00000gn/T/tmprdqfwcrj/model/ with prefix e3dea52e987048c3\n",
      "[INFO 24-05-01 12:45:18.8754 EDT decision_forest.cc:734] Model loaded with 20 root(s), 559922 node(s), and 33 input feature(s).\n",
      "[INFO 24-05-01 12:45:18.8754 EDT abstract_model.cc:1344] Engine \"GradientBoostedTreesOptPred\" built\n",
      "[INFO 24-05-01 12:45:18.8755 EDT kernel.cc:1061] Use fast generic engine\n"
     ]
    },
    {
     "name": "stdout",
     "output_type": "stream",
     "text": [
      "trained forest with max_depth of 19\n",
      "83/83 [==============================] - 2s 23ms/step\n"
     ]
    },
    {
     "name": "stderr",
     "output_type": "stream",
     "text": [
      "[WARNING 24-05-01 12:45:23.5741 EDT gradient_boosted_trees.cc:1840] \"goss_alpha\" set but \"sampling_method\" not equal to \"GOSS\".\n",
      "[WARNING 24-05-01 12:45:23.5741 EDT gradient_boosted_trees.cc:1851] \"goss_beta\" set but \"sampling_method\" not equal to \"GOSS\".\n",
      "[WARNING 24-05-01 12:45:23.5741 EDT gradient_boosted_trees.cc:1865] \"selective_gradient_boosting_ratio\" set but \"sampling_method\" not equal to \"SELGB\".\n"
     ]
    },
    {
     "name": "stdout",
     "output_type": "stream",
     "text": [
      "Num validation examples: tf.Tensor(82791, shape=(), dtype=int32)\n"
     ]
    },
    {
     "name": "stderr",
     "output_type": "stream",
     "text": [
      "[INFO 24-05-01 12:49:47.0659 EDT kernel.cc:1233] Loading model from path /var/folders/sc/c663j6bx65391kdjgk7jy_d00000gn/T/tmpylvyuxjc/model/ with prefix fc8dee8f9ada47bf\n",
      "[INFO 24-05-01 12:49:48.3891 EDT decision_forest.cc:734] Model loaded with 18 root(s), 598422 node(s), and 33 input feature(s).\n",
      "[INFO 24-05-01 12:49:48.3892 EDT abstract_model.cc:1344] Engine \"GradientBoostedTreesOptPred\" built\n",
      "[INFO 24-05-01 12:49:48.3892 EDT kernel.cc:1061] Use fast generic engine\n"
     ]
    },
    {
     "name": "stdout",
     "output_type": "stream",
     "text": [
      "trained forest with max_depth of 20\n",
      "83/83 [==============================] - 2s 23ms/step\n"
     ]
    },
    {
     "name": "stderr",
     "output_type": "stream",
     "text": [
      "[WARNING 24-05-01 12:49:53.0583 EDT gradient_boosted_trees.cc:1840] \"goss_alpha\" set but \"sampling_method\" not equal to \"GOSS\".\n",
      "[WARNING 24-05-01 12:49:53.0584 EDT gradient_boosted_trees.cc:1851] \"goss_beta\" set but \"sampling_method\" not equal to \"GOSS\".\n",
      "[WARNING 24-05-01 12:49:53.0584 EDT gradient_boosted_trees.cc:1865] \"selective_gradient_boosting_ratio\" set but \"sampling_method\" not equal to \"SELGB\".\n"
     ]
    },
    {
     "name": "stdout",
     "output_type": "stream",
     "text": [
      "Num validation examples: tf.Tensor(82791, shape=(), dtype=int32)\n"
     ]
    },
    {
     "name": "stderr",
     "output_type": "stream",
     "text": [
      "[INFO 24-05-01 12:55:01.2214 EDT kernel.cc:1233] Loading model from path /var/folders/sc/c663j6bx65391kdjgk7jy_d00000gn/T/tmpcxxnz_u6/model/ with prefix e1aa7abb9cee4630\n",
      "[INFO 24-05-01 12:55:02.7632 EDT decision_forest.cc:734] Model loaded with 18 root(s), 681504 node(s), and 33 input feature(s).\n",
      "[INFO 24-05-01 12:55:02.7632 EDT abstract_model.cc:1344] Engine \"GradientBoostedTreesOptPred\" built\n",
      "[INFO 24-05-01 12:55:02.7632 EDT kernel.cc:1061] Use fast generic engine\n"
     ]
    },
    {
     "name": "stdout",
     "output_type": "stream",
     "text": [
      "trained forest with max_depth of 21\n",
      "83/83 [==============================] - 2s 23ms/step\n"
     ]
    },
    {
     "name": "stderr",
     "output_type": "stream",
     "text": [
      "[WARNING 24-05-01 12:55:07.4281 EDT gradient_boosted_trees.cc:1840] \"goss_alpha\" set but \"sampling_method\" not equal to \"GOSS\".\n",
      "[WARNING 24-05-01 12:55:07.4282 EDT gradient_boosted_trees.cc:1851] \"goss_beta\" set but \"sampling_method\" not equal to \"GOSS\".\n",
      "[WARNING 24-05-01 12:55:07.4282 EDT gradient_boosted_trees.cc:1865] \"selective_gradient_boosting_ratio\" set but \"sampling_method\" not equal to \"SELGB\".\n"
     ]
    },
    {
     "name": "stdout",
     "output_type": "stream",
     "text": [
      "Num validation examples: tf.Tensor(82791, shape=(), dtype=int32)\n"
     ]
    },
    {
     "name": "stderr",
     "output_type": "stream",
     "text": [
      "[INFO 24-05-01 13:01:01.2468 EDT kernel.cc:1233] Loading model from path /var/folders/sc/c663j6bx65391kdjgk7jy_d00000gn/T/tmp0jjeayjj/model/ with prefix 61550dee92ac4088\n",
      "[INFO 24-05-01 13:01:03.0539 EDT decision_forest.cc:734] Model loaded with 18 root(s), 780332 node(s), and 33 input feature(s).\n",
      "[INFO 24-05-01 13:01:03.0539 EDT abstract_model.cc:1344] Engine \"GradientBoostedTreesOptPred\" built\n",
      "[INFO 24-05-01 13:01:03.0539 EDT kernel.cc:1061] Use fast generic engine\n"
     ]
    },
    {
     "name": "stdout",
     "output_type": "stream",
     "text": [
      "trained forest with max_depth of 22\n",
      "83/83 [==============================] - 2s 23ms/step\n"
     ]
    },
    {
     "name": "stderr",
     "output_type": "stream",
     "text": [
      "[WARNING 24-05-01 13:01:07.7384 EDT gradient_boosted_trees.cc:1840] \"goss_alpha\" set but \"sampling_method\" not equal to \"GOSS\".\n",
      "[WARNING 24-05-01 13:01:07.7384 EDT gradient_boosted_trees.cc:1851] \"goss_beta\" set but \"sampling_method\" not equal to \"GOSS\".\n",
      "[WARNING 24-05-01 13:01:07.7385 EDT gradient_boosted_trees.cc:1865] \"selective_gradient_boosting_ratio\" set but \"sampling_method\" not equal to \"SELGB\".\n"
     ]
    },
    {
     "name": "stdout",
     "output_type": "stream",
     "text": [
      "Num validation examples: tf.Tensor(82791, shape=(), dtype=int32)\n"
     ]
    },
    {
     "name": "stderr",
     "output_type": "stream",
     "text": [
      "[INFO 24-05-01 13:07:40.5497 EDT kernel.cc:1233] Loading model from path /var/folders/sc/c663j6bx65391kdjgk7jy_d00000gn/T/tmpmafvb62q/model/ with prefix afc6d35379ce4040\n",
      "[INFO 24-05-01 13:07:42.5009 EDT decision_forest.cc:734] Model loaded with 17 root(s), 807997 node(s), and 33 input feature(s).\n",
      "[INFO 24-05-01 13:07:42.5010 EDT abstract_model.cc:1344] Engine \"GradientBoostedTreesOptPred\" built\n",
      "[INFO 24-05-01 13:07:42.5010 EDT kernel.cc:1061] Use fast generic engine\n"
     ]
    },
    {
     "name": "stdout",
     "output_type": "stream",
     "text": [
      "trained forest with max_depth of 23\n",
      "83/83 [==============================] - 2s 25ms/step\n"
     ]
    },
    {
     "name": "stderr",
     "output_type": "stream",
     "text": [
      "[WARNING 24-05-01 13:07:47.4979 EDT gradient_boosted_trees.cc:1840] \"goss_alpha\" set but \"sampling_method\" not equal to \"GOSS\".\n",
      "[WARNING 24-05-01 13:07:47.4980 EDT gradient_boosted_trees.cc:1851] \"goss_beta\" set but \"sampling_method\" not equal to \"GOSS\".\n",
      "[WARNING 24-05-01 13:07:47.4980 EDT gradient_boosted_trees.cc:1865] \"selective_gradient_boosting_ratio\" set but \"sampling_method\" not equal to \"SELGB\".\n"
     ]
    },
    {
     "name": "stdout",
     "output_type": "stream",
     "text": [
      "Num validation examples: tf.Tensor(82791, shape=(), dtype=int32)\n"
     ]
    },
    {
     "name": "stderr",
     "output_type": "stream",
     "text": [
      "[INFO 24-05-01 13:14:58.2858 EDT kernel.cc:1233] Loading model from path /var/folders/sc/c663j6bx65391kdjgk7jy_d00000gn/T/tmpg79ylzsv/model/ with prefix e2e38a3ffc20400d\n",
      "[INFO 24-05-01 13:15:00.3345 EDT decision_forest.cc:734] Model loaded with 17 root(s), 878393 node(s), and 33 input feature(s).\n",
      "[INFO 24-05-01 13:15:00.3345 EDT abstract_model.cc:1344] Engine \"GradientBoostedTreesOptPred\" built\n",
      "[INFO 24-05-01 13:15:00.3346 EDT kernel.cc:1061] Use fast generic engine\n"
     ]
    },
    {
     "name": "stdout",
     "output_type": "stream",
     "text": [
      "trained forest with max_depth of 24\n",
      "83/83 [==============================] - 2s 22ms/step\n"
     ]
    },
    {
     "name": "stderr",
     "output_type": "stream",
     "text": [
      "[WARNING 24-05-01 13:15:05.0426 EDT gradient_boosted_trees.cc:1840] \"goss_alpha\" set but \"sampling_method\" not equal to \"GOSS\".\n",
      "[WARNING 24-05-01 13:15:05.0427 EDT gradient_boosted_trees.cc:1851] \"goss_beta\" set but \"sampling_method\" not equal to \"GOSS\".\n",
      "[WARNING 24-05-01 13:15:05.0427 EDT gradient_boosted_trees.cc:1865] \"selective_gradient_boosting_ratio\" set but \"sampling_method\" not equal to \"SELGB\".\n"
     ]
    },
    {
     "name": "stdout",
     "output_type": "stream",
     "text": [
      "Num validation examples: tf.Tensor(82791, shape=(), dtype=int32)\n"
     ]
    },
    {
     "name": "stderr",
     "output_type": "stream",
     "text": [
      "[INFO 24-05-01 13:23:39.1729 EDT kernel.cc:1233] Loading model from path /var/folders/sc/c663j6bx65391kdjgk7jy_d00000gn/T/tmp3eor392j/model/ with prefix e4a0104ae0744ebb\n",
      "[INFO 24-05-01 13:23:41.3709 EDT decision_forest.cc:734] Model loaded with 16 root(s), 895254 node(s), and 33 input feature(s).\n",
      "[INFO 24-05-01 13:23:41.3709 EDT abstract_model.cc:1344] Engine \"GradientBoostedTreesOptPred\" built\n",
      "[INFO 24-05-01 13:23:41.3710 EDT kernel.cc:1061] Use fast generic engine\n"
     ]
    },
    {
     "name": "stdout",
     "output_type": "stream",
     "text": [
      "trained forest with max_depth of 25\n",
      "83/83 [==============================] - 2s 25ms/step\n"
     ]
    },
    {
     "name": "stderr",
     "output_type": "stream",
     "text": [
      "[WARNING 24-05-01 13:23:46.6778 EDT gradient_boosted_trees.cc:1840] \"goss_alpha\" set but \"sampling_method\" not equal to \"GOSS\".\n",
      "[WARNING 24-05-01 13:23:46.6779 EDT gradient_boosted_trees.cc:1851] \"goss_beta\" set but \"sampling_method\" not equal to \"GOSS\".\n",
      "[WARNING 24-05-01 13:23:46.6779 EDT gradient_boosted_trees.cc:1865] \"selective_gradient_boosting_ratio\" set but \"sampling_method\" not equal to \"SELGB\".\n"
     ]
    },
    {
     "name": "stdout",
     "output_type": "stream",
     "text": [
      "Num validation examples: tf.Tensor(82791, shape=(), dtype=int32)\n"
     ]
    },
    {
     "name": "stderr",
     "output_type": "stream",
     "text": [
      "[INFO 24-05-01 13:33:07.6780 EDT kernel.cc:1233] Loading model from path /var/folders/sc/c663j6bx65391kdjgk7jy_d00000gn/T/tmpz5_a7__r/model/ with prefix c437ce11a5ef4efd\n",
      "[INFO 24-05-01 13:33:09.9700 EDT decision_forest.cc:734] Model loaded with 16 root(s), 940798 node(s), and 33 input feature(s).\n",
      "[INFO 24-05-01 13:33:09.9701 EDT abstract_model.cc:1344] Engine \"GradientBoostedTreesOptPred\" built\n",
      "[INFO 24-05-01 13:33:09.9701 EDT kernel.cc:1061] Use fast generic engine\n"
     ]
    },
    {
     "name": "stdout",
     "output_type": "stream",
     "text": [
      "trained forest with max_depth of 26\n",
      "83/83 [==============================] - 2s 26ms/step\n"
     ]
    },
    {
     "name": "stderr",
     "output_type": "stream",
     "text": [
      "[WARNING 24-05-01 13:33:15.3402 EDT gradient_boosted_trees.cc:1840] \"goss_alpha\" set but \"sampling_method\" not equal to \"GOSS\".\n",
      "[WARNING 24-05-01 13:33:15.3402 EDT gradient_boosted_trees.cc:1851] \"goss_beta\" set but \"sampling_method\" not equal to \"GOSS\".\n",
      "[WARNING 24-05-01 13:33:15.3402 EDT gradient_boosted_trees.cc:1865] \"selective_gradient_boosting_ratio\" set but \"sampling_method\" not equal to \"SELGB\".\n"
     ]
    },
    {
     "name": "stdout",
     "output_type": "stream",
     "text": [
      "Num validation examples: tf.Tensor(82791, shape=(), dtype=int32)\n"
     ]
    },
    {
     "name": "stderr",
     "output_type": "stream",
     "text": [
      "[INFO 24-05-01 13:42:38.3528 EDT kernel.cc:1233] Loading model from path /var/folders/sc/c663j6bx65391kdjgk7jy_d00000gn/T/tmp04f59o8n/model/ with prefix cd1899f8d2ff4b4e\n",
      "[INFO 24-05-01 13:42:40.5991 EDT decision_forest.cc:734] Model loaded with 15 root(s), 928177 node(s), and 33 input feature(s).\n",
      "[INFO 24-05-01 13:42:40.5991 EDT abstract_model.cc:1344] Engine \"GradientBoostedTreesOptPred\" built\n",
      "[INFO 24-05-01 13:42:40.5992 EDT kernel.cc:1061] Use fast generic engine\n"
     ]
    },
    {
     "name": "stdout",
     "output_type": "stream",
     "text": [
      "trained forest with max_depth of 27\n",
      "83/83 [==============================] - 2s 24ms/step\n"
     ]
    },
    {
     "name": "stderr",
     "output_type": "stream",
     "text": [
      "[WARNING 24-05-01 13:42:45.6985 EDT gradient_boosted_trees.cc:1840] \"goss_alpha\" set but \"sampling_method\" not equal to \"GOSS\".\n",
      "[WARNING 24-05-01 13:42:45.6985 EDT gradient_boosted_trees.cc:1851] \"goss_beta\" set but \"sampling_method\" not equal to \"GOSS\".\n",
      "[WARNING 24-05-01 13:42:45.6985 EDT gradient_boosted_trees.cc:1865] \"selective_gradient_boosting_ratio\" set but \"sampling_method\" not equal to \"SELGB\".\n"
     ]
    },
    {
     "name": "stdout",
     "output_type": "stream",
     "text": [
      "Num validation examples: tf.Tensor(82791, shape=(), dtype=int32)\n"
     ]
    },
    {
     "name": "stderr",
     "output_type": "stream",
     "text": [
      "[INFO 24-05-01 13:51:51.4570 EDT kernel.cc:1233] Loading model from path /var/folders/sc/c663j6bx65391kdjgk7jy_d00000gn/T/tmpft_vv6l9/model/ with prefix 2a90fc297eea4acf\n",
      "[INFO 24-05-01 13:51:53.9841 EDT decision_forest.cc:734] Model loaded with 16 root(s), 1029236 node(s), and 33 input feature(s).\n",
      "[INFO 24-05-01 13:51:53.9842 EDT abstract_model.cc:1344] Engine \"GradientBoostedTreesOptPred\" built\n",
      "[INFO 24-05-01 13:51:53.9842 EDT kernel.cc:1061] Use fast generic engine\n"
     ]
    },
    {
     "name": "stdout",
     "output_type": "stream",
     "text": [
      "trained forest with max_depth of 28\n",
      "83/83 [==============================] - 2s 27ms/step\n"
     ]
    },
    {
     "name": "stderr",
     "output_type": "stream",
     "text": [
      "[WARNING 24-05-01 13:51:59.5761 EDT gradient_boosted_trees.cc:1840] \"goss_alpha\" set but \"sampling_method\" not equal to \"GOSS\".\n",
      "[WARNING 24-05-01 13:51:59.5762 EDT gradient_boosted_trees.cc:1851] \"goss_beta\" set but \"sampling_method\" not equal to \"GOSS\".\n",
      "[WARNING 24-05-01 13:51:59.5762 EDT gradient_boosted_trees.cc:1865] \"selective_gradient_boosting_ratio\" set but \"sampling_method\" not equal to \"SELGB\".\n"
     ]
    },
    {
     "name": "stdout",
     "output_type": "stream",
     "text": [
      "Num validation examples: tf.Tensor(82791, shape=(), dtype=int32)\n"
     ]
    },
    {
     "name": "stderr",
     "output_type": "stream",
     "text": [
      "[INFO 24-05-01 14:01:31.6053 EDT kernel.cc:1233] Loading model from path /var/folders/sc/c663j6bx65391kdjgk7jy_d00000gn/T/tmpj892nlts/model/ with prefix e3dd417aa84c4ea8\n",
      "[INFO 24-05-01 14:01:34.0731 EDT decision_forest.cc:734] Model loaded with 15 root(s), 1005421 node(s), and 33 input feature(s).\n",
      "[INFO 24-05-01 14:01:34.0732 EDT abstract_model.cc:1344] Engine \"GradientBoostedTreesOptPred\" built\n",
      "[INFO 24-05-01 14:01:34.0732 EDT kernel.cc:1061] Use fast generic engine\n"
     ]
    },
    {
     "name": "stdout",
     "output_type": "stream",
     "text": [
      "trained forest with max_depth of 29\n",
      "83/83 [==============================] - 2s 28ms/step\n"
     ]
    },
    {
     "name": "stderr",
     "output_type": "stream",
     "text": [
      "[WARNING 24-05-01 14:01:39.5524 EDT gradient_boosted_trees.cc:1840] \"goss_alpha\" set but \"sampling_method\" not equal to \"GOSS\".\n",
      "[WARNING 24-05-01 14:01:39.5525 EDT gradient_boosted_trees.cc:1851] \"goss_beta\" set but \"sampling_method\" not equal to \"GOSS\".\n",
      "[WARNING 24-05-01 14:01:39.5525 EDT gradient_boosted_trees.cc:1865] \"selective_gradient_boosting_ratio\" set but \"sampling_method\" not equal to \"SELGB\".\n"
     ]
    },
    {
     "name": "stdout",
     "output_type": "stream",
     "text": [
      "Num validation examples: tf.Tensor(82791, shape=(), dtype=int32)\n"
     ]
    },
    {
     "name": "stderr",
     "output_type": "stream",
     "text": [
      "[INFO 24-05-01 14:12:18.0457 EDT kernel.cc:1233] Loading model from path /var/folders/sc/c663j6bx65391kdjgk7jy_d00000gn/T/tmprg29yjv5/model/ with prefix f1bbf965c5e9467c\n",
      "[INFO 24-05-01 14:12:20.4949 EDT decision_forest.cc:734] Model loaded with 15 root(s), 1027129 node(s), and 33 input feature(s).\n",
      "[INFO 24-05-01 14:12:20.4949 EDT abstract_model.cc:1344] Engine \"GradientBoostedTreesOptPred\" built\n",
      "[INFO 24-05-01 14:12:20.4949 EDT kernel.cc:1061] Use fast generic engine\n"
     ]
    },
    {
     "name": "stdout",
     "output_type": "stream",
     "text": [
      "trained forest with max_depth of 30\n",
      "83/83 [==============================] - 2s 27ms/step\n"
     ]
    }
   ],
   "source": [
    "# trainGBTModel(tf_dataset, tf_validation_data, n_trees, max_depth)\n",
    "\n",
    "for depth in max_depth:\n",
    "    \n",
    "    model = trainGBTModel(train_ds, val_ds, n_trees = 300, max_depth = depth)\n",
    "    \n",
    "    print(\"trained forest with max_depth of {}\".format(depth))\n",
    "    \n",
    "    metrics = computeMetrics(model, val_ds, label)\n",
    "    \n",
    "    accuracy.append((depth, metrics[\"accuracy\"]))\n",
    "    precision.append((depth, metrics[\"precision\"]))\n",
    "    recall.append((depth, metrics[\"recall\"]))\n",
    "    f1.append((depth, metrics[\"f1\"]))\n",
    "    roc_auc.append((depth, metrics[\"roc_auc\"]))"
   ]
  },
  {
   "cell_type": "code",
   "execution_count": 72,
   "id": "83d8894e",
   "metadata": {},
   "outputs": [],
   "source": [
    "accuracy_plot = [a for _, a in accuracy]\n",
    "precision_plot = [a for _, a in precision]\n",
    "recall_plot = [a for _, a in recall]\n",
    "f1_plot = [a for _, a in f1]\n",
    "roc_auc_plot = [a for _, a in roc_auc]"
   ]
  },
  {
   "cell_type": "code",
   "execution_count": 75,
   "id": "05505675",
   "metadata": {},
   "outputs": [
    {
     "data": {
      "image/png": "[encoded data removed]",
      "text/plain": [
       "<Figure size 640x480 with 1 Axes>"
      ]
     },
     "metadata": {},
     "output_type": "display_data"
    }
   ],
   "source": [
    "plt.plot(max_depth, accuracy_plot)\n",
    "plt.plot(max_depth, precision_plot)\n",
    "plt.plot(max_depth, recall_plot)\n",
    "plt.plot(max_depth, f1_plot)\n",
    "plt.plot(max_depth, roc_auc_plot)\n",
    "\n",
    "plt.legend([\"accuracy\", \"precision\", \"recall\", \"f1\", \"roc_auc\"], loc = \"best\")\n",
    "\n",
    "plt.xlabel(\"max_depth\")\n",
    "\n",
    "plt.show()"
   ]
  },
  {
   "cell_type": "code",
   "execution_count": 76,
   "id": "a376ea40",
   "metadata": {},
   "outputs": [],
   "source": [
    "metrics_GBT = {\n",
    "    \"max_depth\": [a for a, _ in accuracy],\n",
    "    \"accuracy\": [a for _, a in accuracy],\n",
    "    \"precision\": [a for _, a in precision],\n",
    "    \"recall\": [a for _, a in recall],\n",
    "    \"f1\": [a for _, a in f1],\n",
    "    \"roc_auc\": [a for _, a in roc_auc],\n",
    "}\n"
   ]
  },
  {
   "cell_type": "code",
   "execution_count": 82,
   "id": "6cb031de",
   "metadata": {},
   "outputs": [
    {
     "data": {
      "text/html": [
       "<div>\n",
       "<style scoped>\n",
       "    .dataframe tbody tr th:only-of-type {\n",
       "        vertical-align: middle;\n",
       "    }\n",
       "\n",
       "    .dataframe tbody tr th {\n",
       "        vertical-align: top;\n",
       "    }\n",
       "\n",
       "    .dataframe thead th {\n",
       "        text-align: right;\n",
       "    }\n",
       "</style>\n",
       "<table border=\"1\" class=\"dataframe\">\n",
       "  <thead>\n",
       "    <tr style=\"text-align: right;\">\n",
       "      <th></th>\n",
       "      <th>max_depth</th>\n",
       "      <th>accuracy</th>\n",
       "      <th>precision</th>\n",
       "      <th>recall</th>\n",
       "      <th>f1</th>\n",
       "      <th>roc_auc</th>\n",
       "    </tr>\n",
       "  </thead>\n",
       "  <tbody>\n",
       "    <tr>\n",
       "      <th>0</th>\n",
       "      <td>1</td>\n",
       "      <td>0.544045</td>\n",
       "      <td>0.544045</td>\n",
       "      <td>1.000000</td>\n",
       "      <td>0.704701</td>\n",
       "      <td>0.500000</td>\n",
       "    </tr>\n",
       "    <tr>\n",
       "      <th>1</th>\n",
       "      <td>2</td>\n",
       "      <td>0.681137</td>\n",
       "      <td>0.691371</td>\n",
       "      <td>0.747658</td>\n",
       "      <td>0.718414</td>\n",
       "      <td>0.674711</td>\n",
       "    </tr>\n",
       "    <tr>\n",
       "      <th>2</th>\n",
       "      <td>3</td>\n",
       "      <td>0.690558</td>\n",
       "      <td>0.703642</td>\n",
       "      <td>0.744994</td>\n",
       "      <td>0.723728</td>\n",
       "      <td>0.685300</td>\n",
       "    </tr>\n",
       "    <tr>\n",
       "      <th>3</th>\n",
       "      <td>4</td>\n",
       "      <td>0.693372</td>\n",
       "      <td>0.705951</td>\n",
       "      <td>0.747924</td>\n",
       "      <td>0.726332</td>\n",
       "      <td>0.688103</td>\n",
       "    </tr>\n",
       "    <tr>\n",
       "      <th>4</th>\n",
       "      <td>5</td>\n",
       "      <td>0.695559</td>\n",
       "      <td>0.707357</td>\n",
       "      <td>0.751188</td>\n",
       "      <td>0.728614</td>\n",
       "      <td>0.690185</td>\n",
       "    </tr>\n",
       "    <tr>\n",
       "      <th>5</th>\n",
       "      <td>6</td>\n",
       "      <td>0.695885</td>\n",
       "      <td>0.706598</td>\n",
       "      <td>0.754163</td>\n",
       "      <td>0.729606</td>\n",
       "      <td>0.690255</td>\n",
       "    </tr>\n",
       "    <tr>\n",
       "      <th>6</th>\n",
       "      <td>7</td>\n",
       "      <td>0.695776</td>\n",
       "      <td>0.706819</td>\n",
       "      <td>0.753253</td>\n",
       "      <td>0.729297</td>\n",
       "      <td>0.690224</td>\n",
       "    </tr>\n",
       "    <tr>\n",
       "      <th>7</th>\n",
       "      <td>8</td>\n",
       "      <td>0.694834</td>\n",
       "      <td>0.706169</td>\n",
       "      <td>0.751965</td>\n",
       "      <td>0.728348</td>\n",
       "      <td>0.689315</td>\n",
       "    </tr>\n",
       "    <tr>\n",
       "      <th>8</th>\n",
       "      <td>9</td>\n",
       "      <td>0.695631</td>\n",
       "      <td>0.706625</td>\n",
       "      <td>0.753297</td>\n",
       "      <td>0.729215</td>\n",
       "      <td>0.690061</td>\n",
       "    </tr>\n",
       "    <tr>\n",
       "      <th>9</th>\n",
       "      <td>10</td>\n",
       "      <td>0.694399</td>\n",
       "      <td>0.705923</td>\n",
       "      <td>0.751232</td>\n",
       "      <td>0.727873</td>\n",
       "      <td>0.688909</td>\n",
       "    </tr>\n",
       "    <tr>\n",
       "      <th>10</th>\n",
       "      <td>11</td>\n",
       "      <td>0.693058</td>\n",
       "      <td>0.704564</td>\n",
       "      <td>0.750522</td>\n",
       "      <td>0.726817</td>\n",
       "      <td>0.687508</td>\n",
       "    </tr>\n",
       "    <tr>\n",
       "      <th>11</th>\n",
       "      <td>12</td>\n",
       "      <td>0.692297</td>\n",
       "      <td>0.703683</td>\n",
       "      <td>0.750411</td>\n",
       "      <td>0.726296</td>\n",
       "      <td>0.686684</td>\n",
       "    </tr>\n",
       "    <tr>\n",
       "      <th>12</th>\n",
       "      <td>13</td>\n",
       "      <td>0.689012</td>\n",
       "      <td>0.700493</td>\n",
       "      <td>0.748346</td>\n",
       "      <td>0.723629</td>\n",
       "      <td>0.683281</td>\n",
       "    </tr>\n",
       "    <tr>\n",
       "      <th>13</th>\n",
       "      <td>14</td>\n",
       "      <td>0.687575</td>\n",
       "      <td>0.698979</td>\n",
       "      <td>0.747769</td>\n",
       "      <td>0.722551</td>\n",
       "      <td>0.681760</td>\n",
       "    </tr>\n",
       "    <tr>\n",
       "      <th>14</th>\n",
       "      <td>15</td>\n",
       "      <td>0.685920</td>\n",
       "      <td>0.697463</td>\n",
       "      <td>0.746503</td>\n",
       "      <td>0.721150</td>\n",
       "      <td>0.680068</td>\n",
       "    </tr>\n",
       "    <tr>\n",
       "      <th>15</th>\n",
       "      <td>16</td>\n",
       "      <td>0.682079</td>\n",
       "      <td>0.694205</td>\n",
       "      <td>0.742862</td>\n",
       "      <td>0.717710</td>\n",
       "      <td>0.676207</td>\n",
       "    </tr>\n",
       "    <tr>\n",
       "      <th>16</th>\n",
       "      <td>17</td>\n",
       "      <td>0.680992</td>\n",
       "      <td>0.692417</td>\n",
       "      <td>0.744239</td>\n",
       "      <td>0.717393</td>\n",
       "      <td>0.674882</td>\n",
       "    </tr>\n",
       "    <tr>\n",
       "      <th>17</th>\n",
       "      <td>18</td>\n",
       "      <td>0.677199</td>\n",
       "      <td>0.688878</td>\n",
       "      <td>0.741597</td>\n",
       "      <td>0.714266</td>\n",
       "      <td>0.670979</td>\n",
       "    </tr>\n",
       "    <tr>\n",
       "      <th>18</th>\n",
       "      <td>19</td>\n",
       "      <td>0.676390</td>\n",
       "      <td>0.687734</td>\n",
       "      <td>0.742152</td>\n",
       "      <td>0.713907</td>\n",
       "      <td>0.670037</td>\n",
       "    </tr>\n",
       "    <tr>\n",
       "      <th>19</th>\n",
       "      <td>20</td>\n",
       "      <td>0.671426</td>\n",
       "      <td>0.683465</td>\n",
       "      <td>0.737711</td>\n",
       "      <td>0.709553</td>\n",
       "      <td>0.665023</td>\n",
       "    </tr>\n",
       "    <tr>\n",
       "      <th>20</th>\n",
       "      <td>21</td>\n",
       "      <td>0.672344</td>\n",
       "      <td>0.684148</td>\n",
       "      <td>0.738844</td>\n",
       "      <td>0.710445</td>\n",
       "      <td>0.665920</td>\n",
       "    </tr>\n",
       "    <tr>\n",
       "      <th>21</th>\n",
       "      <td>22</td>\n",
       "      <td>0.669747</td>\n",
       "      <td>0.681762</td>\n",
       "      <td>0.736979</td>\n",
       "      <td>0.708296</td>\n",
       "      <td>0.663252</td>\n",
       "    </tr>\n",
       "    <tr>\n",
       "      <th>22</th>\n",
       "      <td>23</td>\n",
       "      <td>0.668841</td>\n",
       "      <td>0.681003</td>\n",
       "      <td>0.736113</td>\n",
       "      <td>0.707486</td>\n",
       "      <td>0.662342</td>\n",
       "    </tr>\n",
       "    <tr>\n",
       "      <th>23</th>\n",
       "      <td>24</td>\n",
       "      <td>0.667995</td>\n",
       "      <td>0.680559</td>\n",
       "      <td>0.734514</td>\n",
       "      <td>0.706508</td>\n",
       "      <td>0.661570</td>\n",
       "    </tr>\n",
       "    <tr>\n",
       "      <th>24</th>\n",
       "      <td>25</td>\n",
       "      <td>0.665652</td>\n",
       "      <td>0.678087</td>\n",
       "      <td>0.733804</td>\n",
       "      <td>0.704846</td>\n",
       "      <td>0.659069</td>\n",
       "    </tr>\n",
       "    <tr>\n",
       "      <th>25</th>\n",
       "      <td>26</td>\n",
       "      <td>0.664903</td>\n",
       "      <td>0.678285</td>\n",
       "      <td>0.730585</td>\n",
       "      <td>0.703464</td>\n",
       "      <td>0.658558</td>\n",
       "    </tr>\n",
       "    <tr>\n",
       "      <th>26</th>\n",
       "      <td>27</td>\n",
       "      <td>0.663176</td>\n",
       "      <td>0.675678</td>\n",
       "      <td>0.732472</td>\n",
       "      <td>0.702930</td>\n",
       "      <td>0.656482</td>\n",
       "    </tr>\n",
       "    <tr>\n",
       "      <th>27</th>\n",
       "      <td>28</td>\n",
       "      <td>0.662826</td>\n",
       "      <td>0.676563</td>\n",
       "      <td>0.728520</td>\n",
       "      <td>0.701581</td>\n",
       "      <td>0.656480</td>\n",
       "    </tr>\n",
       "    <tr>\n",
       "      <th>28</th>\n",
       "      <td>29</td>\n",
       "      <td>0.660700</td>\n",
       "      <td>0.674246</td>\n",
       "      <td>0.728120</td>\n",
       "      <td>0.700148</td>\n",
       "      <td>0.654187</td>\n",
       "    </tr>\n",
       "    <tr>\n",
       "      <th>29</th>\n",
       "      <td>30</td>\n",
       "      <td>0.663152</td>\n",
       "      <td>0.676598</td>\n",
       "      <td>0.729564</td>\n",
       "      <td>0.702083</td>\n",
       "      <td>0.656737</td>\n",
       "    </tr>\n",
       "  </tbody>\n",
       "</table>\n",
       "</div>"
      ],
      "text/plain": [
       "    max_depth  accuracy  precision    recall        f1   roc_auc\n",
       "0           1  0.544045   0.544045  1.000000  0.704701  0.500000\n",
       "1           2  0.681137   0.691371  0.747658  0.718414  0.674711\n",
       "2           3  0.690558   0.703642  0.744994  0.723728  0.685300\n",
       "3           4  0.693372   0.705951  0.747924  0.726332  0.688103\n",
       "4           5  0.695559   0.707357  0.751188  0.728614  0.690185\n",
       "5           6  0.695885   0.706598  0.754163  0.729606  0.690255\n",
       "6           7  0.695776   0.706819  0.753253  0.729297  0.690224\n",
       "7           8  0.694834   0.706169  0.751965  0.728348  0.689315\n",
       "8           9  0.695631   0.706625  0.753297  0.729215  0.690061\n",
       "9          10  0.694399   0.705923  0.751232  0.727873  0.688909\n",
       "10         11  0.693058   0.704564  0.750522  0.726817  0.687508\n",
       "11         12  0.692297   0.703683  0.750411  0.726296  0.686684\n",
       "12         13  0.689012   0.700493  0.748346  0.723629  0.683281\n",
       "13         14  0.687575   0.698979  0.747769  0.722551  0.681760\n",
       "14         15  0.685920   0.697463  0.746503  0.721150  0.680068\n",
       "15         16  0.682079   0.694205  0.742862  0.717710  0.676207\n",
       "16         17  0.680992   0.692417  0.744239  0.717393  0.674882\n",
       "17         18  0.677199   0.688878  0.741597  0.714266  0.670979\n",
       "18         19  0.676390   0.687734  0.742152  0.713907  0.670037\n",
       "19         20  0.671426   0.683465  0.737711  0.709553  0.665023\n",
       "20         21  0.672344   0.684148  0.738844  0.710445  0.665920\n",
       "21         22  0.669747   0.681762  0.736979  0.708296  0.663252\n",
       "22         23  0.668841   0.681003  0.736113  0.707486  0.662342\n",
       "23         24  0.667995   0.680559  0.734514  0.706508  0.661570\n",
       "24         25  0.665652   0.678087  0.733804  0.704846  0.659069\n",
       "25         26  0.664903   0.678285  0.730585  0.703464  0.658558\n",
       "26         27  0.663176   0.675678  0.732472  0.702930  0.656482\n",
       "27         28  0.662826   0.676563  0.728520  0.701581  0.656480\n",
       "28         29  0.660700   0.674246  0.728120  0.700148  0.654187\n",
       "29         30  0.663152   0.676598  0.729564  0.702083  0.656737"
      ]
     },
     "execution_count": 82,
     "metadata": {},
     "output_type": "execute_result"
    }
   ],
   "source": [
    "metrics_GBT_df = pd.DataFrame(metrics_GBT)"
   ]
  },
  {
   "cell_type": "code",
   "execution_count": 83,
   "id": "ebff9d56",
   "metadata": {},
   "outputs": [],
   "source": [
    "metrics_GBT_df.to_csv(\"prediction_data/gbt_maxdepth_test.csv\", index = False)"
   ]
  },
  {
   "cell_type": "markdown",
   "id": "63b14d30",
   "metadata": {},
   "source": [
    "#### Using a subset of features"
   ]
  },
  {
   "cell_type": "code",
   "execution_count": null,
   "id": "e63b8343",
   "metadata": {},
   "outputs": [],
   "source": [
    "# train the model using a subset of features according to variable importance \n",
    "\n",
    "# using \"MEAN_DECREASE_IN_ACCURACY\", \"MEAN_DECREASE_IN_AUC_2_VS_OTHERS\", and \"MEAN_DECREASE_IN_PRAUC_2_VS_OTHERS\" \n",
    "# to explore which features would be productive to prune"
   ]
  },
  {
   "cell_type": "code",
   "execution_count": 18,
   "id": "43b33b0b",
   "metadata": {},
   "outputs": [],
   "source": [
    "# tfdf.keras.FeatureUsage(name = \"channelType\", semantic = tfdf.keras.FeatureSemantic.CATEGORICAL),\n",
    "\n",
    "all_features = [\n",
    "    tfdf.keras.FeatureUsage(name = \"cnt_courses_in_specialization\", semantic = tfdf.keras.FeatureSemantic.NUMERICAL),\n",
    "    tfdf.keras.FeatureUsage(name = \"specialization_domain\", semantic = tfdf.keras.FeatureSemantic.CATEGORICAL),\n",
    "#     tfdf.keras.FeatureUsage(name = \"is_professional_certificate\", semantic = tfdf.keras.FeatureSemantic.CATEGORICAL),\n",
    "    tfdf.keras.FeatureUsage(name = \"is_gateway_certificate\", semantic = tfdf.keras.FeatureSemantic.CATEGORICAL),\n",
    "    tfdf.keras.FeatureUsage(name = \"learner_days_since_registration\", semantic = tfdf.keras.FeatureSemantic.NUMERICAL),\n",
    "    tfdf.keras.FeatureUsage(name = \"learner_country_group\", semantic = tfdf.keras.FeatureSemantic.CATEGORICAL),\n",
    "    tfdf.keras.FeatureUsage(name = \"learner_gender\", semantic = tfdf.keras.FeatureSemantic.CATEGORICAL),\n",
    "    tfdf.keras.FeatureUsage(name = \"learner_cnt_other_courses_active\", semantic = tfdf.keras.FeatureSemantic.NUMERICAL),\n",
    "    tfdf.keras.FeatureUsage(name = \"learner_cnt_other_courses_paid_active\", semantic = tfdf.keras.FeatureSemantic.NUMERICAL),\n",
    "    tfdf.keras.FeatureUsage(name = \"learner_cnt_other_courses_items_completed\", semantic = tfdf.keras.FeatureSemantic.NUMERICAL),\n",
    "    tfdf.keras.FeatureUsage(name = \"learner_cnt_other_courses_paid_items_completed\", semantic = tfdf.keras.FeatureSemantic.NUMERICAL),\n",
    "    tfdf.keras.FeatureUsage(name = \"learner_cnt_other_transactions_past\", semantic = tfdf.keras.FeatureSemantic.NUMERICAL),\n",
    "    tfdf.keras.FeatureUsage(name = \"learner_other_revenue\", semantic = tfdf.keras.FeatureSemantic.NUMERICAL),\n",
    "    tfdf.keras.FeatureUsage(name = \"subscription_period_order\", semantic = tfdf.keras.FeatureSemantic.NUMERICAL),\n",
    "    tfdf.keras.FeatureUsage(name = \"days_since_last_payment\", semantic = tfdf.keras.FeatureSemantic.NUMERICAL),\n",
    "    tfdf.keras.FeatureUsage(name = \"days_til_next_payment_due\", semantic = tfdf.keras.FeatureSemantic.NUMERICAL),\n",
    "    tfdf.keras.FeatureUsage(name = \"cnt_enrollments_started_before_payment_period\", semantic = tfdf.keras.FeatureSemantic.NUMERICAL),\n",
    "    tfdf.keras.FeatureUsage(name = \"cnt_enrollments_completed_before_payment_period\", semantic = tfdf.keras.FeatureSemantic.NUMERICAL),\n",
    "    tfdf.keras.FeatureUsage(name = \"cnt_enrollments_active_before_payment_period\", semantic = tfdf.keras.FeatureSemantic.NUMERICAL),\n",
    "    tfdf.keras.FeatureUsage(name = \"cnt_items_completed_before_payment_period\", semantic = tfdf.keras.FeatureSemantic.NUMERICAL),\n",
    "    tfdf.keras.FeatureUsage(name = \"cnt_graded_items_completed_before_payment_period\", semantic = tfdf.keras.FeatureSemantic.NUMERICAL),\n",
    "    tfdf.keras.FeatureUsage(name = \"is_subscription_started_with_free_trial\", semantic = tfdf.keras.FeatureSemantic.CATEGORICAL),\n",
    "    tfdf.keras.FeatureUsage(name = \"cnt_enrollments_started_during_payment_period\", semantic = tfdf.keras.FeatureSemantic.NUMERICAL),\n",
    "    tfdf.keras.FeatureUsage(name = \"cnt_enrollments_completed_during_payment_period\", semantic = tfdf.keras.FeatureSemantic.NUMERICAL),\n",
    "#     tfdf.keras.FeatureUsage(name = \"cnt_enrollments_active_during_payment_period\", semantic = tfdf.keras.FeatureSemantic.NUMERICAL),\n",
    "    tfdf.keras.FeatureUsage(name = \"cnt_items_completed_during_payment_period\", semantic = tfdf.keras.FeatureSemantic.NUMERICAL),\n",
    "    tfdf.keras.FeatureUsage(name = \"cnt_graded_items_completed_during_payment_period\", semantic = tfdf.keras.FeatureSemantic.NUMERICAL),\n",
    "    tfdf.keras.FeatureUsage(name = \"is_active_capstone_during_pay_period\", semantic = tfdf.keras.FeatureSemantic.CATEGORICAL),\n",
    "    tfdf.keras.FeatureUsage(name = \"sum_hours_learning_before_payment_period\", semantic = tfdf.keras.FeatureSemantic.NUMERICAL),\n",
    "    tfdf.keras.FeatureUsage(name = \"sum_hours_learning_during_payment_period\", semantic = tfdf.keras.FeatureSemantic.NUMERICAL),\n",
    "#     tfdf.keras.FeatureUsage(name = \"cnt_days_active_before_payment_period\", semantic = tfdf.keras.FeatureSemantic.NUMERICAL),\n",
    "#     tfdf.keras.FeatureUsage(name = \"cnt_days_active_during_payment_period\", semantic = tfdf.keras.FeatureSemantic.NUMERICAL),\n",
    "    tfdf.keras.FeatureUsage(name = \"cnt_days_since_last_activity\", semantic = tfdf.keras.FeatureSemantic.NUMERICAL),\n",
    "]"
   ]
  },
  {
   "cell_type": "code",
   "execution_count": 19,
   "id": "50c8a6c2",
   "metadata": {},
   "outputs": [
    {
     "name": "stderr",
     "output_type": "stream",
     "text": [
      "[WARNING 24-05-06 14:27:21.3138 EDT gradient_boosted_trees.cc:1840] \"goss_alpha\" set but \"sampling_method\" not equal to \"GOSS\".\n",
      "[WARNING 24-05-06 14:27:21.3148 EDT gradient_boosted_trees.cc:1851] \"goss_beta\" set but \"sampling_method\" not equal to \"GOSS\".\n",
      "[WARNING 24-05-06 14:27:21.3148 EDT gradient_boosted_trees.cc:1865] \"selective_gradient_boosting_ratio\" set but \"sampling_method\" not equal to \"SELGB\".\n"
     ]
    },
    {
     "name": "stdout",
     "output_type": "stream",
     "text": [
      "Num validation examples: tf.Tensor(82791, shape=(), dtype=int32)\n"
     ]
    },
    {
     "name": "stderr",
     "output_type": "stream",
     "text": [
      "[INFO 24-05-06 14:28:46.5367 EDT kernel.cc:1233] Loading model from path /var/folders/sc/c663j6bx65391kdjgk7jy_d00000gn/T/tmpz21uw52k/model/ with prefix 31af09fa1cba488f\n",
      "[INFO 24-05-06 14:28:46.5740 EDT quick_scorer_extended.cc:911] The binary was compiled without AVX2 support, but your CPU supports it. Enable it for faster model inference.\n",
      "[INFO 24-05-06 14:28:46.5758 EDT abstract_model.cc:1344] Engine \"GradientBoostedTreesQuickScorerExtended\" built\n",
      "[INFO 24-05-06 14:28:46.5758 EDT kernel.cc:1061] Use fast generic engine\n"
     ]
    }
   ],
   "source": [
    "gbt_model = trainGBTModel(train_ds, val_ds, n_trees = 300, max_depth = 6)"
   ]
  },
  {
   "cell_type": "code",
   "execution_count": 20,
   "id": "ca7a32d3",
   "metadata": {},
   "outputs": [
    {
     "name": "stdout",
     "output_type": "stream",
     "text": [
      "Model: \"gradient_boosted_trees_model\"\n",
      "_________________________________________________________________\n",
      " Layer (type)                Output Shape              Param #   \n",
      "=================================================================\n",
      "=================================================================\n",
      "Total params: 1 (1.00 Byte)\n",
      "Trainable params: 0 (0.00 Byte)\n",
      "Non-trainable params: 1 (1.00 Byte)\n",
      "_________________________________________________________________\n",
      "Type: \"GRADIENT_BOOSTED_TREES\"\n",
      "Task: CLASSIFICATION\n",
      "Label: \"__LABEL\"\n",
      "\n",
      "Input Features (29):\n",
      "\tcnt_courses_in_specialization\n",
      "\tcnt_days_since_last_activity\n",
      "\tcnt_enrollments_active_before_payment_period\n",
      "\tcnt_enrollments_completed_before_payment_period\n",
      "\tcnt_enrollments_completed_during_payment_period\n",
      "\tcnt_enrollments_started_before_payment_period\n",
      "\tcnt_enrollments_started_during_payment_period\n",
      "\tcnt_graded_items_completed_before_payment_period\n",
      "\tcnt_graded_items_completed_during_payment_period\n",
      "\tcnt_items_completed_before_payment_period\n",
      "\tcnt_items_completed_during_payment_period\n",
      "\tdays_since_last_payment\n",
      "\tdays_til_next_payment_due\n",
      "\tis_active_capstone_during_pay_period\n",
      "\tis_gateway_certificate\n",
      "\tis_subscription_started_with_free_trial\n",
      "\tlearner_cnt_other_courses_active\n",
      "\tlearner_cnt_other_courses_items_completed\n",
      "\tlearner_cnt_other_courses_paid_active\n",
      "\tlearner_cnt_other_courses_paid_items_completed\n",
      "\tlearner_cnt_other_transactions_past\n",
      "\tlearner_country_group\n",
      "\tlearner_days_since_registration\n",
      "\tlearner_gender\n",
      "\tlearner_other_revenue\n",
      "\tspecialization_domain\n",
      "\tsubscription_period_order\n",
      "\tsum_hours_learning_before_payment_period\n",
      "\tsum_hours_learning_during_payment_period\n",
      "\n",
      "No weights\n",
      "\n",
      "Variable Importance: INV_MEAN_MIN_DEPTH:\n",
      "    1.                            \"learner_country_group\"  0.207725 ################\n",
      "    2.                        \"subscription_period_order\"  0.197523 ###########\n",
      "    3.                          \"days_since_last_payment\"  0.195560 ##########\n",
      "    4.                        \"days_til_next_payment_due\"  0.194754 #########\n",
      "    5.                  \"learner_days_since_registration\"  0.192200 ########\n",
      "    6.                            \"learner_other_revenue\"  0.188633 #######\n",
      "    7.  \"cnt_enrollments_completed_during_payment_period\"  0.188128 ######\n",
      "    8.        \"cnt_items_completed_before_payment_period\"  0.187464 ######\n",
      "    9.                     \"cnt_days_since_last_activity\"  0.187272 ######\n",
      "   10.                            \"specialization_domain\"  0.186873 ######\n",
      "   11.                 \"learner_cnt_other_courses_active\"  0.186564 ######\n",
      "   12.  \"cnt_enrollments_completed_before_payment_period\"  0.184264 #####\n",
      "   13. \"cnt_graded_items_completed_during_payment_period\"  0.183983 ####\n",
      "   14.    \"cnt_enrollments_started_during_payment_period\"  0.183552 ####\n",
      "   15.          \"is_subscription_started_with_free_trial\"  0.183524 ####\n",
      "   16.                    \"cnt_courses_in_specialization\"  0.183434 ####\n",
      "   17.        \"cnt_items_completed_during_payment_period\"  0.183036 ####\n",
      "   18.        \"learner_cnt_other_courses_items_completed\"  0.182150 ####\n",
      "   19.         \"sum_hours_learning_during_payment_period\"  0.181260 ###\n",
      "   20.         \"sum_hours_learning_before_payment_period\"  0.180701 ###\n",
      "   21. \"cnt_graded_items_completed_before_payment_period\"  0.178525 ##\n",
      "   22.            \"learner_cnt_other_courses_paid_active\"  0.178135 ##\n",
      "   23.   \"learner_cnt_other_courses_paid_items_completed\"  0.177804 ##\n",
      "   24.     \"cnt_enrollments_active_before_payment_period\"  0.177726 ##\n",
      "   25.                                   \"learner_gender\"  0.177431 #\n",
      "   26.             \"is_active_capstone_during_pay_period\"  0.176984 #\n",
      "   27.    \"cnt_enrollments_started_before_payment_period\"  0.176439 #\n",
      "   28.              \"learner_cnt_other_transactions_past\"  0.174648 \n",
      "   29.                           \"is_gateway_certificate\"  0.173202 \n",
      "\n",
      "Variable Importance: MEAN_DECREASE_IN_ACCURACY:\n",
      "    1.                        \"subscription_period_order\"  0.055260 ################\n",
      "    2.                          \"days_since_last_payment\"  0.038048 ##########\n",
      "    3.          \"is_subscription_started_with_free_trial\"  0.022961 ######\n",
      "    4.                        \"days_til_next_payment_due\"  0.013129 ###\n",
      "    5.                            \"learner_country_group\"  0.010955 ###\n",
      "    6.                    \"cnt_courses_in_specialization\"  0.007054 #\n",
      "    7.  \"cnt_enrollments_completed_during_payment_period\"  0.006063 #\n",
      "    8.  \"cnt_enrollments_completed_before_payment_period\"  0.004952 #\n",
      "    9.                     \"cnt_days_since_last_activity\"  0.004747 #\n",
      "   10.                 \"learner_cnt_other_courses_active\"  0.004445 #\n",
      "   11.                            \"learner_other_revenue\"  0.003454 \n",
      "   12.                           \"is_gateway_certificate\"  0.003334 \n",
      "   13. \"cnt_graded_items_completed_during_payment_period\"  0.002005 \n",
      "   14.                  \"learner_days_since_registration\"  0.001908 \n",
      "   15.         \"sum_hours_learning_during_payment_period\"  0.001836 \n",
      "   16.            \"learner_cnt_other_courses_paid_active\"  0.001812 \n",
      "   17.        \"learner_cnt_other_courses_items_completed\"  0.001655 \n",
      "   18.        \"cnt_items_completed_during_payment_period\"  0.001619 \n",
      "   19.    \"cnt_enrollments_started_before_payment_period\"  0.001462 \n",
      "   20.     \"cnt_enrollments_active_before_payment_period\"  0.001256 \n",
      "   21. \"cnt_graded_items_completed_before_payment_period\"  0.001208 \n",
      "   22.        \"cnt_items_completed_before_payment_period\"  0.001135 \n",
      "   23.    \"cnt_enrollments_started_during_payment_period\"  0.001039 \n",
      "   24.                            \"specialization_domain\"  0.000978 \n",
      "   25.              \"learner_cnt_other_transactions_past\"  0.000978 \n",
      "   26.   \"learner_cnt_other_courses_paid_items_completed\"  0.000785 \n",
      "   27.             \"is_active_capstone_during_pay_period\"  0.000773 \n",
      "   28.         \"sum_hours_learning_before_payment_period\"  0.000737 \n",
      "   29.                                   \"learner_gender\"  0.000302 \n",
      "\n",
      "Variable Importance: MEAN_DECREASE_IN_AP_2_VS_OTHERS:\n",
      "    1.                        \"subscription_period_order\"  0.080252 ################\n",
      "    2.                          \"days_since_last_payment\"  0.048952 #########\n",
      "    3.          \"is_subscription_started_with_free_trial\"  0.021963 ####\n",
      "    4.                            \"learner_country_group\"  0.013801 ##\n",
      "    5.                        \"days_til_next_payment_due\"  0.012608 ##\n",
      "    6.                    \"cnt_courses_in_specialization\"  0.008099 #\n",
      "    7.                     \"cnt_days_since_last_activity\"  0.006314 #\n",
      "    8.  \"cnt_enrollments_completed_during_payment_period\"  0.005503 #\n",
      "    9.                 \"learner_cnt_other_courses_active\"  0.005485 #\n",
      "   10.  \"cnt_enrollments_completed_before_payment_period\"  0.004857 \n",
      "   11.                            \"learner_other_revenue\"  0.004208 \n",
      "   12.                           \"is_gateway_certificate\"  0.003287 \n",
      "   13.         \"sum_hours_learning_during_payment_period\"  0.002897 \n",
      "   14. \"cnt_graded_items_completed_during_payment_period\"  0.002382 \n",
      "   15.        \"learner_cnt_other_courses_items_completed\"  0.002348 \n",
      "   16.            \"learner_cnt_other_courses_paid_active\"  0.002170 \n",
      "   17.        \"cnt_items_completed_during_payment_period\"  0.002056 \n",
      "   18.    \"cnt_enrollments_started_during_payment_period\"  0.001985 \n",
      "   19.        \"cnt_items_completed_before_payment_period\"  0.001935 \n",
      "   20.   \"learner_cnt_other_courses_paid_items_completed\"  0.001858 \n",
      "   21.         \"sum_hours_learning_before_payment_period\"  0.001695 \n",
      "   22.                  \"learner_days_since_registration\"  0.001605 \n",
      "   23.    \"cnt_enrollments_started_before_payment_period\"  0.001495 \n",
      "   24.              \"learner_cnt_other_transactions_past\"  0.001491 \n",
      "   25. \"cnt_graded_items_completed_before_payment_period\"  0.001400 \n",
      "   26.     \"cnt_enrollments_active_before_payment_period\"  0.001336 \n",
      "   27.                            \"specialization_domain\"  0.001291 \n",
      "   28.             \"is_active_capstone_during_pay_period\"  0.000498 \n",
      "   29.                                   \"learner_gender\"  0.000473 \n",
      "\n",
      "Variable Importance: MEAN_DECREASE_IN_AUC_2_VS_OTHERS:\n",
      "    1.                        \"subscription_period_order\"  0.074783 ################\n",
      "    2.                          \"days_since_last_payment\"  0.050876 ##########\n",
      "    3.          \"is_subscription_started_with_free_trial\"  0.024729 #####\n",
      "    4.                        \"days_til_next_payment_due\"  0.015179 ###\n",
      "    5.                            \"learner_country_group\"  0.013990 ##\n",
      "    6.                    \"cnt_courses_in_specialization\"  0.009766 ##\n",
      "    7.  \"cnt_enrollments_completed_during_payment_period\"  0.008550 #\n",
      "    8.  \"cnt_enrollments_completed_before_payment_period\"  0.008089 #\n",
      "    9.                     \"cnt_days_since_last_activity\"  0.006257 #\n",
      "   10.                 \"learner_cnt_other_courses_active\"  0.005208 #\n",
      "   11.                            \"learner_other_revenue\"  0.005120 #\n",
      "   12.                           \"is_gateway_certificate\"  0.004244 \n",
      "   13.        \"learner_cnt_other_courses_items_completed\"  0.002881 \n",
      "   14.                  \"learner_days_since_registration\"  0.002743 \n",
      "   15. \"cnt_graded_items_completed_during_payment_period\"  0.002694 \n",
      "   16.        \"cnt_items_completed_during_payment_period\"  0.002692 \n",
      "   17.         \"sum_hours_learning_during_payment_period\"  0.002641 \n",
      "   18.        \"cnt_items_completed_before_payment_period\"  0.002294 \n",
      "   19.    \"cnt_enrollments_started_before_payment_period\"  0.002167 \n",
      "   20.     \"cnt_enrollments_active_before_payment_period\"  0.001885 \n",
      "   21.    \"cnt_enrollments_started_during_payment_period\"  0.001800 \n",
      "   22.         \"sum_hours_learning_before_payment_period\"  0.001781 \n",
      "   23.            \"learner_cnt_other_courses_paid_active\"  0.001777 \n",
      "   24.   \"learner_cnt_other_courses_paid_items_completed\"  0.001729 \n",
      "   25. \"cnt_graded_items_completed_before_payment_period\"  0.001653 \n",
      "   26.              \"learner_cnt_other_transactions_past\"  0.001615 \n",
      "   27.                            \"specialization_domain\"  0.001403 \n",
      "   28.             \"is_active_capstone_during_pay_period\"  0.000974 \n",
      "   29.                                   \"learner_gender\"  0.000409 \n",
      "\n",
      "Variable Importance: MEAN_DECREASE_IN_PRAUC_2_VS_OTHERS:\n",
      "    1.                        \"subscription_period_order\"  0.080247 ################\n",
      "    2.                          \"days_since_last_payment\"  0.048947 #########\n",
      "    3.          \"is_subscription_started_with_free_trial\"  0.021962 ####\n",
      "    4.                            \"learner_country_group\"  0.013803 ##\n",
      "    5.                        \"days_til_next_payment_due\"  0.012599 ##\n",
      "    6.                    \"cnt_courses_in_specialization\"  0.008099 #\n",
      "    7.                     \"cnt_days_since_last_activity\"  0.006314 #\n",
      "    8.  \"cnt_enrollments_completed_during_payment_period\"  0.005503 #\n",
      "    9.                 \"learner_cnt_other_courses_active\"  0.005485 #\n",
      "   10.  \"cnt_enrollments_completed_before_payment_period\"  0.004856 \n",
      "   11.                            \"learner_other_revenue\"  0.004210 \n",
      "   12.                           \"is_gateway_certificate\"  0.003287 \n",
      "   13.         \"sum_hours_learning_during_payment_period\"  0.002896 \n",
      "   14. \"cnt_graded_items_completed_during_payment_period\"  0.002382 \n",
      "   15.        \"learner_cnt_other_courses_items_completed\"  0.002339 \n",
      "   16.            \"learner_cnt_other_courses_paid_active\"  0.002170 \n",
      "   17.        \"cnt_items_completed_during_payment_period\"  0.002055 \n",
      "   18.    \"cnt_enrollments_started_during_payment_period\"  0.001985 \n",
      "   19.        \"cnt_items_completed_before_payment_period\"  0.001935 \n",
      "   20.   \"learner_cnt_other_courses_paid_items_completed\"  0.001858 \n",
      "   21.         \"sum_hours_learning_before_payment_period\"  0.001697 \n",
      "   22.                  \"learner_days_since_registration\"  0.001607 \n",
      "   23.    \"cnt_enrollments_started_before_payment_period\"  0.001495 \n",
      "   24.              \"learner_cnt_other_transactions_past\"  0.001493 \n",
      "   25. \"cnt_graded_items_completed_before_payment_period\"  0.001399 \n",
      "   26.     \"cnt_enrollments_active_before_payment_period\"  0.001336 \n",
      "   27.                            \"specialization_domain\"  0.001292 \n",
      "   28.             \"is_active_capstone_during_pay_period\"  0.000498 \n",
      "   29.                                   \"learner_gender\"  0.000473 \n",
      "\n",
      "Variable Importance: NUM_AS_ROOT:\n",
      "    1.                        \"subscription_period_order\" 38.000000 ################\n",
      "    2.          \"is_subscription_started_with_free_trial\" 19.000000 #######\n",
      "    3.  \"cnt_enrollments_completed_during_payment_period\" 18.000000 #######\n",
      "    4.    \"cnt_enrollments_started_during_payment_period\" 18.000000 #######\n",
      "    5.                        \"days_til_next_payment_due\" 18.000000 #######\n",
      "    6.                 \"learner_cnt_other_courses_active\" 18.000000 #######\n",
      "    7.  \"cnt_enrollments_completed_before_payment_period\" 16.000000 ######\n",
      "    8.                          \"days_since_last_payment\" 15.000000 ######\n",
      "    9.                            \"learner_other_revenue\" 14.000000 #####\n",
      "   10.                            \"specialization_domain\" 12.000000 ####\n",
      "   11.     \"cnt_enrollments_active_before_payment_period\" 11.000000 ####\n",
      "   12.             \"is_active_capstone_during_pay_period\" 11.000000 ####\n",
      "   13.                     \"cnt_days_since_last_activity\"  9.000000 ###\n",
      "   14.        \"cnt_items_completed_during_payment_period\"  9.000000 ###\n",
      "   15.                                   \"learner_gender\"  9.000000 ###\n",
      "   16. \"cnt_graded_items_completed_during_payment_period\"  8.000000 ###\n",
      "   17.        \"cnt_items_completed_before_payment_period\"  8.000000 ###\n",
      "   18.   \"learner_cnt_other_courses_paid_items_completed\"  8.000000 ###\n",
      "   19.                  \"learner_days_since_registration\"  8.000000 ###\n",
      "   20.        \"learner_cnt_other_courses_items_completed\"  6.000000 ##\n",
      "   21.            \"learner_cnt_other_courses_paid_active\"  6.000000 ##\n",
      "   22.                            \"learner_country_group\"  4.000000 #\n",
      "   23.                    \"cnt_courses_in_specialization\"  3.000000 \n",
      "   24.    \"cnt_enrollments_started_before_payment_period\"  2.000000 \n",
      "   25.         \"sum_hours_learning_before_payment_period\"  2.000000 \n",
      "   26. \"cnt_graded_items_completed_before_payment_period\"  1.000000 \n",
      "   27.              \"learner_cnt_other_transactions_past\"  1.000000 \n",
      "   28.         \"sum_hours_learning_during_payment_period\"  1.000000 \n",
      "\n",
      "Variable Importance: NUM_NODES:\n",
      "    1.                            \"learner_country_group\" 1067.000000 ################\n",
      "    2.                  \"learner_days_since_registration\" 529.000000 #######\n",
      "    3.                     \"cnt_days_since_last_activity\" 423.000000 ######\n",
      "    4.        \"cnt_items_completed_before_payment_period\" 403.000000 #####\n",
      "    5.                          \"days_since_last_payment\" 397.000000 #####\n",
      "    6.                            \"specialization_domain\" 390.000000 #####\n",
      "    7.         \"sum_hours_learning_before_payment_period\" 364.000000 #####\n",
      "    8.                    \"cnt_courses_in_specialization\" 352.000000 ####\n",
      "    9.         \"sum_hours_learning_during_payment_period\" 342.000000 ####\n",
      "   10.                            \"learner_other_revenue\" 336.000000 ####\n",
      "   11.                        \"days_til_next_payment_due\" 326.000000 ####\n",
      "   12.        \"cnt_items_completed_during_payment_period\" 314.000000 ####\n",
      "   13.        \"learner_cnt_other_courses_items_completed\" 301.000000 ####\n",
      "   14. \"cnt_graded_items_completed_before_payment_period\" 279.000000 ###\n",
      "   15.                        \"subscription_period_order\" 261.000000 ###\n",
      "   16.                 \"learner_cnt_other_courses_active\" 259.000000 ###\n",
      "   17. \"cnt_graded_items_completed_during_payment_period\" 229.000000 ###\n",
      "   18.  \"cnt_enrollments_completed_during_payment_period\" 211.000000 ##\n",
      "   19.  \"cnt_enrollments_completed_before_payment_period\" 192.000000 ##\n",
      "   20.   \"learner_cnt_other_courses_paid_items_completed\" 184.000000 ##\n",
      "   21.    \"cnt_enrollments_started_before_payment_period\" 167.000000 ##\n",
      "   22.            \"learner_cnt_other_courses_paid_active\" 129.000000 #\n",
      "   23.              \"learner_cnt_other_transactions_past\" 109.000000 #\n",
      "   24.    \"cnt_enrollments_started_during_payment_period\" 103.000000 #\n",
      "   25.          \"is_subscription_started_with_free_trial\" 102.000000 #\n",
      "   26.                           \"is_gateway_certificate\" 94.000000 \n",
      "   27.     \"cnt_enrollments_active_before_payment_period\" 91.000000 \n",
      "   28.                                   \"learner_gender\" 78.000000 \n",
      "   29.             \"is_active_capstone_during_pay_period\" 31.000000 \n",
      "\n",
      "Variable Importance: SUM_SCORE:\n",
      "    1.                        \"subscription_period_order\" 20807.701094 ################\n",
      "    2.                          \"days_since_last_payment\" 11325.555951 ########\n",
      "    3.          \"is_subscription_started_with_free_trial\" 7840.783864 #####\n",
      "    4.                        \"days_til_next_payment_due\" 7627.679616 #####\n",
      "    5.                            \"learner_country_group\" 4819.414476 ###\n",
      "    6.  \"cnt_enrollments_completed_during_payment_period\" 2542.057803 #\n",
      "    7. \"cnt_graded_items_completed_before_payment_period\" 1729.453953 #\n",
      "    8.                    \"cnt_courses_in_specialization\" 1645.801500 #\n",
      "    9.                     \"cnt_days_since_last_activity\" 1487.891064 #\n",
      "   10.                           \"is_gateway_certificate\" 1474.742243 #\n",
      "   11.    \"cnt_enrollments_started_before_payment_period\" 1376.137899 \n",
      "   12.  \"cnt_enrollments_completed_before_payment_period\" 1180.380966 \n",
      "   13.     \"cnt_enrollments_active_before_payment_period\" 1177.267132 \n",
      "   14.        \"cnt_items_completed_before_payment_period\" 1161.018967 \n",
      "   15.                            \"learner_other_revenue\" 995.188526 \n",
      "   16.        \"learner_cnt_other_courses_items_completed\" 938.051477 \n",
      "   17.                  \"learner_days_since_registration\" 918.239227 \n",
      "   18.         \"sum_hours_learning_during_payment_period\" 784.845337 \n",
      "   19. \"cnt_graded_items_completed_during_payment_period\" 733.792640 \n",
      "   20.                            \"specialization_domain\" 731.838030 \n",
      "   21.                 \"learner_cnt_other_courses_active\" 722.417840 \n",
      "   22.        \"cnt_items_completed_during_payment_period\" 627.574928 \n",
      "   23.         \"sum_hours_learning_before_payment_period\" 570.732110 \n",
      "   24.             \"is_active_capstone_during_pay_period\" 401.796494 \n",
      "   25.            \"learner_cnt_other_courses_paid_active\" 307.443817 \n",
      "   26.   \"learner_cnt_other_courses_paid_items_completed\" 277.268598 \n",
      "   27.    \"cnt_enrollments_started_during_payment_period\" 270.309592 \n",
      "   28.              \"learner_cnt_other_transactions_past\" 197.946794 \n",
      "   29.                                   \"learner_gender\" 179.469906 \n",
      "\n",
      "\n",
      "\n",
      "Loss: BINOMIAL_LOG_LIKELIHOOD\n",
      "Validation loss value: 1.15046\n",
      "Number of trees per iteration: 1\n",
      "Node format: NOT_SET\n",
      "Number of trees: 293\n",
      "Total number of nodes: 16419\n",
      "\n",
      "Number of nodes by tree:\n",
      "Count: 293 Average: 56.0375 StdDev: 9.29982\n",
      "Min: 17 Max: 63 Ignored: 0\n",
      "----------------------------------------------\n",
      "[ 17, 19)   1   0.34%   0.34%\n",
      "[ 19, 21)   1   0.34%   0.68%\n",
      "[ 21, 24)   3   1.02%   1.71%\n",
      "[ 24, 26)   0   0.00%   1.71%\n",
      "[ 26, 28)   0   0.00%   1.71%\n",
      "[ 28, 31)   1   0.34%   2.05%\n",
      "[ 31, 33)   3   1.02%   3.07%\n",
      "[ 33, 35)   1   0.34%   3.41%\n",
      "[ 35, 38)   9   3.07%   6.48% #\n",
      "[ 38, 40)   4   1.37%   7.85%\n",
      "[ 40, 42)   2   0.68%   8.53%\n",
      "[ 42, 45)   8   2.73%  11.26% #\n",
      "[ 45, 47)   9   3.07%  14.33% #\n",
      "[ 47, 49)   5   1.71%  16.04%\n",
      "[ 49, 52)  24   8.19%  24.23% ##\n",
      "[ 52, 54)  12   4.10%  28.33% #\n",
      "[ 54, 56)  21   7.17%  35.49% #\n",
      "[ 56, 59)  18   6.14%  41.64% #\n",
      "[ 59, 61)  22   7.51%  49.15% #\n",
      "[ 61, 63] 149  50.85% 100.00% ##########\n",
      "\n",
      "Depth by leafs:\n",
      "Count: 8356 Average: 4.91778 StdDev: 0.370094\n",
      "Min: 1 Max: 5 Ignored: 0\n",
      "----------------------------------------------\n",
      "[ 1, 2)    7   0.08%   0.08%\n",
      "[ 2, 3)   41   0.49%   0.57%\n",
      "[ 3, 4)   92   1.10%   1.68%\n",
      "[ 4, 5)  352   4.21%   5.89%\n",
      "[ 5, 5] 7864  94.11% 100.00% ##########\n",
      "\n",
      "Number of training obs by leaf:\n",
      "Count: 8356 Average: 8709.04 StdDev: 29606\n",
      "Min: 5 Max: 248066 Ignored: 0\n",
      "----------------------------------------------\n",
      "[      5,  12408) 7271  87.02%  87.02% ##########\n",
      "[  12408,  24811)  414   4.95%  91.97% #\n",
      "[  24811,  37214)  207   2.48%  94.45%\n",
      "[  37214,  49617)   92   1.10%  95.55%\n",
      "[  49617,  62020)   73   0.87%  96.42%\n",
      "[  62020,  74423)   59   0.71%  97.13%\n",
      "[  74423,  86826)   30   0.36%  97.49%\n",
      "[  86826,  99229)   25   0.30%  97.79%\n",
      "[  99229, 111632)   25   0.30%  98.09%\n",
      "[ 111632, 124036)   11   0.13%  98.22%\n",
      "[ 124036, 136439)   14   0.17%  98.38%\n",
      "[ 136439, 148842)   23   0.28%  98.66%\n",
      "[ 148842, 161245)   11   0.13%  98.79%\n",
      "[ 161245, 173648)    8   0.10%  98.89%\n",
      "[ 173648, 186051)    5   0.06%  98.95%\n",
      "[ 186051, 198454)    7   0.08%  99.03%\n",
      "[ 198454, 210857)    9   0.11%  99.14%\n",
      "[ 210857, 223260)   10   0.12%  99.26%\n",
      "[ 223260, 235663)   12   0.14%  99.40%\n",
      "[ 235663, 248066]   50   0.60% 100.00%\n",
      "\n",
      "Attribute in nodes:\n",
      "\t1067 : learner_country_group [CATEGORICAL]\n",
      "\t529 : learner_days_since_registration [NUMERICAL]\n",
      "\t423 : cnt_days_since_last_activity [NUMERICAL]\n",
      "\t403 : cnt_items_completed_before_payment_period [NUMERICAL]\n",
      "\t397 : days_since_last_payment [NUMERICAL]\n",
      "\t390 : specialization_domain [CATEGORICAL]\n",
      "\t364 : sum_hours_learning_before_payment_period [NUMERICAL]\n",
      "\t352 : cnt_courses_in_specialization [NUMERICAL]\n",
      "\t342 : sum_hours_learning_during_payment_period [NUMERICAL]\n",
      "\t336 : learner_other_revenue [NUMERICAL]\n",
      "\t326 : days_til_next_payment_due [NUMERICAL]\n",
      "\t314 : cnt_items_completed_during_payment_period [NUMERICAL]\n",
      "\t301 : learner_cnt_other_courses_items_completed [NUMERICAL]\n",
      "\t279 : cnt_graded_items_completed_before_payment_period [NUMERICAL]\n",
      "\t261 : subscription_period_order [NUMERICAL]\n",
      "\t259 : learner_cnt_other_courses_active [NUMERICAL]\n",
      "\t229 : cnt_graded_items_completed_during_payment_period [NUMERICAL]\n",
      "\t211 : cnt_enrollments_completed_during_payment_period [NUMERICAL]\n",
      "\t192 : cnt_enrollments_completed_before_payment_period [NUMERICAL]\n",
      "\t184 : learner_cnt_other_courses_paid_items_completed [NUMERICAL]\n",
      "\t167 : cnt_enrollments_started_before_payment_period [NUMERICAL]\n",
      "\t129 : learner_cnt_other_courses_paid_active [NUMERICAL]\n",
      "\t109 : learner_cnt_other_transactions_past [NUMERICAL]\n",
      "\t103 : cnt_enrollments_started_during_payment_period [NUMERICAL]\n",
      "\t102 : is_subscription_started_with_free_trial [CATEGORICAL]\n",
      "\t94 : is_gateway_certificate [CATEGORICAL]\n",
      "\t91 : cnt_enrollments_active_before_payment_period [NUMERICAL]\n",
      "\t78 : learner_gender [CATEGORICAL]\n",
      "\t31 : is_active_capstone_during_pay_period [CATEGORICAL]\n",
      "\n",
      "Attribute in nodes with depth <= 0:\n",
      "\t38 : subscription_period_order [NUMERICAL]\n",
      "\t19 : is_subscription_started_with_free_trial [CATEGORICAL]\n",
      "\t18 : learner_cnt_other_courses_active [NUMERICAL]\n",
      "\t18 : days_til_next_payment_due [NUMERICAL]\n",
      "\t18 : cnt_enrollments_started_during_payment_period [NUMERICAL]\n",
      "\t18 : cnt_enrollments_completed_during_payment_period [NUMERICAL]\n",
      "\t16 : cnt_enrollments_completed_before_payment_period [NUMERICAL]\n",
      "\t15 : days_since_last_payment [NUMERICAL]\n",
      "\t14 : learner_other_revenue [NUMERICAL]\n",
      "\t12 : specialization_domain [CATEGORICAL]\n",
      "\t11 : is_active_capstone_during_pay_period [CATEGORICAL]\n",
      "\t11 : cnt_enrollments_active_before_payment_period [NUMERICAL]\n",
      "\t9 : learner_gender [CATEGORICAL]\n",
      "\t9 : cnt_items_completed_during_payment_period [NUMERICAL]\n",
      "\t9 : cnt_days_since_last_activity [NUMERICAL]\n",
      "\t8 : learner_days_since_registration [NUMERICAL]\n",
      "\t8 : learner_cnt_other_courses_paid_items_completed [NUMERICAL]\n",
      "\t8 : cnt_items_completed_before_payment_period [NUMERICAL]\n",
      "\t8 : cnt_graded_items_completed_during_payment_period [NUMERICAL]\n",
      "\t6 : learner_cnt_other_courses_paid_active [NUMERICAL]\n",
      "\t6 : learner_cnt_other_courses_items_completed [NUMERICAL]\n",
      "\t4 : learner_country_group [CATEGORICAL]\n",
      "\t3 : cnt_courses_in_specialization [NUMERICAL]\n",
      "\t2 : sum_hours_learning_before_payment_period [NUMERICAL]\n",
      "\t2 : cnt_enrollments_started_before_payment_period [NUMERICAL]\n",
      "\t1 : sum_hours_learning_during_payment_period [NUMERICAL]\n",
      "\t1 : learner_cnt_other_transactions_past [NUMERICAL]\n",
      "\t1 : cnt_graded_items_completed_before_payment_period [NUMERICAL]\n",
      "\n",
      "Attribute in nodes with depth <= 1:\n",
      "\t61 : days_since_last_payment [NUMERICAL]\n",
      "\t60 : days_til_next_payment_due [NUMERICAL]\n",
      "\t55 : subscription_period_order [NUMERICAL]\n",
      "\t55 : learner_other_revenue [NUMERICAL]\n",
      "\t54 : learner_days_since_registration [NUMERICAL]\n",
      "\t51 : learner_country_group [CATEGORICAL]\n",
      "\t44 : cnt_items_completed_before_payment_period [NUMERICAL]\n",
      "\t42 : cnt_enrollments_completed_during_payment_period [NUMERICAL]\n",
      "\t37 : cnt_graded_items_completed_during_payment_period [NUMERICAL]\n",
      "\t31 : learner_cnt_other_courses_active [NUMERICAL]\n",
      "\t31 : cnt_enrollments_started_during_payment_period [NUMERICAL]\n",
      "\t29 : cnt_enrollments_completed_before_payment_period [NUMERICAL]\n",
      "\t27 : sum_hours_learning_during_payment_period [NUMERICAL]\n",
      "\t26 : cnt_days_since_last_activity [NUMERICAL]\n",
      "\t25 : is_subscription_started_with_free_trial [CATEGORICAL]\n",
      "\t24 : specialization_domain [CATEGORICAL]\n",
      "\t23 : cnt_items_completed_during_payment_period [NUMERICAL]\n",
      "\t23 : cnt_courses_in_specialization [NUMERICAL]\n",
      "\t22 : learner_cnt_other_courses_items_completed [NUMERICAL]\n",
      "\t20 : learner_cnt_other_courses_paid_items_completed [NUMERICAL]\n",
      "\t18 : sum_hours_learning_before_payment_period [NUMERICAL]\n",
      "\t17 : is_active_capstone_during_pay_period [CATEGORICAL]\n",
      "\t17 : cnt_graded_items_completed_before_payment_period [NUMERICAL]\n",
      "\t15 : learner_gender [CATEGORICAL]\n",
      "\t15 : learner_cnt_other_courses_paid_active [NUMERICAL]\n",
      "\t15 : cnt_enrollments_started_before_payment_period [NUMERICAL]\n",
      "\t14 : cnt_enrollments_active_before_payment_period [NUMERICAL]\n",
      "\t13 : learner_cnt_other_transactions_past [NUMERICAL]\n",
      "\t8 : is_gateway_certificate [CATEGORICAL]\n",
      "\n",
      "Attribute in nodes with depth <= 2:\n",
      "\t188 : learner_country_group [CATEGORICAL]\n",
      "\t126 : learner_days_since_registration [NUMERICAL]\n",
      "\t109 : days_since_last_payment [NUMERICAL]\n",
      "\t100 : learner_other_revenue [NUMERICAL]\n",
      "\t100 : days_til_next_payment_due [NUMERICAL]\n",
      "\t99 : cnt_items_completed_before_payment_period [NUMERICAL]\n",
      "\t90 : subscription_period_order [NUMERICAL]\n",
      "\t90 : cnt_days_since_last_activity [NUMERICAL]\n",
      "\t80 : cnt_graded_items_completed_during_payment_period [NUMERICAL]\n",
      "\t79 : sum_hours_learning_before_payment_period [NUMERICAL]\n",
      "\t78 : sum_hours_learning_during_payment_period [NUMERICAL]\n",
      "\t75 : cnt_courses_in_specialization [NUMERICAL]\n",
      "\t71 : specialization_domain [CATEGORICAL]\n",
      "\t71 : cnt_enrollments_completed_during_payment_period [NUMERICAL]\n",
      "\t69 : learner_cnt_other_courses_active [NUMERICAL]\n",
      "\t67 : learner_cnt_other_courses_items_completed [NUMERICAL]\n",
      "\t60 : cnt_items_completed_during_payment_period [NUMERICAL]\n",
      "\t54 : cnt_enrollments_completed_before_payment_period [NUMERICAL]\n",
      "\t52 : cnt_graded_items_completed_before_payment_period [NUMERICAL]\n",
      "\t49 : is_subscription_started_with_free_trial [CATEGORICAL]\n",
      "\t45 : cnt_enrollments_started_during_payment_period [NUMERICAL]\n",
      "\t42 : learner_cnt_other_courses_paid_items_completed [NUMERICAL]\n",
      "\t41 : learner_cnt_other_courses_paid_active [NUMERICAL]\n",
      "\t33 : cnt_enrollments_started_before_payment_period [NUMERICAL]\n",
      "\t26 : learner_gender [CATEGORICAL]\n",
      "\t26 : learner_cnt_other_transactions_past [NUMERICAL]\n",
      "\t26 : cnt_enrollments_active_before_payment_period [NUMERICAL]\n",
      "\t23 : is_active_capstone_during_pay_period [CATEGORICAL]\n",
      "\t20 : is_gateway_certificate [CATEGORICAL]\n",
      "\n",
      "Attribute in nodes with depth <= 3:\n",
      "\t501 : learner_country_group [CATEGORICAL]\n",
      "\t256 : learner_days_since_registration [NUMERICAL]\n",
      "\t220 : days_since_last_payment [NUMERICAL]\n",
      "\t206 : cnt_items_completed_before_payment_period [NUMERICAL]\n",
      "\t204 : cnt_days_since_last_activity [NUMERICAL]\n",
      "\t195 : learner_other_revenue [NUMERICAL]\n",
      "\t181 : cnt_courses_in_specialization [NUMERICAL]\n",
      "\t177 : specialization_domain [CATEGORICAL]\n",
      "\t166 : sum_hours_learning_before_payment_period [NUMERICAL]\n",
      "\t162 : days_til_next_payment_due [NUMERICAL]\n",
      "\t160 : cnt_items_completed_during_payment_period [NUMERICAL]\n",
      "\t153 : sum_hours_learning_during_payment_period [NUMERICAL]\n",
      "\t153 : subscription_period_order [NUMERICAL]\n",
      "\t149 : learner_cnt_other_courses_items_completed [NUMERICAL]\n",
      "\t140 : cnt_graded_items_completed_during_payment_period [NUMERICAL]\n",
      "\t133 : learner_cnt_other_courses_active [NUMERICAL]\n",
      "\t127 : cnt_enrollments_completed_during_payment_period [NUMERICAL]\n",
      "\t124 : cnt_graded_items_completed_before_payment_period [NUMERICAL]\n",
      "\t103 : cnt_enrollments_completed_before_payment_period [NUMERICAL]\n",
      "\t86 : cnt_enrollments_started_before_payment_period [NUMERICAL]\n",
      "\t84 : learner_cnt_other_courses_paid_items_completed [NUMERICAL]\n",
      "\t75 : cnt_enrollments_started_during_payment_period [NUMERICAL]\n",
      "\t71 : learner_cnt_other_courses_paid_active [NUMERICAL]\n",
      "\t67 : learner_cnt_other_transactions_past [NUMERICAL]\n",
      "\t66 : is_subscription_started_with_free_trial [CATEGORICAL]\n",
      "\t51 : cnt_enrollments_active_before_payment_period [NUMERICAL]\n",
      "\t48 : learner_gender [CATEGORICAL]\n",
      "\t45 : is_gateway_certificate [CATEGORICAL]\n",
      "\t28 : is_active_capstone_during_pay_period [CATEGORICAL]\n",
      "\n",
      "Attribute in nodes with depth <= 5:\n",
      "\t1067 : learner_country_group [CATEGORICAL]\n",
      "\t529 : learner_days_since_registration [NUMERICAL]\n",
      "\t423 : cnt_days_since_last_activity [NUMERICAL]\n",
      "\t403 : cnt_items_completed_before_payment_period [NUMERICAL]\n",
      "\t397 : days_since_last_payment [NUMERICAL]\n",
      "\t390 : specialization_domain [CATEGORICAL]\n",
      "\t364 : sum_hours_learning_before_payment_period [NUMERICAL]\n",
      "\t352 : cnt_courses_in_specialization [NUMERICAL]\n",
      "\t342 : sum_hours_learning_during_payment_period [NUMERICAL]\n",
      "\t336 : learner_other_revenue [NUMERICAL]\n",
      "\t326 : days_til_next_payment_due [NUMERICAL]\n",
      "\t314 : cnt_items_completed_during_payment_period [NUMERICAL]\n",
      "\t301 : learner_cnt_other_courses_items_completed [NUMERICAL]\n",
      "\t279 : cnt_graded_items_completed_before_payment_period [NUMERICAL]\n",
      "\t261 : subscription_period_order [NUMERICAL]\n",
      "\t259 : learner_cnt_other_courses_active [NUMERICAL]\n",
      "\t229 : cnt_graded_items_completed_during_payment_period [NUMERICAL]\n",
      "\t211 : cnt_enrollments_completed_during_payment_period [NUMERICAL]\n",
      "\t192 : cnt_enrollments_completed_before_payment_period [NUMERICAL]\n",
      "\t184 : learner_cnt_other_courses_paid_items_completed [NUMERICAL]\n",
      "\t167 : cnt_enrollments_started_before_payment_period [NUMERICAL]\n",
      "\t129 : learner_cnt_other_courses_paid_active [NUMERICAL]\n",
      "\t109 : learner_cnt_other_transactions_past [NUMERICAL]\n",
      "\t103 : cnt_enrollments_started_during_payment_period [NUMERICAL]\n",
      "\t102 : is_subscription_started_with_free_trial [CATEGORICAL]\n",
      "\t94 : is_gateway_certificate [CATEGORICAL]\n",
      "\t91 : cnt_enrollments_active_before_payment_period [NUMERICAL]\n",
      "\t78 : learner_gender [CATEGORICAL]\n",
      "\t31 : is_active_capstone_during_pay_period [CATEGORICAL]\n",
      "\n",
      "Condition type in nodes:\n",
      "\t6301 : HigherCondition\n",
      "\t1762 : ContainsBitmapCondition\n",
      "Condition type in nodes with depth <= 0:\n",
      "\t238 : HigherCondition\n",
      "\t55 : ContainsBitmapCondition\n",
      "Condition type in nodes with depth <= 1:\n",
      "\t732 : HigherCondition\n",
      "\t140 : ContainsBitmapCondition\n",
      "Condition type in nodes with depth <= 2:\n",
      "\t1612 : HigherCondition\n",
      "\t377 : ContainsBitmapCondition\n",
      "Condition type in nodes with depth <= 3:\n",
      "\t3266 : HigherCondition\n",
      "\t865 : ContainsBitmapCondition\n",
      "Condition type in nodes with depth <= 5:\n",
      "\t6301 : HigherCondition\n",
      "\t1762 : ContainsBitmapCondition\n",
      "\n",
      "Training logs:\n",
      "Number of iteration to final model: 293\n",
      "\tIter:1 train-loss:1.351067 valid-loss:1.350847  train-accuracy:0.544641 valid-accuracy:0.544045\n",
      "\tIter:2 train-loss:1.328193 valid-loss:1.327733  train-accuracy:0.623305 valid-accuracy:0.625177\n",
      "\tIter:3 train-loss:1.309550 valid-loss:1.308774  train-accuracy:0.644000 valid-accuracy:0.646169\n",
      "\tIter:4 train-loss:1.293415 valid-loss:1.292511  train-accuracy:0.651960 valid-accuracy:0.654310\n",
      "\tIter:5 train-loss:1.280196 valid-loss:1.279129  train-accuracy:0.664856 valid-accuracy:0.666642\n",
      "\tIter:6 train-loss:1.268661 valid-loss:1.267344  train-accuracy:0.666769 valid-accuracy:0.668962\n",
      "\tIter:16 train-loss:1.211751 valid-loss:1.209855  train-accuracy:0.677325 valid-accuracy:0.679253\n",
      "\tIter:26 train-loss:1.189573 valid-loss:1.187966  train-accuracy:0.683715 valid-accuracy:0.685582\n",
      "\tIter:36 train-loss:1.178149 valid-loss:1.177566  train-accuracy:0.686622 valid-accuracy:0.688855\n",
      "\tIter:46 train-loss:1.169885 valid-loss:1.170583  train-accuracy:0.689565 valid-accuracy:0.690486\n",
      "\tIter:56 train-loss:1.164229 valid-loss:1.166069  train-accuracy:0.690894 valid-accuracy:0.691911\n",
      "\tIter:66 train-loss:1.160192 valid-loss:1.163232  train-accuracy:0.692017 valid-accuracy:0.692986\n",
      "\tIter:76 train-loss:1.157074 valid-loss:1.161315  train-accuracy:0.692661 valid-accuracy:0.693493\n",
      "\tIter:86 train-loss:1.154064 valid-loss:1.159485  train-accuracy:0.693833 valid-accuracy:0.694810\n",
      "\tIter:96 train-loss:1.151581 valid-loss:1.158206  train-accuracy:0.694634 valid-accuracy:0.694810\n",
      "\tIter:106 train-loss:1.148974 valid-loss:1.156803  train-accuracy:0.695580 valid-accuracy:0.694991\n",
      "\tIter:116 train-loss:1.146846 valid-loss:1.155800  train-accuracy:0.696398 valid-accuracy:0.694834\n",
      "\tIter:126 train-loss:1.144974 valid-loss:1.155156  train-accuracy:0.696917 valid-accuracy:0.694931\n",
      "\tIter:136 train-loss:1.142940 valid-loss:1.154248  train-accuracy:0.697541 valid-accuracy:0.695547\n",
      "\tIter:146 train-loss:1.141700 valid-loss:1.153867  train-accuracy:0.698004 valid-accuracy:0.695631\n",
      "\tIter:156 train-loss:1.140088 valid-loss:1.153427  train-accuracy:0.698753 valid-accuracy:0.695607\n",
      "\tIter:166 train-loss:1.138829 valid-loss:1.153088  train-accuracy:0.699212 valid-accuracy:0.695522\n",
      "\tIter:176 train-loss:1.137354 valid-loss:1.152674  train-accuracy:0.699784 valid-accuracy:0.695897\n",
      "\tIter:186 train-loss:1.136143 valid-loss:1.152285  train-accuracy:0.700070 valid-accuracy:0.695824\n",
      "\tIter:196 train-loss:1.134751 valid-loss:1.152014  train-accuracy:0.700645 valid-accuracy:0.695643\n",
      "\tIter:206 train-loss:1.133510 valid-loss:1.151755  train-accuracy:0.700976 valid-accuracy:0.695824\n",
      "\tIter:216 train-loss:1.132074 valid-loss:1.151463  train-accuracy:0.701563 valid-accuracy:0.695824\n",
      "\tIter:226 train-loss:1.130747 valid-loss:1.151245  train-accuracy:0.701962 valid-accuracy:0.695547\n",
      "\tIter:236 train-loss:1.129728 valid-loss:1.151232  train-accuracy:0.702369 valid-accuracy:0.695498\n",
      "\tIter:246 train-loss:1.128683 valid-loss:1.150977  train-accuracy:0.702743 valid-accuracy:0.695378\n",
      "\tIter:256 train-loss:1.127526 valid-loss:1.150924  train-accuracy:0.703375 valid-accuracy:0.695438\n",
      "\tIter:266 train-loss:1.126121 valid-loss:1.150715  train-accuracy:0.703818 valid-accuracy:0.695583\n",
      "\tIter:276 train-loss:1.125183 valid-loss:1.150513  train-accuracy:0.704188 valid-accuracy:0.695390\n",
      "\tIter:286 train-loss:1.124174 valid-loss:1.150562  train-accuracy:0.704571 valid-accuracy:0.695426\n",
      "\tIter:296 train-loss:1.122971 valid-loss:1.150502  train-accuracy:0.705014 valid-accuracy:0.695607\n",
      "\n"
     ]
    }
   ],
   "source": [
    "gbt_model.summary()"
   ]
  },
  {
   "cell_type": "code",
   "execution_count": 21,
   "id": "c7076110",
   "metadata": {},
   "outputs": [
    {
     "name": "stdout",
     "output_type": "stream",
     "text": [
      "83/83 [==============================] - 3s 31ms/step\n"
     ]
    },
    {
     "data": {
      "text/plain": [
       "{'accuracy': 0.6955586959935258,\n",
       " 'precision': 0.7063903281519862,\n",
       " 'recall': 0.7536743483859509,\n",
       " 'f1': 0.7292666945939269,\n",
       " 'roc_auc': 0.6899448061832268}"
      ]
     },
     "execution_count": 21,
     "metadata": {},
     "output_type": "execute_result"
    }
   ],
   "source": [
    "computeMetrics(gbt_model, val_ds, label)"
   ]
  },
  {
   "cell_type": "code",
   "execution_count": 27,
   "id": "005f6955",
   "metadata": {},
   "outputs": [
    {
     "name": "stdout",
     "output_type": "stream",
     "text": [
      "83/83 [==============================] - 3s 41ms/step\n"
     ]
    },
    {
     "data": {
      "text/plain": [
       "{'accuracy': 0.6953050452343854,\n",
       " 'precision': 0.7059960913135681,\n",
       " 'recall': 0.7538963633941654,\n",
       " 'f1': 0.7291604036933648,\n",
       " 'roc_auc': 0.6896452067838399}"
      ]
     },
     "execution_count": 27,
     "metadata": {},
     "output_type": "execute_result"
    }
   ],
   "source": [
    "computeMetrics(gbt_model, val_ds, label)"
   ]
  },
  {
   "cell_type": "code",
   "execution_count": null,
   "id": "6b86a222",
   "metadata": {},
   "outputs": [],
   "source": []
  },
  {
   "cell_type": "code",
   "execution_count": null,
   "id": "83ef1b2d",
   "metadata": {},
   "outputs": [],
   "source": []
  },
  {
   "cell_type": "code",
   "execution_count": null,
   "id": "6e2cb408",
   "metadata": {},
   "outputs": [],
   "source": []
  },
  {
   "cell_type": "code",
   "execution_count": null,
   "id": "7f638dcb",
   "metadata": {},
   "outputs": [],
   "source": []
  },
  {
   "cell_type": "code",
   "execution_count": null,
   "id": "f298f75a",
   "metadata": {},
   "outputs": [],
   "source": []
  },
  {
   "cell_type": "code",
   "execution_count": null,
   "id": "34fafe4a",
   "metadata": {},
   "outputs": [],
   "source": []
  },
  {
   "cell_type": "code",
   "execution_count": null,
   "id": "5c5a0c7b",
   "metadata": {},
   "outputs": [],
   "source": []
  }
 ],
 "metadata": {
  "kernelspec": {
   "display_name": "Python 3 (ipykernel)",
   "language": "python",
   "name": "python3"
  },
  "language_info": {
   "codemirror_mode": {
    "name": "ipython",
    "version": 3
   },
   "file_extension": ".py",
   "mimetype": "text/x-python",
   "name": "python",
   "nbconvert_exporter": "python",
   "pygments_lexer": "ipython3",
   "version": "3.9.18"
  }
 },
 "nbformat": 4,
 "nbformat_minor": 5
}
